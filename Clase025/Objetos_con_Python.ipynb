{
 "cells": [
  {
   "cell_type": "markdown",
   "metadata": {},
   "source": [
    "# Objetos con Python"
   ]
  },
  {
   "cell_type": "markdown",
   "metadata": {},
   "source": [
    "Hasta ahora hemos visto funciones para manipular datos. Ahora vamos a combinar los datos y su tratamiento en un paquete denominado clase.\n",
    "\n",
    "Una clase es la definición de un modelo abstracto que tiene características y métodos relacionados entre sí.\n",
    "\n",
    "Cuando definimos una clase, describimos un modelo con los datos y las funciones que actuarán sobre esos datos, estructuramos así, unas propiedades y un comportamiento. Una clase no ocupa ningún espacio (si obviamos que el código fuete ocupa un espacio) en la memoria del ordenador. Tendremos que crear un objeto a partir de esa clase para poder almacenar y manipular los datos.\n",
    "\n",
    "Los objetos, no sólo representan los datos, sino también la estructura general de tratamiento de esos datos.\n",
    "\n",
    "Cuando se realiza un diseño orientado a objeto el primer paso es determinar cuáles son los objetos que vamos a tener, después estableceremos las operaciones que se podrán realizar sobre ellos.\n",
    "\n",
    "La programación orientada a objetos posee tres características fundamentales: encapsulación, herencia y polimorfismo.\n",
    "\n",
    ">__La herencia__ es un mecanismo de abstracción consistente en la capacidad de derivar nuevas clases a partir de otras ya existentes. Las clases que derivan de otras heredan automáticamente todo su comportamiento, pero además pueden introducir características particulares propias que las diferencian. Las clases derivadas o subclases proporcionan comportamientos especializados a partir de los elementos comunes que hereda de la clase base. La herencia ofrece la capacidad de reutilizar código.\n",
    "\n",
    ">__La encapsulación__ es un mecanismo de control. Los datos de un objeto sólo deben poder ser modificados por medio de un método de ese objeto. Un cliente nunca debe ser capaz de acceder al estado de un objeto directamente. La modificación de un atributo debe realizarse por medio de un método y la consulta del valor de un atributo debe realizarse por medio de un método especialmente dedicado para ello. De esta forma se implementa el ocultamiento de información y se reduce el impacto de efectos colaterales provenientes de cambios incontrolados sobre los datos.\n",
    "\n",
    ">__El polimorfismo__ permite que diferentes objetos puedan responder al mismo mensaje en diferentes formas. Implica la posibilidad de usar una sola referencia para tratar a varios objetos relacionados jerárquicamente.\n",
    "Después de esta brevísima introducción a la orientación a objetos vamos a ver que ofrece Python, lenguaje que se ha concebido desde su origen sobre el paradigma de la orientación a objetos.\n",
    "\n",
    "### Orientación a objetos\n",
    "Cada objeto tiene un tipo y un valor. El tipo de un objeto es inmutable, determina las operaciones que admite el objeto y define los valores posibles para los objetos de ese tipo. El valor de algunos objetos puede cambiar y define el estado del objeto en un momento determinado.\n",
    "\n",
    "### Clases\n",
    "Una clase es un modelo abstracto que define un objeto. La clase define las características de los miembros, compuestos por atributos (campos o variables de clase), y métodos (las funciones), de los que van a disponer todos los objetos que construyamos a partir de la clase. Así, el tipo de dato de un objeto es la clase que define las características del mismo.\n",
    "\n",
    "Una clase se declara de la forma:\n",
    "\n",
    "class <nombre_clase>:\n",
    "    <declaraciones>\n",
    "El cuerpo de la clase debe llevar la sangría correspondiente.\n",
    "\n",
    "En la práctica, las declaraciones dentro de una clase son definiciones de variables, los atributos de la clase y definiciones de funciones, los métodos de la clase\n",
    "    \n",
    "> __PEP 8: Clases__\n",
    "> Los nombres de las clases se definen en singular.\n",
    "> Deben empezar con mayúscula y emplear la notación camello.\n",
    "    "
   ]
  },
  {
   "cell_type": "markdown",
   "metadata": {},
   "source": [
    "### Propiedades\n",
    "Los campos, atributos o propiedades son los datos contenidos en una clase. Pueden ser tipos de datos básicos o estructuras más complejas, como objetos de otras clases.\n",
    "\n",
    "Los campos pueden pertenecer a cada objeto de la clase o pueden pertenecer a la clase misma. Se denominan variables de instancia y variables de clase respectivamente.\n",
    "\n",
    ">__PEP 8: Propiedades__\n",
    ">Los nombres de las propiedades siguen las mismas reglas de estilo que las variables.\n",
    "\n",
    "### Métodos\n",
    "Los métodos son las operaciones que se realizan sobre los datos contenidos en un objeto, describen el comportamiento de los objetos de una clase.\n",
    "\n",
    "Los métodos tienen la misma sintaxis que las funciones, excepto que deben llevar un parámetro extra al principio de la lista de parámetros que hace referencia al objeto actual, a la instancia actual de la clase. Por convención se denomina self. No es una palabra reservada, pero como todo el mundo la usa.\n",
    "\n",
    "def <nombre_método>(self[, <parámetros>]):\n",
    "    <sentencias>\n",
    "No es necesario que incluyamos self en la llamada a los métodos. Python se encarga de añadir el argumento self a la relación de argumentos cuando usamos un método.\n",
    "\n",
    "Al referimos a las variables dentro de una clase, estas deben estar precedidas por self. El propósito es distinguir las variables de la clase de otras variables del programa.\n",
    "\n",
    ">__PEP 8: Métodos__\n",
    ">Los nombres de los métodos siguen las mismas reglas de estilo que las funciones.\n",
    ">Usar siempre self para el primer argumento de los métodos de instancia.\n",
    ">Usar siempre cls para el primer argumento de los métodos de clase.\n"
   ]
  },
  {
   "cell_type": "markdown",
   "metadata": {},
   "source": [
    "### Constructor\n",
    "El constructor es un método especial de la clase, es el método de inicialización que Python llama cuando se crea una nueva instancia de esa clase.\n",
    "\n",
    "La función básica del constructor es inicializar los miembros del objeto recién creado.\n",
    "\n",
    "La ejecución del constructor siempre se realiza después de la inicialización de los campos del objeto con los valores que se hayan especificado.\n",
    "\n",
    "Tiene como nombre __ init__(), y su sintaxis es:\n",
    "\n",
    "def __ init__(self[, <parámetros>]):\n",
    "    <sentencias>\n",
    "\n",
    "Como ocurre en todas las funciones, los parámetros pueden especificarse con valores por defecto."
   ]
  },
  {
   "cell_type": "code",
   "execution_count": 2,
   "metadata": {},
   "outputs": [],
   "source": [
    "class Punto:\n",
    "    \"\"\"Clase que define un punto en un espacio bidimensional\"\"\"\n",
    "\n",
    "    # constructor\n",
    "    def __init__(self, x=0, y=0)->None:\n",
    "        self.x = x\n",
    "        self.y = y\n",
    "\n",
    "    # método para incrementar el valor del punto\n",
    "    def incremento(self, a, b)->None:\n",
    "        self.x += a\n",
    "        self.y += b\n",
    "    \n",
    "    def __str__(self)->str:\n",
    "        return f'({self.x},{self.y})'"
   ]
  },
  {
   "cell_type": "markdown",
   "metadata": {},
   "source": [
    "En nuestra clase Punto, el constructor guarda los argumentos que recibe en las variables de instancia self.x y self.y, que por defecto tendrán el valor 0. La clase nos proporciona el método incremento() para incrementar las variables x e y con los valores indicados.\n",
    "\n",
    "### Objeto\n",
    "Una clase es un modelo abstracto. Un objeto es la realización de esa clase, una instancia única. Comprende tanto miembros de datos como métodos.\n",
    "\n",
    "Los objetos se crean como una nueva instancia de la clase, usando la notación de funciones, pasando los argumentos que requiera el método __init__(), y se referencian mediante un identificador.\n",
    "\n",
    "variable_objeto = nombre_clase([<parámetros>])\n",
    "\n",
    "Cada objeto tiene una identidad, un tipo y un valor. La identidad del objeto nunca cambia una vez creado. El tipo de un objeto determina las operaciones que admite.\n",
    "\n",
    "La inicialización proporciona el valor inicial del objeto.\n",
    "\n",
    "Al conjunto de datos relacionados con un objeto en un momento dado se le conoce como estado del objeto. Un objeto puede tener múltiples estados a lo largo de su existencia conforme se relaciona con su entorno y otros objetos.\n",
    "\n",
    "Para acceder a los atributos y métodos del objeto se usa el operador punto (.) utilizando el nombre que se haya empleado en la creación del objeto y la propiedad o método que deseemos usar.\n",
    "\n",
    "variable_objeto.atributo\n",
    "\n",
    "variable_objeto.metodo([parámetros])\n",
    "\n",
    "En el caso de que la clase esté definida en un módulo aparte ha de incluirse previamente con la sentencia import.\n",
    "\n",
    "Siguiendo con la clase Punto, que hemos definido más arriba, vamos a crear un objeto de tipo Punto y a usar sus atributos y método."
   ]
  },
  {
   "cell_type": "code",
   "execution_count": 3,
   "metadata": {},
   "outputs": [
    {
     "name": "stdout",
     "output_type": "stream",
     "text": [
      "p: (1,3)\n",
      "p: (2,7)\n"
     ]
    }
   ],
   "source": [
    "p = Punto(1,3)\n",
    "print('p:',p)\n",
    "p.incremento(1,4)\n",
    "print('p:',p)"
   ]
  },
  {
   "cell_type": "markdown",
   "metadata": {},
   "source": [
    "__Las variables de clase__ son compartidas por todas las instancias de esa clase. Sólo hay una copia de la variable de clase y cuando cualquier objeto hace un cambio en una variable de clase, ese cambio será visto por todas las demás instancias.\n",
    "\n",
    "__Las variables de instancia__ son propiedad de cada objeto o instancia individual de la clase. En este caso, cada objeto tiene su propia copia del campo, no se comparten y no están relacionados de ninguna manera con el campo del mismo nombre en una instancia diferente.\n",
    "\n",
    ">__En Python no hay variables privadas de instancia, que solo se puedan acceder desde dentro del objeto, como ocurre en otros lenguajes.__\n",
    "\n",
    "Vamos a incluir en nuestro ejemplo de la clase Punto una variable a nivel de la clase.\n"
   ]
  },
  {
   "cell_type": "code",
   "execution_count": 4,
   "metadata": {},
   "outputs": [],
   "source": [
    "class Punto:\n",
    "    # variable de clase\n",
    "    punto_inicial = [0, 0]\n",
    "\n",
    "    # constructor\n",
    "    def __init__(self, x, y):\n",
    "        self.x = x\n",
    "        self.y = y\n",
    "        self.punto_inicial[0] = x\n",
    "        self.punto_inicial[1] = y    \n",
    "\n",
    "    # método para incrementar el valor del punto\n",
    "    def incremento(self, a, b)->None:\n",
    "        self.x += a\n",
    "        self.y += b\n",
    "    \n",
    "    def __str__(self)->str:\n",
    "        return f'({self.x},{self.y})'\n"
   ]
  },
  {
   "cell_type": "markdown",
   "metadata": {},
   "source": [
    "Si creamos dos objetos de la clase Punto y verificamos los valores de las variables de instancia y variables de clase."
   ]
  },
  {
   "cell_type": "code",
   "execution_count": 5,
   "metadata": {},
   "outputs": [
    {
     "name": "stdout",
     "output_type": "stream",
     "text": [
      "p1: (1,2)\n",
      "Punto inicial p1 = 1,2\n",
      "p2: (8,9)\n",
      "Punto inicial p2 = 8,9\n",
      "Punto inicial p1 = 8,9\n"
     ]
    }
   ],
   "source": [
    "p1 = Punto(1, 2)\n",
    "print(\"p1:\",p1)\n",
    "\n",
    "print(f\"Punto inicial p1 = {p1.punto_inicial[0]},{p1. punto_inicial[1]}\")\n",
    "\n",
    "p2 = Punto(8, 9)\n",
    "print(\"p2:\",p2)\n",
    "print(f\"Punto inicial p2 = {p2.punto_inicial[0]},{p2. punto_inicial[1]}\")\n",
    "print(f\"Punto inicial p1 = {p1.punto_inicial[0]},{p1. punto_inicial[1]}\")"
   ]
  },
  {
   "cell_type": "markdown",
   "metadata": {},
   "source": [
    "Lo que nos muestra que el atributo punto_inicial es común para todas las instancias de la clase.\n",
    "\n",
    "Si queremos que cada instancia de la clase Punto registre el punto con el que fue creado el objeto, la forma correcta de diseñar la clase sería con una variable de instancia."
   ]
  },
  {
   "cell_type": "code",
   "execution_count": 6,
   "metadata": {},
   "outputs": [],
   "source": [
    "class Punto:\n",
    "    # constructor\n",
    "    def __init__(self, x, y):\n",
    "        self.x = x\n",
    "        self.y = y\n",
    "        self.punto_inicial = []\n",
    "        self.punto_inicial.append(x)\n",
    "        self.punto_inicial.append(y)"
   ]
  },
  {
   "cell_type": "markdown",
   "metadata": {},
   "source": [
    "__Cadena de documentación__\n",
    "\n",
    "La primera cadena después de la cabecera de la clase se conoce como cadena de documentación (docstring). Se utiliza para explicar brevemente en qué consiste la clase. Es recomendable usar comillas triples para que el texto se pueda extender por varias líneas.\n",
    "\n",
    "La cadena de documentación es accesible empleando el atributo __doc__ de la clase."
   ]
  },
  {
   "cell_type": "code",
   "execution_count": 7,
   "metadata": {},
   "outputs": [],
   "source": [
    "class Punto:\n",
    "    \"\"\"Clase que define un punto en un espacio bidimensional\"\"\"\n",
    "    pass"
   ]
  },
  {
   "cell_type": "markdown",
   "metadata": {},
   "source": [
    "Aunque es opcional, la documentación es una buena práctica de programación.\n",
    "\n",
    "### Herencia\n",
    "La herencia es un mecanismo de reusabilidad y extensibilidad que permite definir nuevas clases a partir de otras ya existentes y ampliar sus capacidades añadiendo nuevas características en la clase derivada si es necesario. Podemos decir que una clase derivada es una clase más especializada.\n",
    "\n",
    "Hacer cambios en la lógica del programa en lugar de reescribir código, facilita la reutilización y extensión del código.\n",
    "\n",
    "En Python la sintaxis para definir la herencia de una clase es:\n",
    "\n",
    "class nombre_clase(clase_base):  \n",
    "    declaraciones\n",
    "\n",
    "En la terminología orientada a objetos, la clase de la que se hereda se denomina superclase o clase base y la clase que hereda subclase o clase derivada. También es frecuente hablar de clases padre e hijo.\n",
    "\n",
    "La herencia ofrece automáticamente la reutilización del código ya que la clase derivada dispone de todo lo que ofrece la clase base.\n",
    "\n",
    "En el momento de instanciar una clase que derive de otra se procede teniendo en cuenta a la clase base. Esto se usa para resolver referencias a atributos, si un atributo solicitado no se encuentra en la clase derivada, la búsqueda continúa por la clase base.\n",
    "\n",
    "Vamos a definir dos clases: Padre e Hijo, donde la clase Hijo hereda de la clase Padre."
   ]
  },
  {
   "cell_type": "code",
   "execution_count": 8,
   "metadata": {},
   "outputs": [],
   "source": [
    "class Padre:\n",
    "    def __init__(self, dato):\n",
    "        self.pdato = dato\n",
    "        print(\"Constructor del padre\")\n",
    "\n",
    "    def test(self):\n",
    "        print(f\"Método del padre: {self.pdato}\")\n",
    "\n",
    "class Hijo(Padre):\n",
    "    def __init__(self, dato):\n",
    "        print(\"Constructor del hijo\")\n",
    "        super().__init__(dato * 2)\n",
    "        self.hdato = dato\n",
    "        \n",
    "        "
   ]
  },
  {
   "cell_type": "markdown",
   "metadata": {},
   "source": [
    "Creamos sendos objeto de las clases Padre e Hijo y ejecutamos el método test(), heredado de la clase Padre."
   ]
  },
  {
   "cell_type": "code",
   "execution_count": 9,
   "metadata": {},
   "outputs": [
    {
     "name": "stdout",
     "output_type": "stream",
     "text": [
      "Constructor del padre\n",
      "Método del padre: 987\n",
      "Constructor del hijo\n",
      "Constructor del padre\n",
      "Método del padre: 246\n"
     ]
    }
   ],
   "source": [
    "p = Padre(987)\n",
    "p.test()\n",
    "h = Hijo(123)\n",
    "h.test()"
   ]
  },
  {
   "cell_type": "markdown",
   "metadata": {},
   "source": [
    "Podemos ver como al llamar desde el método del hijo al método del padre, el valor del atributo pdato ha cambiado, cambio que habíamos realizado desde la inicialización del hijo.\n",
    "\n",
    "Si vemos las propiedades y métodos de los objetos p y h, podemos comprobar que el hijo dispone del atributo pdato y del método test() que no están definidos en la clase Hijo, pero ha heredado de la superclase Padre."
   ]
  },
  {
   "cell_type": "code",
   "execution_count": 10,
   "metadata": {},
   "outputs": [
    {
     "name": "stdout",
     "output_type": "stream",
     "text": [
      "dir(p): ['pdato', 'test']\n",
      "\n",
      "dir(h): ['hdato', 'pdato', 'test']\n"
     ]
    }
   ],
   "source": [
    "print(f'dir(p): {[x for x in dir(p) if not x.startswith(\"_\")]}')\n",
    "print()\n",
    "print(f'dir(h): {[x for x in dir(h) if not x.startswith(\"_\")]}')"
   ]
  },
  {
   "cell_type": "markdown",
   "metadata": {},
   "source": [
    "Las funciones integradas isinstance() e issubclass() se utilizan para comprobar la relación de clases e instancias.\n",
    "\n",
    "__isinstance()__ verifica si un objeto es una instancia de una clase\n",
    "\n",
    "__issubclass()__ verifica si un objeto es una subclase de una clase. Una clase se considera siempre una subclase de sí misma.\n",
    "\n",
    "Continuando con las clases Padre e Hijo del ejemplo anterior."
   ]
  },
  {
   "cell_type": "code",
   "execution_count": null,
   "metadata": {},
   "outputs": [],
   "source": [
    "h = Hijo(123)\n",
    "p = Padre(987)\n",
    "# test instancias\n",
    "print(f'isinstance(h, Padre) {isinstance(h, Padre)}')\n",
    "print(f'isinstance(p, Hijo) {isinstance(p, Hijo)}')\n",
    "# test sub clases\n",
    "print(f'issubclass(Hijo, Padre) {issubclass(Hijo, Padre)}')\n",
    "print(f'issubclass(Padre, Hijo) {issubclass(Padre, Hijo)}')\n",
    "print(f'issubclass(Hijo, Hijo) {issubclass(Hijo, Hijo)}')"
   ]
  },
  {
   "cell_type": "markdown",
   "metadata": {},
   "source": [
    ">__PEP 8: Herencia__\n",
    "Decida siempre si los métodos y los atributos de instancia de una clase deben ser públicos o no públicos. En caso de duda es mejor hacerlos __no públicos__. Hacerlos públicos posteriormente es más sencillo que lo contrario."
   ]
  },
  {
   "cell_type": "markdown",
   "metadata": {},
   "source": [
    "### Sustitución de métodos en la herencia\n",
    "La sustitución (overriding) de métodos es una parte del mecanismo de herencia que permite a una clase derivada cambiar el código de un método proporcionado por una clase base. De esta forma se puede mejorar o personalizar parte del código de los métodos de la superclase.\n",
    "\n",
    "En Python la sustitución se produce simplemente definiendo en la clase hija un método con el mismo nombre de un método de la clase padre. Al definir un método de esta forma en la llamada al método desde el objeto del hijo se ejecuta ese nuevo método y no el de sus ancestros.\n",
    "\n",
    "En este caso el método de la clase base se anula, pero el método está ahí y podemos acceder a él llamándolo explícitamente, haciendo uso de la función incorporada super().\n",
    "\n",
    "super().método()\n",
    "\n",
    "O mediante el nombre de la superclase.\n",
    "\n",
    "clase_base.método>(self)\n",
    "\n",
    "Este segundo método es útil en el caso de herencia múltiple, para referirnos a uno determinado.\n",
    "\n",
    "Vamos a modificar un poco nuestras clase Padre e Hijo."
   ]
  },
  {
   "cell_type": "code",
   "execution_count": null,
   "metadata": {},
   "outputs": [],
   "source": [
    "class Padre:\n",
    "    def __init__(self, dato):\n",
    "        self.pdato = dato\n",
    "        print(\"Constructor del padre\")\n",
    "\n",
    "    def test(self):\n",
    "        print(f\"Método del padre: {self.pdato}\")\n",
    "\n",
    "class Hijo(Padre):\n",
    "    def __init__(self, dato):\n",
    "        self.hdato = dato\n",
    "        print(\"Constructor del hijo\")\n",
    "        super().__init__(dato * 2)\n",
    "\n",
    "    def test(self):\n",
    "        print(f\"Método del hijo: {self.hdato}\")\n",
    "\n",
    "# Si creamos un objeto de la clase Hijo y ejecutamos el método test().  \n",
    "\n",
    "h = Hijo(123)\n",
    "h.test()"
   ]
  },
  {
   "cell_type": "markdown",
   "metadata": {},
   "source": [
    "Vemos que se ejecuta el constructor del objeto la clase Hijo y después el de la del Padre, al estar la llamada a su constructor en la inicialización del hijo. Después ejecutamos el método test() desde el objeto de la clase Hijo, y vemos que se ejecuta el método que ha sustituido al de la clase base Padre.\n",
    "\n",
    "Vamos ahora a llamar al método test() del Padre desde el método test() del Hijo, modificando el método de la forma:"
   ]
  },
  {
   "cell_type": "code",
   "execution_count": null,
   "metadata": {},
   "outputs": [],
   "source": [
    "class Padre:\n",
    "    def __init__(self, dato):\n",
    "        self.pdato = dato\n",
    "        print(\"Constructor del padre\")\n",
    "\n",
    "    def test(self):\n",
    "        print(f\"Método del padre: {self.pdato}\")\n",
    "\n",
    "class Hijo(Padre):\n",
    "    def __init__(self, dato):\n",
    "        self.hdato = dato\n",
    "        print(\"Constructor del hijo\")\n",
    "        super().__init__(dato * 2)\n",
    "\n",
    "    def test(self):\n",
    "        print(f\"Método del hijo: {self.hdato}\")\n",
    "        Padre.test(self)\n",
    "# Y ahora al seguir los mismos pasos de ejecución.\n",
    "h = Hijo(123)\n",
    "h.test()"
   ]
  },
  {
   "cell_type": "markdown",
   "metadata": {},
   "source": [
    "Podemos ver como al llamar desde el método test() del hijo al método del padre, el valor del atributo pdato ha cambiado, cambio que habíamos realizado desde la inicialización del Hijo.\n",
    "\n",
    "En muchas ocasiones sustituimos métodos de las superclases para mejorarlos, pero esto puede presentar efectos secundarios ocultos.\n",
    "\n",
    "Cuando se hereda de una clase, se está heredando de toda una jerarquía de clases cuya estructura interna puede ser desconocida. Cualquier llamada a un método puede ocultar un complejo conjunto de operaciones en toda la jerarquía de clases que afecte al conjunto de la aplicación. Por eso es aconsejable llamar explícitamente a la implementación del padre."
   ]
  },
  {
   "cell_type": "markdown",
   "metadata": {},
   "source": [
    "### Herencia múltiple\n",
    "Una clase puede derivarse de más de una clase base en Python. Es lo que se denomina herencia múltiple.\n",
    "\n",
    "En la herencia múltiple, las características de todas las clases base se heredan en la clase derivada.\n",
    "\n",
    "La sintaxis de la herencia múltiple es similar a la de la herencia simple.\n",
    "\n",
    "class nombre_clase(clase_base[, clase_base]):\n",
    "_    declaraciones\n",
    "\n",
    "En el caso de herencia múltiple la búsqueda de los atributos heredados de las clases padres se realiza en profundidad, de izquierda a derecha. Esta regla se aplica recursivamente si la clase base deriva a su vez de alguna otra clase.\n",
    "\n",
    "### Orden de resolución de métodos (MRO)\n",
    "El orden de resolución de métodos (Method Resolution Order - MRO) es el orden en el que los métodos deben ser heredados en el caso de una herencia múltiple. Asegura que una clase siempre aparezca antes que sus progenitores y en caso de que haya varios progenitores, el orden es el mismo que el de una tupla de clases base, de izquierda a derecha.\n",
    "\n",
    "La secuencia MRO puede visualizarse con el atributo __ mro__."
   ]
  },
  {
   "cell_type": "code",
   "execution_count": null,
   "metadata": {},
   "outputs": [],
   "source": [
    "class A:\n",
    "    pass\n",
    "class B:\n",
    "    pass\n",
    "class C:\n",
    "    pass\n",
    "class X(A, B):\n",
    "    pass\n",
    "class Y(B,C):\n",
    "    pass\n",
    "class Z(Y, X, C):\n",
    "    pass\n",
    "print(f\"Z.__mro__ : {' '.join([str(x).replace('__main__.','') for x in Z.__mro__ ])}\")"
   ]
  },
  {
   "cell_type": "markdown",
   "metadata": {},
   "source": [
    "Como podemos ver todas las clases terminan derivando de la clase object. En Python 3 no hace falta especificarlo. En versiones anteriores las clases A, B y C deben heredar de object.\n",
    "\n",
    "El __\"problema del diamante\"__ describe una ambigüedad que surge cuando dos clases B y C heredan de una superclase A, y otra clase D hereda tanto de B como de C. Si hay un método m en A que B o C o ambos han reemplazado, e incluso si no lo anulan, __¿qué versión del método heredaría D?__\n",
    "\n",
    "Si todas las superclases disponen del método m(), se aplicará el orden de resolución de métodos (MRO), así:"
   ]
  },
  {
   "cell_type": "code",
   "execution_count": null,
   "metadata": {},
   "outputs": [],
   "source": [
    "class A:\n",
    "    def m(self):\n",
    "        print(\"Clase A\")\n",
    "class B(A):\n",
    "    def m(self):\n",
    "        print(\"Clase B\")\n",
    "class C(A):\n",
    "    def m(self):\n",
    "        print(\"Clase C\")\n",
    "class D(B,C):\n",
    "    pass\n",
    "d = D()\n",
    "d.m()\n",
    "print(f\"D.__mro__ : {' '.join([str(x).replace('__main__.','') for x in D.__mro__ ])}\")"
   ]
  },
  {
   "cell_type": "markdown",
   "metadata": {},
   "source": [
    "Vemos que se hereda el método de la clase B. Si cambiamos el orden de herencia en la clase D:"
   ]
  },
  {
   "cell_type": "code",
   "execution_count": null,
   "metadata": {},
   "outputs": [],
   "source": [
    "class A:\n",
    "    def m(self):\n",
    "        print(\"Clase A\")\n",
    "class B(A):\n",
    "    def m(self):\n",
    "        print(\"Clase B\")\n",
    "class C(A):\n",
    "    def m(self):\n",
    "        print(\"Clase C\")\n",
    "class D(C, B):\n",
    "    pass\n",
    "d = D()\n",
    "d.m()\n",
    "print(f\"D.__mro__ : {' '.join([str(x).replace('__main__.','') for x in D.__mro__ ])}\")"
   ]
  },
  {
   "cell_type": "markdown",
   "metadata": {},
   "source": [
    "Entonces MRO pone a disposición el método de la clase C.\n",
    "\n",
    "Pero si el escenario cambia y solo una de las superclases B o C reemplaza el método de la clase A, \n",
    "\n",
    "vemos que:"
   ]
  },
  {
   "cell_type": "code",
   "execution_count": null,
   "metadata": {},
   "outputs": [],
   "source": [
    "class A:\n",
    "    def m(self):\n",
    "        print(\"Clase A\")\n",
    "class B(A):\n",
    "    pass\n",
    "class C(A):\n",
    "    def m(self):\n",
    "        print(\"Clase C\")\n",
    "class D(B,C):\n",
    "    pass\n",
    "d = D()\n",
    "d.m()\n",
    "print(f\"D.__mro__ : {' '.join([str(x).replace('__main__.','') for x in D.__mro__ ])}\")"
   ]
  },
  {
   "cell_type": "markdown",
   "metadata": {},
   "source": [
    "El orden de resolución de métodos nos marca el orden en el que los métodos son heredados en el caso de una herencia múltiple. Como bien podemos ver con el atributo __mro__, se buscaría el método m() en la clase D; al no encontralo pasa a la siguiente en la lista, la clase B, donde tampoco lo encuentra, la siguiente en la lista es la clase C y ahí si encuentra un método m(), con lo que ya no llega a la clase A.\n",
    "\n",
    "## Encapsulación\n",
    "\n",
    "La encapsulación en orientación a objeto oculta los detalles de cómo está implementada la clase y restringe el acceso a los atributos y métodos. Esto evita que los datos se manipulen desde el exterior directamente, ofreciendo métodos para realizar ese servicio. La encapsulación es un mecanismo de control. El estado de un objeto sólo debe ser modificado por medio de los métodos del propio objeto.\n",
    "\n",
    "En la mayoría de los lenguajes orientados a objetos se utilizan modificadores de acceso a los miembros de una clase: privado, público y protegido (private, public, protected). Los modificadores de acceso desempeñan un papel importante para proteger los datos de un acceso no autorizado.\n",
    "\n",
    "__Modificadores de acceso__\n",
    "En Python no hay miembros privados de instancia. Todos los miembros de la clase son públicos. Sin embargo, hay una convención en Python que hace uso de guiones bajos ( _ ) para especificar el modificador de acceso para un miembro específico en una clase.\n",
    "\n",
    "Los modificadores de acceso para una clase en Python establecen el nivel de acceso a los miembros de la clase.\n",
    "\n",
    "__Acceso público:__ \n",
    "Los miembros de la clase son accesibles desde fuera de la clase. Por defecto, todos los atributos y métodos de una clase son públicos.\n",
    "\n",
    "__Acceso protegido:__ \n",
    "Son accesibles desde fuera de la clase pero sólo en una clase derivada de ella. El modificador de acceso establece un guión bajo como prefijo ( _ ) al nombre del miembro para que esté protegido.\n",
    "\n",
    "__Acceso privado:__ \n",
    "Sólo son accesibles desde dentro de la clase. El modificador de acceso establece un doble guión bajo __ como prefijo  al nombre del miembro para que se convierta en privado.\n",
    "Los atributos y métodos privados no están realmente ocultos, cualquier identificador que empiece por dos guiones bajos es textualmente reemplazado por:\n",
    "\n",
    "nombre_clase__identificador\n",
    "\n",
    "Donde nombre_clase es el nombre de clase actual al que se le eliminan los guiones bajos del comienzo si los tuviera. Se modifica el nombre del identificador sin importar su posición sintáctica, siempre y cuando ocurra dentro de la definición de una clase.\n",
    "\n",
    "Si volvemos al ejemplo del apartado Ámbito de las variables, podemos realizar el cambio de la variable punto_inicial por una variable privada de instancia de la forma:"
   ]
  },
  {
   "cell_type": "code",
   "execution_count": null,
   "metadata": {},
   "outputs": [],
   "source": [
    "class Punto:\n",
    "    # variable de clase\n",
    "    __punto_inicial = [0, 0]\n",
    "\n",
    "    # constructor\n",
    "    def __init__(self, x, y):\n",
    "        self.x = x\n",
    "        self.y = y\n",
    "        self.__punto_inicial[0] = x\n",
    "        self.__punto_inicial[1] = y\n",
    "\n",
    "    def get_punto_inicial(self):\n",
    "        return self.__punto_inicial\n",
    "\n",
    "    # método para incrementar el valor del punto\n",
    "    def incremento(self, a, b)->None:\n",
    "        self.x += a\n",
    "        self.y += b\n",
    "    \n",
    "    def __str__(self)->str:\n",
    "        return f'({self.x},{self.y})'\n",
    "p1 = Punto(1, 2)\n",
    "    # se lanzaría un AttributeError si hacemos:\n",
    "    # print(p1.__punto_inicial)\n",
    "    # pero funcionaría\n",
    "p = p1.get_punto_inicial()\n",
    "print(f\"Punto inicial p1 = ({p[0]}, {p[1]})\")\n"
   ]
  },
  {
   "cell_type": "markdown",
   "metadata": {},
   "source": [
    "Si conocemos el nombre de la variable privada la podríamos referenciar antecediendo el nombre de la clase precedido de un guión bajo."
   ]
  },
  {
   "cell_type": "code",
   "execution_count": null,
   "metadata": {},
   "outputs": [],
   "source": [
    "print(p1._Punto__punto_inicial)"
   ]
  },
  {
   "cell_type": "markdown",
   "metadata": {},
   "source": [
    "### Polimorfismo\n",
    "El polimorfismo es la sobrecarga de métodos, entendiendo como tal la capacidad del lenguaje de determinar qué método ejecutar de entre varios métodos con igual nombre según el tipo o número de los parámetros que se le pasa.\n",
    "\n",
    "En Python no existe sobrecarga de métodos, ya que cada nuevo método definido sobrescribiría la implementación del anterior, por la definición de herencia de Python, pero es posible simular el comportamiento de sobrecarga en Python empleando parámetros por defecto."
   ]
  },
  {
   "cell_type": "code",
   "execution_count": null,
   "metadata": {},
   "outputs": [],
   "source": [
    "class Punto:\n",
    "    # constructor\n",
    "    def __init__(self, x=0, y=0):\n",
    "        self.x = x\n",
    "        self.y = y\n",
    "\n",
    "    def __repr__(self):\n",
    "        return f\"({self.x}, {self.y})\"\n",
    "p1 = Punto()\n",
    "p2 = Punto(1)\n",
    "p3 = Punto(1, 2)\n",
    "p4 = Punto(y=2)\n",
    "p1,p2,p3,p4"
   ]
  },
  {
   "cell_type": "markdown",
   "metadata": {},
   "source": [
    "### Propiedades\n",
    "Sobre los atributos de una clase generalmente se realizan operaciones de actualización o consulta\n",
    "\n",
    "Una forma de operar, más o menos estándar, es crear métodos para establecer u obtener el contenido de los atributos, los llamados setter y getter respectivamente.\n",
    "\n",
    "En Python se puede enmascarar el método mediante un alias con un atributo de datos que establece una propiedad. Las propiedades se llaman automáticamente cuando se intenta cambiar o tomar el valor del atributo en sí.\n",
    "\n",
    "Cuando los métodos están enmascarados por una propiedad suele hacerse uso de la convención de anteceder los nombres con un guión bajo, para indicar que están protegidos y que no están destinados a ser utilizados directamente. Esto no tiene ningún significado especial para el lenguaje, es tan sólo una convención.\n",
    "\n",
    "La función integrada property() nos permite establecer atributos de propiedad en una clase.\n",
    "\n",
    "property(fget=None, fset=None, fdel=None, doc=None)\n",
    "\n",
    "Donde:\n",
    "\n",
    "__fget__ es la función para obtener el valor del atributo.  \n",
    "__fset__ es la función para establecer el valor del atributo.  \n",
    "__fdel__ es la función para borrar el atributo.  \n",
    "__doc__ es una cadena (como un comentario).  \n",
    "\n",
    "Los atributos suelen definirse en la instancia de la clase a través del método constructor __init__(), mientras que las propiedades son parte de la propia clase.\n",
    "\n",
    "En el siguiente ejemplo al atributo nombre le antecede un guión bajo para indicar que es de acceso protegido."
   ]
  },
  {
   "cell_type": "code",
   "execution_count": null,
   "metadata": {},
   "outputs": [],
   "source": [
    "class Propiedad:\n",
    "    def __init__(self, nombre):\n",
    "        self._nombre = nombre\n",
    "\n",
    "    # función para obtener el valor de atributo\n",
    "    def _get_nombre(self):\n",
    "        print('Obtener valor')\n",
    "        return self._nombre\n",
    "\n",
    "    # función para establecer el valor del atributo\n",
    "    def _set_nombre(self, valor):\n",
    "        print('Establecer valor')\n",
    "        self._nombre = valor\n",
    "\n",
    "    # función para eliminar el atributo\n",
    "    def _del_nombre(self):\n",
    "        print('Eliminar')\n",
    "        del self._nombre\n",
    "\n",
    "    # craeción de los atributos de propiedad\n",
    "    nombre = property(_get_nombre, _set_nombre, _del_nombre)\n",
    "\n",
    "x = Propiedad('Alfonso')\n",
    "# leemos el valor\n",
    "# se llama al 'getter': _get_nombre\n",
    "print(x.nombre)\n",
    "\n",
    "\n",
    "\n",
    "# modificamos el valor\n",
    "# se llama al 'setter': _set_nombre\n",
    "x.nombre = 'Laura'\n",
    "\n",
    "\n",
    "print(x.nombre)\n",
    "\n",
    "# eliminamos el valor\n",
    "# se llama a: _del_nombre\n",
    "del x.nombre\n",
    "#print(x.nombre)"
   ]
  },
  {
   "cell_type": "markdown",
   "metadata": {},
   "source": [
    "Python ofrece la posibilidad de emplear el decorador @property para simplificar el código. Esto también nos facilita el emplear el mismo nombre del atributo para definir las funciones setter y deleter, y así no inflar la clase con multitud de nombres de métodos.\n",
    "\n",
    "__@property__ define la propiedad correspondiente para obtener (getter) el atributo.  \n",
    "__@propiedad.setter__ define la propiedad para establecer (setter) el valor del atributo.  \n",
    "__@propiedad.deleter__ define la propiedad para borrar atributo.\n",
    "\n",
    "Se han eliminado los textos a visualizar en la ejecución de cada método. Y se ha antecedido al atributo nombre con dos guiones bajos para indicar que es de acceso privado."
   ]
  },
  {
   "cell_type": "code",
   "execution_count": null,
   "metadata": {},
   "outputs": [],
   "source": [
    "class Propiedad:\n",
    "    def __init__(self, nombre):\n",
    "        self.__nombre = nombre\n",
    "\n",
    "    # función para obtener el valor de atributo\n",
    "    @property\n",
    "    def nombre(self):\n",
    "        return self.__nombre\n",
    "\n",
    "    # función para establecer el valor del atributo\n",
    "    @nombre.setter\n",
    "    def nombre(self, valor):\n",
    "        self.__nombre = valor\n",
    "\n",
    "    # función para borrar el atributo\n",
    "    @nombre.deleter\n",
    "    def nombre(self):\n",
    "        del self.__nombre\n",
    "\n",
    "x = Propiedad('Ramiro')\n",
    "print(x.nombre)\n",
    "x.nombre = 'Eleuterio'\n",
    "print(x.nombre)\n",
    "del x.nombre\n",
    "#print(x.nombre)\n"
   ]
  },
  {
   "cell_type": "markdown",
   "metadata": {},
   "source": [
    "Observar que en el mensaje de error el atributo aparece con la sintaxis de los atributos privados: _nombreClase__nombreAtributo.\n",
    "\n",
    "No necesariamente han de definirse los tres métodos para cada propiedad. Dependerá del contexto y las necesidades de la aplicación."
   ]
  },
  {
   "cell_type": "markdown",
   "metadata": {},
   "source": [
    "### Métodos de clase y métodos estáticos\n",
    "Hasta ahora hemos visto métodos de instancia. Es el tipo de método básico que usaremos al crear un objeto cuando instanciemos una clase. Este tipo de métodos lleva un primer parámetro, self, que apunta a una instancia de la clase cuando se llama al método.\n",
    "\n",
    "A través del parámetro self, los métodos de instancia acceden libremente a los atributos y métodos del mismo objeto. Todo esto les permite modificar el estado del objeto.\n",
    "\n",
    "Disponemos de otros tipos de métodos, los métodos de clase y los estáticos.\n",
    "\n",
    "__Los métodos de clase (classmethod)__ llevan un primer parámetro cls, que apunta a la clase y no a la instancia del objeto cuando se llama al método. Debido a que el método de clase sólo tiene acceso a la clase vía cls, no puede modificar el estado de la instancia del objeto. Eso requeriría el acceso a self. Sin embargo, los métodos de clase aún pueden modificar el estado de la clase que se aplica a todas las instancias de la clase. El método de la clase es accesible tanto por la clase como por su objeto.\n",
    "\n",
    "__Los métodos estáticos (staticmethod)__ no llevan ni parámetro self ni cls como primer parámetro. Por lo tanto, un método estático no puede modificar el estado del objeto ni el estado de la clase. Los métodos estáticos están restringidos en cuanto a los datos a los que pueden acceder, actúa como una función regular que pertenece al espacio de nombres de la clase. No sabe nada de la clase y sólo se ocupa de los parámetros.\n",
    "\n",
    "La función classmethod(<función>)\n",
    "Con el decorador @classmethod\n",
    "\n",
    "La función staticmethod(<función>)\n",
    "Con el decorador @staticmethod\n",
    "\n",
    "Vamos a ver su funcionamiento con un ejemplo."
   ]
  },
  {
   "cell_type": "code",
   "execution_count": null,
   "metadata": {},
   "outputs": [],
   "source": [
    "class Fecha(object):\n",
    "    def __init__(self, aaaa=0, mm=0, dd=0):\n",
    "        self.dd = dd\n",
    "        self.mm = mm\n",
    "        self.aaaa = aaaa\n",
    "\n",
    "    def __repr__(self):\n",
    "        return f\"{self.aaaa}-{self.mm}-{self.dd}\"\n",
    "\n",
    "    # método de clase, lleva como primer parámetro cls, la clase\n",
    "    @classmethod\n",
    "    def fcadena(cls, fecha_cadena):\n",
    "        aaaa, mm, dd = map(int, fecha_cadena.split('-'))\n",
    "        return cls(aaaa, mm, dd)\n",
    "\n",
    "    # método estático, no lleva ni self ni cls\n",
    "    @staticmethod\n",
    "    def fclasica(dd, mm, aaaa):\n",
    "        return Fecha(aaaa, mm, dd)\n",
    "\n",
    "fecha1 = Fecha(2020, 3, 1)\n",
    "print(fecha1)\n",
    "\n",
    "fecha2 = Fecha.fcadena('2020-03-02')\n",
    "print(fecha2)\n",
    "\n",
    "fecha3 = Fecha.fclasica(3, 3, 2020)\n",
    "print(fecha3)\n",
    "\n",
    "print(f'isinstance(fecha1, Fecha): {isinstance(fecha1, Fecha)}')\n",
    "print(f'isinstance(fecha2, Fecha): {isinstance(fecha2, Fecha)}')\n",
    "print(f'isinstance(fecha3, Fecha): {isinstance(fecha3, Fecha)}')\n"
   ]
  },
  {
   "cell_type": "markdown",
   "metadata": {},
   "source": [
    "Creamos un primer objeto de tipo Fecha que hace uso del constructor.\n",
    "\n",
    "Después llamamos a un método de clase, que lleva como primer parámetro la clase, e internamente hace uso del constructor, pues cuando usamos el objeto llama al método de representación que nos visualiza la fecha con la que hemos llamado al método.\n",
    "\n",
    "A continuación llamamos al método estático que nos devuelve un objeto de tipo Fecha, pues en el return llama a la clase, que hará uso del constructor.\n",
    "\n",
    "Finalmente verificamos que los tres objetos sean instancias de Fecha, lo que es correcto en los tres casos."
   ]
  },
  {
   "cell_type": "markdown",
   "metadata": {},
   "source": [
    "Vamos a ver ahora que ocurre cuando empleamos una clase que hereda de la clase Fecha"
   ]
  },
  {
   "cell_type": "code",
   "execution_count": null,
   "metadata": {},
   "outputs": [],
   "source": [
    "class FechaHija(Fecha):\n",
    "    def __repr__(self):\n",
    "        return f\"FechaHija: {self.aaaa}-{self.mm}-{self.dd}\"\n",
    "\n",
    "fecha1 = FechaHija(2020, 3, 1)\n",
    "print(fecha1)\n",
    "\n",
    "fecha2 = FechaHija.fcadena('2020-03-02')\n",
    "print(fecha2)\n",
    "\n",
    "fecha3 = FechaHija.fclasica(3, 3, 2020)\n",
    "print(fecha3)\n",
    "\n",
    "print(f'isinstance(fecha1, FechaHija): {isinstance(fecha1, FechaHija)}')\n",
    "print(f'isinstance(fecha2, FechaHija): {isinstance(fecha2, FechaHija)}')\n",
    "print(f'isinstance(fecha3, FechaHija): {isinstance(fecha3, FechaHija)}')"
   ]
  },
  {
   "cell_type": "markdown",
   "metadata": {},
   "source": [
    "Vemos que el objeto fecha3 no es una instancia de la clase FechaHija, ya que la representación al llamar al objeto se corresponde con la de la clase base. Esto se debe a que fclasica es un método estático. Bastaría con cambiar el decorador del método a @classmethod para resolverlo.\n",
    "\n",
    "__Deben utilizarse métodos de clase__ cuando no se necesita la información de la instancia, pero se necesita la información de la clase tal vez para otra clase o métodos estáticos, o tal vez para sí mismo como constructor. También permite cambiar el comportamiento del método basado en la subclase que lo llama, pues tenemos una referencia a la clase que llama en el atributo __name__ de la clase.\n",
    "\n",
    "__Deben utilizarse métodos estáticos__ cuando no se necesiten los argumentos de clase o instancia, pero la función está relacionada con el uso del objeto, y es conveniente que la función esté en el espacio de nombres del objeto. Además, de esta forma el comportamiento permanece sin cambios a través de las subclases.\n",
    "\n",
    "### Estructuras de datos\n",
    "Python no tiene un tipo de datos para crear estructuras, pero una clase vacía, junto a la creación dinámica de atributos o una lista de atributos, nos puede ofrecer el mismo resultado.\n",
    "\n",
    "Los atributos de los objetos se almacenan en un atributo incorporado a la clase, el diccionario __dict__.  \n",
    "El diccionario utilizado para almacenar los atributos puede modificarse, como cualquier diccionario. El poder añadir y eliminar elementos, es la razón por la que se pueden crear y eliminar atributos dinámicamente en los objetos de las clases."
   ]
  },
  {
   "cell_type": "code",
   "execution_count": null,
   "metadata": {},
   "outputs": [],
   "source": [
    "class Nota:\n",
    "    pass\n",
    "\n",
    "# crear un objeto vacío\n",
    "apunte = Nota()\n",
    "# crear/llenar los campos de la nota\n",
    "apunte.de = 'Sancho Panza'\n",
    "apunte.para = 'Don Quijote'\n",
    "apunte.mensaje = 'Son molinos!'\n",
    "print(apunte.__dict__)"
   ]
  },
  {
   "cell_type": "markdown",
   "metadata": {},
   "source": [
    "El uso de un diccionario para el almacenamiento de atributos puede representar un desperdicio de espacio para los objetos, en el caso de herencias, y sobre todo cuando tienen que crease un gran número de instancias.\n",
    "\n",
    "Una forma de resolver este problema es mediante un espacio (slot) estático donde definir únicamente los atributos que se vayan a utilizar, para ello hay que crear una lista con el nombre __slots__ que contendrá la relación de atributos.\n",
    "\n",
    "Modificaremos la clase para establecer la lista con los nombres de los atributos que necesitaremos.\n"
   ]
  },
  {
   "cell_type": "code",
   "execution_count": null,
   "metadata": {},
   "outputs": [],
   "source": [
    "class Nota:\n",
    "    __slots__ = ['de', 'para', 'mensaje']\n",
    "\n",
    "apunte = Nota()\n",
    "apunte.de = 'Sancho Panza'\n",
    "apunte.para = 'Don Quijote'\n",
    "apunte.mensaje = 'Son molinos!'\n",
    "print(apunte.__slots__)\n",
    "#apunte.urgencia = 'alta'\n",
    "print(f'de {apunte.de} para {apunte.para} mensaje: {apunte.mensaje}')"
   ]
  },
  {
   "cell_type": "markdown",
   "metadata": {},
   "source": [
    "El objeto que creemos ya no dispone del diccionario __dict__, por lo que no admite la creación dinámica de atributos, y tan solo podemos crear los que aparecen en la lista __slots__.\n",
    "\n",
    "### Atributos incorporados\n",
    "Las clases de Python mantienen los siguientes atributos incorporados, a los que se puede acceder usando el operador punto (.) como a cualquier otro atributo.\n",
    "\n",
    "\n",
    "| Atributo    | Descripción                                                                               |\n",
    "|-------------|-------------------------------------------------------------------------------------------|\n",
    "| dict        |Diccionario que contiene el espacio de nombres de la clase.                                |\n",
    "| doc         |Cadena de documentación de la clase o ninguna, si no está definida.                        |\n",
    "| name        |Nombre de la clase.                                                                        |\n",
    "| module      |Nombre del módulo en el que se define la clase.                                            |\n",
    "|             |Este atributo es \"__main__\" en modo interactivo.                                           |\n",
    "| bases       |Tupla que contiene las clases base, en el orden de su aparición en la lista de clases base.|\n",
    "\n"
   ]
  },
  {
   "cell_type": "code",
   "execution_count": null,
   "metadata": {},
   "outputs": [],
   "source": [
    ">>> class Clase:\n",
    "    '''Clase de prueba de atributos incorporados'''\n",
    "\n",
    "    def __init__(self):\n",
    "        print('Atributos incorporados')\n",
    "\n",
    "print(f'Clase.__doc__ {Clase.__doc__}')\n",
    "print(f'Clase.__dict__ {Clase.__dict__}')\n",
    "print(f'Clase.__name__ {Clase.__name__}')\n",
    "print(f'Clase.__module__ {Clase.__module__}')\n",
    "print(f'Clase.__bases__ {Clase.__bases__ }')\n"
   ]
  },
  {
   "cell_type": "markdown",
   "metadata": {},
   "source": [
    "Métodos especiales\n",
    "Los métodos especiales son un conjunto de métodos predefinidos que se puede usar para enriquecer las clases.  \n",
    "Todos ellos comienzan y terminan con guiones bajos dobles. Se los conoce como dunders, una abreviatura de double underline.\n"
   ]
  },
  {
   "cell_type": "markdown",
   "metadata": {},
   "source": [
    "|Método|Descripción|\n",
    "|------|-----------|\n",
    "|__new__(cls[, args])|Método exclusivo de las clases que se ejecuta antes que __init__ y que se encarga de construir y devolver el objeto en sí. El primer parámetro es la clase, los demás argumentos se pasan a __init__.|\n",
    "|__init__(self [, args])|Inicializador de la clase. Se llama después de crear el objeto para realizar tareas de inicialización.|\n",
    "|__del__(self)|Destructor. Se utiliza para realizar tareas de limpieza.|\n",
    "|__repr__(self)|Devuelve una cadena de texto con la representación oficial del objeto.|\n",
    "| |Este método se llama cuando se invoca la función repr() en el objeto.|\n",
    "|__str__(self)|Devuelve una cadena de texto con la representación informal del objeto.|\n",
    "||Este método se llama cuando se invoca la función print() o str() en el objeto.|\n",
    "|__len__(self)|Devuelve la longitud del objeto.|\n",
    "|__getitem__(self, key)|Implementa la evaluación de la selección por clave self[key]. Para los tipos de secuencia, las claves aceptadas deben ser enteros.|\n",
    "|__setitem__(self, key, value)|Implementa la asignación del valor a self[key]. Sólo debe implementarse si los objetos soportan cambios en los valores de las claves, si se pueden añadir nuevas claves, o si se pueden reemplazar elementos.|\n",
    "|__delitem__(self, key)|Implementa la eliminación por clave self[key]. Sólo debe implementarse si los objetos soportan la eliminación de claves, o para secuencias si los elementos pueden ser eliminados de la secuencia.|\n",
    "|__iter__(self)|Método a emplear cuando se requiere un iterador para un contenedor. Este método debe devolver un nuevo objeto iterador que pueda iterar sobre todos los objetos del contenedor.|\n",
    "|__next__(self)|Devuelve el siguiente elemento de la secuencia. Al llegar al final, y en las llamadas posteriores, debe lanzar una excepción StopIteration.|\n",
    "\n",
    "|Operadores aritméticos|Descripción|\n",
    "|----------------------|-----------|\n",
    "|__add__(self, other)| +|\n",
    "|__sub__(self, other)| - |\n",
    "|__mul__(self, other)| +|\n",
    "|__floordiv__(self, other)| //|\n",
    "|__div__(self, other)| / |\n",
    "|__mod__(self, other)| % |\n",
    "|__pow__(self, other[, modulo])| ** |\n",
    "|__rshift__(self, other)| > |\n",
    "|__and__(self, other)| & |\n",
    "|__xor__(self, other)| ^ |\n",
    "|__or__(self, other)| | |\n",
    "\n",
    "|Operadores unarios|Descripción|\n",
    "|------------------|-----------|\n",
    "|__neg__(self) | - |\n",
    "|__pos__(self) | + |\n",
    "|__invert__(self) | ~ |\n",
    "\n",
    "\n",
    "|Operadores de asignación|Descripción|\n",
    "|------------------------|-----------|\n",
    "|__iadd__(self, other)| += |\n",
    "|__isub__(self, other)| -= |\n",
    "|__imul__(self, other)| *= |\n",
    "|__idiv__(self, other)| /= |\n",
    "|__ifloordiv__(self, other)| //=|\n",
    "|__imod__(self, other)| %= |\n",
    "|__ipow__(self, other[, modulo])| **= |\n",
    "|__irshift__(self, other)| >= |\n",
    "|__iand__(self, other)| &= |\n",
    "|__ixor__(self, other)| ^= |\n",
    "|__ior__(self, other)|| != |\n",
    "\n",
    "|Operadores relacionales|Descripción|\n",
    "|-----------------------|-----------|\n",
    "|__lt__(self, other)| x<y x.__lt__(y)|\n",
    "|__le__(self, other)| x<=y x.__le__(y)|\n",
    "|__eq__(self, other)| x==y x.__eq__(y)|\n",
    "|__ne__(self, other)| x!=y x<>y x.__ne__(y)|\n",
    "|__gt__(self, other)| x>y x.__gt__(y)|\n",
    "|__ge__(self, other)| x>=y x.__ge__(y)|"
   ]
  },
  {
   "cell_type": "markdown",
   "metadata": {},
   "source": [
    "### Destrucción de objetos (Recolector de basura)\n",
    "Python borra los objetos innecesarios automáticamente para liberar el espacio de memoria. El proceso por el cual Python recupera periódicamente bloques de memoria que ya no se utilizan se denomina Recolección de basura.\n",
    "\n",
    "El recolector de basura de Python se ejecuta durante la ejecución del programa y se activa cuando la cuenta de referencia de un objeto llega a cero.  \n",
    "La cuenta de referencia de un objeto cambia a medida que cambia el número de alias que lo apuntan.\n",
    "\n",
    "El recuento de referencias de un objeto aumenta cuando se le asigna un nuevo nombre o se coloca en un contenedor (lista, tupla o diccionario). El recuento de referencias de un objeto disminuye cuando se borra con del, se reasigna su referencia o su referencia se sale del ámbito de aplicación. Cuando el recuento de referencias de un objeto llega a cero, Python lo recolecta automáticamente.\n",
    "\n",
    "El método __del__() se ejecuta cuando una instancia de la clase está a punto de ser destruida."
   ]
  },
  {
   "cell_type": "code",
   "execution_count": null,
   "metadata": {},
   "outputs": [],
   "source": [
    "class Punto:\n",
    "    # constructor\n",
    "    def __init__(self, x, y):\n",
    "        self.x = x\n",
    "        self.y = y\n",
    "\n",
    "    def __del__(self):\n",
    "        nombre_clase = self.__class__.__name__\n",
    "        print(nombre_clase, \"destruido\")\n",
    "\n",
    "p1 = Punto(1, 2)\n",
    "del p1"
   ]
  },
  {
   "cell_type": "markdown",
   "metadata": {},
   "source": [
    "# Iteradores\n",
    "Dado que la mayoría de los objetos contenedores pueden ser recorridos en Python usando una sentencia for, parece lógico que añadamos comportamiento iterador a nuestras clases.\n",
    "\n",
    "Un objeto es iterable si se pueden recorrer todos sus valores.\n",
    "\n",
    "Técnicamente, en Python, un iterador es un objeto que implementa un protocolo iterador basado en dos métodos especiales: __iter__() y __next__(). Básicamente la sentencia for llama a iter() en el objeto contenedor. La función devuelve un objeto iterador que define el método __next__() que accede a los elementos en el contenedor de uno en uno. Cuando no hay más elementos, __next__() lanza una excepción StopIteration que le avisa al bucle de la finalización. Usando el bucle for podemos iterar sobre cualquier objeto que nos devuelva el iterador.\n"
   ]
  },
  {
   "cell_type": "code",
   "execution_count": null,
   "metadata": {},
   "outputs": [],
   "source": [
    "cadena = '123'\n",
    "iterador = iter(cadena)\n",
    "print(next(iterador))\n",
    "print(next(iterador))\n",
    "print(next(iterador))\n",
    "#print(next(iterador))"
   ]
  },
  {
   "cell_type": "markdown",
   "metadata": {},
   "source": [
    "Para incluir un iterador en una clase debemos implementar los métodos __iter__() y __next__() en la clase.\n",
    "\n",
    "El método __iter__() devuelve el objeto iterador en sí. Si es necesario, se puede realizar una inicialización.\n",
    "\n",
    "El método __next__() debe devolver el siguiente elemento de la secuencia. Al llegar al final, y en las llamadas posteriores, debe lanzar una excepción StopIteration."
   ]
  },
  {
   "cell_type": "code",
   "execution_count": null,
   "metadata": {},
   "outputs": [],
   "source": [
    "class Cadena:\n",
    "    def __init__(self, cadena):\n",
    "        self.cadena = cadena\n",
    "\n",
    "    def __iter__(self):\n",
    "        self.indice = -1\n",
    "        return self\n",
    "\n",
    "    def __next__(self):\n",
    "        self.indice += 1\n",
    "        if self.indice == len(self.cadena):\n",
    "            raise StopIteration\n",
    "        return self.cadena[self.indice].upper()\n",
    "\n",
    "cadena = Cadena('Hola')\n",
    "for c in cadena:\n",
    "    print(c)\n"
   ]
  },
  {
   "cell_type": "markdown",
   "metadata": {},
   "source": [
    "Vemos que el bucle for se detiene cuando le llega la excepción StopIteration.\n",
    "\n",
    "### Sobrecarga de operadores\n",
    "La sobrecarga de operadores nos permite ampliar las capacidades de los lenguajes de programación orientados a objetos. Mediante la sobrecarga un mismo operador puede realizar múltiples operaciones sobre distintos tipos de datos. Así, el operador + realizará la suma algebraica si son dos números, o la concatenación si son dos cadenas de texto.\n",
    "\n",
    "A través de las clases creadas o sobrecargadas por el usuario se pueden modificar casi todos los métodos de operadores incorporados de Python. Estos métodos se identifican con los nombres del operador con dos guiones bajos como prefijo y otros dos como sufijo. Como hemos visto en la tabla de Métodos especiales, el operador suma ( + ) es __add__. Cuando el interprete de Python evalúa el operador +, si la clase de usuario ha sobrecargado el método __add__, entonces se usará el método del usuario en lugar del método incorporado de Python.\n",
    "\n",
    "Vamos a aplicar la sobrecarga a los operadores suma (+) y resta (-) en nuestra clase Punto. Para ello emplearemos los métodos especiales __add__ y __sub__, además de los de asignación __iadd_ y __isub__.\n"
   ]
  },
  {
   "cell_type": "code",
   "execution_count": null,
   "metadata": {},
   "outputs": [],
   "source": [
    "class Punto:\n",
    "    # constructor\n",
    "    def __init__(self, x, y):\n",
    "        self.x = x\n",
    "        self.y = y\n",
    "\n",
    "    def __repr__(self):\n",
    "        return f\"({self.x}, {self.y})\"\n",
    "\n",
    "    def __add__(self, otro):\n",
    "        # devuelve un punto que es la suma de dos puntos\n",
    "        return Punto(self.x + otro.x, self.y + otro.y)\n",
    "\n",
    "    def __sub__(self, otro):\n",
    "        # devuelve un punto que es la diferencia de ambos puntos\n",
    "        return Punto(self.x - otro.x, self.y - otro.y)\n",
    "\n",
    "    def __iadd____(self, otro):\n",
    "        # devuelve el punto incrementado\n",
    "        self.x += otro.x\n",
    "        self.y += otro.y\n",
    "        return Punto(self.x, self.y)\n",
    "\n",
    "    def __isub____(self, otro):\n",
    "        # devuelve el punto decrementado\n",
    "        self.x -= otro.x\n",
    "        self.y -= otro.y\n",
    "        return Punto(self.x, self.y)\n"
   ]
  },
  {
   "cell_type": "markdown",
   "metadata": {},
   "source": [
    "Ahora podemos sumar y restar puntos con los operadores + y -."
   ]
  },
  {
   "cell_type": "code",
   "execution_count": null,
   "metadata": {},
   "outputs": [],
   "source": [
    "p1 = Punto(1, 2)\n",
    "print(p1)\n",
    "p2 = Punto(3, 4)\n",
    "print(p2)\n",
    "p3 = p1 + p2\n",
    "print(p3)\n",
    "p3 -= p1\n",
    "print(p3)"
   ]
  },
  {
   "cell_type": "markdown",
   "metadata": {},
   "source": [
    ">__PEP 8: Sobrecarga de operadores__\n",
    "Al implementar la sobrecarga de los operadores relacionales, es mejor implementar las seis operaciones (__eq__, __ne__, __lt__, __le__, __gt__, __ge__) en lugar de confiar en otro código para realizar una comparación en particular."
   ]
  }
 ],
 "metadata": {
  "kernelspec": {
   "display_name": "Python 3",
   "language": "python",
   "name": "python3"
  },
  "language_info": {
   "codemirror_mode": {
    "name": "ipython",
    "version": 3
   },
   "file_extension": ".py",
   "mimetype": "text/x-python",
   "name": "python",
   "nbconvert_exporter": "python",
   "pygments_lexer": "ipython3",
   "version": "3.11.4"
  }
 },
 "nbformat": 4,
 "nbformat_minor": 4
}
