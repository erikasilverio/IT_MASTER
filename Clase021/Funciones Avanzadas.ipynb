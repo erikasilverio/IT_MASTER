{
 "cells": [
  {
   "cell_type": "markdown",
   "metadata": {},
   "source": [
    "# Funciones lambda\n",
    "\n",
    "Las funciones o expresiones lambda sirven para crear funciones anónimas.\n",
    "\n",
    "Una función anónima, como su nombre indica es una función sin nombre. En Python podemos ejecutar una función sin definirla con def. \n",
    "De hecho son similares pero con una diferencia fundamental:\n",
    "El contenido de una función lambda debe ser una única expresión en lugar de un bloque de acciones.\n",
    "Y es que más allá del sentido de función que tenemos, con su nombre y sus acciones internas, una función en su sentido más trivial significa realizar algo sobre algo. \n",
    "Por tanto podríamos decir que, mientras las funciones anónimas lambda sirven para realizar funciones simples, las funciones definidas con def sirven para manejar tareas más extensas.\n",
    "Si deconstruimos una función sencilla, podemos llegar a una función lambda. \n",
    "\n",
    "Por ejemplo la siguiente función para doblar un valor:\n"
   ]
  },
  {
   "cell_type": "code",
   "execution_count": 2,
   "metadata": {},
   "outputs": [
    {
     "name": "stdout",
     "output_type": "stream",
     "text": [
      "4\n"
     ]
    }
   ],
   "source": [
    "def duplicar(num):\n",
    "    resultado = num*2\n",
    "    return resultado\n",
    "\n",
    "print(duplicar(2))"
   ]
  },
  {
   "cell_type": "markdown",
   "metadata": {},
   "source": [
    "Vamos a simplificar el código un poco:"
   ]
  },
  {
   "cell_type": "code",
   "execution_count": 3,
   "metadata": {},
   "outputs": [
    {
     "name": "stdout",
     "output_type": "stream",
     "text": [
      "4\n"
     ]
    }
   ],
   "source": [
    "def duplicar(num):\n",
    "    return num*2\n",
    "\n",
    "print(duplicar(2))"
   ]
  },
  {
   "cell_type": "markdown",
   "metadata": {},
   "source": [
    "Todavía más, podemos escribirlo todo en una sola línea:"
   ]
  },
  {
   "cell_type": "code",
   "execution_count": 4,
   "metadata": {},
   "outputs": [
    {
     "name": "stdout",
     "output_type": "stream",
     "text": [
      "4\n"
     ]
    }
   ],
   "source": [
    "def duplicar(num): return num*2\n",
    "\n",
    "print(duplicar(2))"
   ]
  },
  {
   "cell_type": "markdown",
   "metadata": {},
   "source": [
    "Esta notación simple es la que una función lambda intenta replicar.\n",
    "Vamos a convertir la función en una función anónima:\n",
    "\n",
    "### lambda num: num*2\n",
    "\n",
    "Aquí tenemos una función anónima con una entrada que recibe num, y una salida que devuelve num * 2.\n",
    "Lo único que necesitamos hacer para utilizarla es guardarla en una variable y utilizarla tal como haríamos con una función normal:\n"
   ]
  },
  {
   "cell_type": "code",
   "execution_count": 5,
   "metadata": {},
   "outputs": [
    {
     "name": "stdout",
     "output_type": "stream",
     "text": [
      "<class 'function'>\n",
      "4\n"
     ]
    }
   ],
   "source": [
    "duplicar = lambda num: num*2\n",
    "print(type(duplicar))\n",
    "print(duplicar(2))"
   ]
  },
  {
   "cell_type": "markdown",
   "metadata": {},
   "source": [
    "Gracias a la flexibilidad de Python podemos implementar infinitas funciones simples.\n",
    "\n",
    "Por ejemplo comprobar si un número es impar:"
   ]
  },
  {
   "cell_type": "code",
   "execution_count": 6,
   "metadata": {},
   "outputs": [
    {
     "name": "stdout",
     "output_type": "stream",
     "text": [
      "True\n"
     ]
    }
   ],
   "source": [
    "impar = lambda num: num%2 != 0\n",
    "\n",
    "print(impar(5))"
   ]
  },
  {
   "cell_type": "markdown",
   "metadata": {},
   "source": [
    "Darle la vuelta a una cadena utilizando slicing:"
   ]
  },
  {
   "cell_type": "code",
   "execution_count": 7,
   "metadata": {},
   "outputs": [
    {
     "name": "stdout",
     "output_type": "stream",
     "text": [
      "aloH\n"
     ]
    }
   ],
   "source": [
    "revertir = lambda cadena: cadena[::-1]\n",
    "\n",
    "print(revertir(\"Hola\"))"
   ]
  },
  {
   "cell_type": "markdown",
   "metadata": {},
   "source": [
    "Incluso podemos enviar varios valores, por ejemplo para sumar dos números:"
   ]
  },
  {
   "cell_type": "code",
   "execution_count": 8,
   "metadata": {},
   "outputs": [
    {
     "name": "stdout",
     "output_type": "stream",
     "text": [
      "7\n",
      "4\n",
      "1\n"
     ]
    }
   ],
   "source": [
    "sumar = lambda x,y: x+y\n",
    "print(sumar(5,2))\n",
    "\n",
    "cuadrado = lambda n: n*n\n",
    "print(cuadrado(2))\n",
    "\n",
    "resto = lambda x,y : x%y\n",
    "print(resto(5,2))\n"
   ]
  },
  {
   "cell_type": "markdown",
   "metadata": {},
   "source": [
    "Podemos realizar cualquier cosa que se nos ocurra, siempre que lo podamos definir en una sola expresión."
   ]
  },
  {
   "cell_type": "code",
   "execution_count": 9,
   "metadata": {},
   "outputs": [
    {
     "name": "stdout",
     "output_type": "stream",
     "text": [
      "CUADRADO  :  4\n",
      "CUBO 3    :  27\n",
      "esPar el 5:  False\n",
      "esPar el 6:  True\n",
      "sumar 2+3 :  5\n",
      "multr 2*3 :  6\n",
      "restr 2-3 :  -1\n",
      "divir 2/3 :  0.6666666666666666\n"
     ]
    }
   ],
   "source": [
    "def ejecutar(funcion,valor):\n",
    "    return funcion(valor)\n",
    "    \n",
    "print(\"CUADRADO  : \",ejecutar(lambda x: x*x,    2))\n",
    "print(\"CUBO 3    : \",ejecutar(lambda x: x*x*x  ,3))\n",
    "print(\"esPar el 5: \",ejecutar(lambda x: x%2==0 ,5))\n",
    "print(\"esPar el 6: \",ejecutar(lambda x: x%2==0 ,6))\n",
    "\n",
    "def operar(funcion,x,y):\n",
    "    return funcion(x,y)\n",
    "\n",
    "print(\"sumar 2+3 : \",operar(lambda x,y: x+y,2,3))\n",
    "print(\"multr 2*3 : \",operar(lambda x,y: x*y,2,3))\n",
    "print(\"restr 2-3 : \",operar(lambda x,y: x-y,2,3))\n",
    "print(\"divir 2/3 : \",operar(lambda x,y: x/y,2,3))"
   ]
  },
  {
   "cell_type": "markdown",
   "metadata": {},
   "source": [
    "# Función filter()\n",
    "\n",
    "Tal como su nombre indica filter significa filtrar.  \n",
    "A partir de una lista o iterador y una función condicional, es capaz de devolver una nueva colección con los elementos filtrados que cumplan la condición.\n",
    "\n",
    "Por ejemplo: \n",
    "Supongamos que tenemos una lista varios números y queremos filtrarla, quedándonos únicamente con los múltiples de 5..."
   ]
  },
  {
   "cell_type": "code",
   "execution_count": 13,
   "metadata": {},
   "outputs": [
    {
     "name": "stdout",
     "output_type": "stream",
     "text": [
      "[2, 5, 10, 23, 50, 21]\n"
     ]
    }
   ],
   "source": [
    "def es_multiplo(numero):    \n",
    "    return numero%5 == 0\n",
    "\n",
    "def es_entero(numero):\n",
    "    return isinstance(numero,int)\n",
    "\n",
    "numeros = [2, 5, 10, 23, 50, '33',21]\n",
    "#f = filter(es_multiplo, numeros)\n",
    "\n",
    "#print(f)\n",
    "#print(type(f))\n",
    "#print(str(f))\n",
    "#print(list(f))\n",
    "\n",
    "f = filter(es_entero, numeros)\n",
    "print(list(f))"
   ]
  },
  {
   "cell_type": "markdown",
   "metadata": {},
   "source": [
    "Si ejecutamos el filtro obtenemos un objeto de tipo filtro, pero podemos transformarlo en una lista fácilmente haciendo un cast (conversión):"
   ]
  },
  {
   "cell_type": "code",
   "execution_count": null,
   "metadata": {},
   "outputs": [],
   "source": [
    "numeros = [2, 5, 10, 23, 50, 33]\n",
    "\n",
    "lista = list(filter(es_multiplo, numeros) )\n",
    "\n",
    "print(lista)"
   ]
  },
  {
   "cell_type": "markdown",
   "metadata": {},
   "source": [
    "Por tanto cuando utilizamos la función filter() tenemos que enviar una función condicional.\n",
    "Podemos no definir la función usando una función anónima lambda:"
   ]
  },
  {
   "cell_type": "code",
   "execution_count": 14,
   "metadata": {},
   "outputs": [
    {
     "name": "stdout",
     "output_type": "stream",
     "text": [
      "[5, 50]\n",
      "[5, 50]\n",
      "[11, 33]\n",
      "[11, 33]\n"
     ]
    }
   ],
   "source": [
    "lista_numeros = [2, 5, 11, 23, 50, 33]\n",
    "\n",
    "lista = list( filter(lambda numero: numero%5 == 0, lista_numeros) )\n",
    "\n",
    "print(lista)\n",
    "\n",
    "print(list(filter(lambda numero: numero%5 == 0, lista_numeros)))\n",
    "\n",
    "\n",
    "def filtrar_divisibles(lista:list,valor:int)->list:\n",
    "    nueva = []\n",
    "    for numero in lista:\n",
    "        if numero%valor == 0:\n",
    "            nueva.append(numero)\n",
    "    return nueva\n",
    "\n",
    "\n",
    "print(filtrar_divisibles(lista_numeros,11)) \n",
    "\n",
    "\n",
    "print(list(filter(lambda x   :  x%11==0   ,lista_numeros)))\n"
   ]
  },
  {
   "cell_type": "code",
   "execution_count": 15,
   "metadata": {},
   "outputs": [
    {
     "name": "stdout",
     "output_type": "stream",
     "text": [
      "NUMEROS:  [1, 2, -3, 10, -1, -17, 4, 33, -2]\n",
      "NEGATIVOS:  [-3, -1, -17, -2]\n",
      "PARES:  (2, 10, 4, -2)\n"
     ]
    }
   ],
   "source": [
    "def esPar(n):\n",
    "    return n%2 == 0\n",
    "\n",
    "lista_numeros = [1,2,-3,10,-1,-17,4,33,-2]\n",
    "\n",
    "print(\"NUMEROS: \",lista_numeros)\n",
    "    \n",
    "negativos = list( filter(lambda x  : x < 0, lista_numeros) )\n",
    "print(\"NEGATIVOS: \",negativos)\n",
    "    \n",
    "pares = tuple( filter(esPar,lista_numeros) )\n",
    "print(\"PARES: \",pares)\n"
   ]
  },
  {
   "cell_type": "markdown",
   "metadata": {},
   "source": [
    "# Filtrando objetos"
   ]
  },
  {
   "cell_type": "code",
   "execution_count": null,
   "metadata": {},
   "outputs": [],
   "source": [
    "class Alumno:\n",
    "    def __init__(self, nombre, nota):\n",
    "        self.__nombre = nombre\n",
    "        self.__nota = nota\n",
    "    \n",
    "    def __str__(self):\n",
    "        return \"Alumno: {} Nota: {} \".format(self.__nombre, self.__nota) \n",
    "    \n",
    "    def getnota(self):\n",
    "        return self.__nota\n",
    "\n",
    "    \n",
    "a = Alumno(\"Raulito\",7)\n",
    "\n",
    "c = Alumno(\"Fernanda\",10)\n",
    "\n",
    "print(str(a))\n",
    "\n",
    "o = object()\n",
    "print(o)\n",
    "\n",
    "alumnos = [\n",
    "    Alumno(\"Victoria\", 10),\n",
    "    Alumno(\"Manu\",7),\n",
    "    Alumno(\"Sergio\", 5),\n",
    "    Alumno(\"Maria\", 6),\n",
    "    Alumno(\"Brian\", 4)\n",
    "]\n",
    "\n",
    "aprobados = filter(lambda x: x.getnota() >= 6, alumnos)\n",
    "\n",
    "for a in aprobados:\n",
    "    print(a)"
   ]
  },
  {
   "cell_type": "code",
   "execution_count": null,
   "metadata": {},
   "outputs": [],
   "source": [
    "class Producto(object):\n",
    "    def __init__(self,codigo,grupo,nombre,precio):\n",
    "        self.__codigo=codigo\n",
    "        self.__grupo=grupo\n",
    "        self.__nombre=nombre\n",
    "        self.__precio=precio\n",
    "\n",
    "    def __repr__(self):\n",
    "        return f' tipo: {type(self)} Atributos  ==> {self.__codigo},{self.__nombre},{self.__grupo},{self.__precio}'\n",
    "        \n",
    "    def __str__(self):\n",
    "        return f\"{self.__codigo} - {self.__nombre} - {self.__grupo} - {self.__precio}\"\n",
    "\n",
    "    def get_grupo(self):\n",
    "        return self.__grupo\n",
    "\n",
    " \n",
    "    \n",
    "lp=[\n",
    "        Producto(1,1,\"Arvejas\",32),\n",
    "        Producto(2,1,\"Lentejas\",29),\n",
    "        Producto(3,2,\"Leche\",59)\n",
    "]\n",
    "\n",
    "print(\"\\nArticulos:\", lp)\n",
    "\n",
    "almacen = list(filter(lambda x: x.get_grupo() == 1,lp))\n",
    "\n",
    "print(\"\\nAlmacen:\\n\")\n",
    "for a in almacen:\n",
    "    print(a)\n"
   ]
  },
  {
   "cell_type": "markdown",
   "metadata": {},
   "source": [
    "# Función map()\n",
    "\n",
    "Esta función trabaja de una forma muy similar a filter(), con la diferencia que en lugar de aplicar una condición a un elemento de una lista o secuencia, aplica una función sobre todos los elementos y como resultado se devuelve un iterable de tipo map:"
   ]
  },
  {
   "cell_type": "code",
   "execution_count": 16,
   "metadata": {},
   "outputs": [
    {
     "name": "stdout",
     "output_type": "stream",
     "text": [
      "[2, 5, 10, 23, 50, 33]\n",
      "<map object at 0x0000029103EBA920>\n",
      "<class 'map'>\n",
      "[4, 10, 20, 46, 100, 66]\n",
      "[2, 5, 10, 23, 50, 33]\n"
     ]
    }
   ],
   "source": [
    "def doblar(numero):\n",
    "    return numero*2\n",
    "\n",
    "numeros = [2, 5, 10, 23, 50, 33]\n",
    "\n",
    "m = map(doblar, numeros)\n",
    "\n",
    "lista = list(m)\n",
    "print(numeros)\n",
    "print(m)\n",
    "print(type(m))\n",
    "print(lista)\n",
    "print(numeros)"
   ]
  },
  {
   "cell_type": "markdown",
   "metadata": {},
   "source": [
    "Y podemos simplificarlo con una función lambda para substituir la llamada de una función definida:"
   ]
  },
  {
   "cell_type": "code",
   "execution_count": 17,
   "metadata": {},
   "outputs": [
    {
     "name": "stdout",
     "output_type": "stream",
     "text": [
      "[2, 5, 10, 23, 50, 33]\n",
      "[4, 10, 20, 46, 100, 66]\n",
      "[2, 5, 10, 23, 50, 33]\n",
      "[4, 10, 20, 46, 100, 66]\n"
     ]
    }
   ],
   "source": [
    "print(numeros)\n",
    "print(list( map(lambda x: x*2, numeros)))\n",
    "print(numeros)\n",
    "numeros = list(( map(lambda x: x*2, numeros)))\n",
    "print(numeros)\n"
   ]
  },
  {
   "cell_type": "markdown",
   "metadata": {},
   "source": [
    "La función map() se utiliza mucho junto a expresiones lambda ya que permite ahorrarnos el esfuerzo de crear bucles for.\n",
    "\n",
    "Además se puede utilizar sobre más de un iterable con la condición que tengan la misma longitud.\n",
    "\n",
    "Por ejemplo si queremos multiplicar los números de dos listas:"
   ]
  },
  {
   "cell_type": "code",
   "execution_count": 22,
   "metadata": {},
   "outputs": [
    {
     "name": "stdout",
     "output_type": "stream",
     "text": [
      "[6, 14, 24, 36, 50]\n",
      "[66, 168, 312, 504, 750]\n"
     ]
    }
   ],
   "source": [
    "a = [1, 2, 3, 4, 5]\n",
    "b = [6, 7, 8, 9, 10,2,3,4]\n",
    "\n",
    "lista = list( map(lambda x,y : x*y, a,b) )\n",
    "\n",
    "print(lista) \n",
    "\n",
    "c = [11, 12, 13, 14, 15]\n",
    "\n",
    "lista = list( map(lambda x,y,z : x*y*z, a,b,c) )\n",
    "\n",
    "print(lista)"
   ]
  },
  {
   "cell_type": "code",
   "execution_count": 23,
   "metadata": {},
   "outputs": [
    {
     "name": "stdout",
     "output_type": "stream",
     "text": [
      "<class 'map'>\n",
      "cuadrados1:  (4, 9, 16, 25, 36, 49, 64, 81)\n",
      "cuadrados2:  (4, 9, 16, 25, 36, 49, 64, 81)\n",
      "menores1:  (False, False, False, False, False, True, False, False)\n",
      "menores2:  (4, 6, 8, 10, 6, 7, 8, 9)\n",
      "TUPLA ORIGINAL:  (2, 3, 4, 5, 6, 7, 8, 9)\n"
     ]
    }
   ],
   "source": [
    "def cuadrado(n):\n",
    "    return n*n\n",
    "\n",
    "def selec_menores(n):\n",
    "    if n<6:\n",
    "        return n*2\n",
    "    return n\n",
    "\n",
    "\n",
    "numeros = (2,3,4,5,6,7,8,9)\n",
    "x = map(lambda x: x**2,numeros)\n",
    "print(type(x))\n",
    "cuadrados1 = tuple(x)    \n",
    "print(\"cuadrados1: \",cuadrados1)\n",
    "    \n",
    "cuadrados2 = tuple(map(cuadrado,numeros))\n",
    "print(\"cuadrados2: \",cuadrados2)\n",
    "    \n",
    "menores1 = tuple( map (lambda x: x>6 and x<8,numeros))\n",
    "print(\"menores1: \",menores1)\n",
    "    \n",
    "menores2 = tuple(map(selec_menores,numeros))\n",
    "print(\"menores2: \",menores2)\n",
    "    \n",
    "print(\"TUPLA ORIGINAL: \",numeros)\n"
   ]
  },
  {
   "cell_type": "markdown",
   "metadata": {},
   "source": [
    "# Mapeando objetos\n",
    "\n",
    "Evidentemente, siempre que la utilicemos correctamente podemos mapear una serie de objetos sin ningún problema:"
   ]
  },
  {
   "cell_type": "code",
   "execution_count": null,
   "metadata": {},
   "outputs": [],
   "source": [
    "class Alumno:\n",
    "    def __init__(self, nombre, nota):\n",
    "        self.__nombre = nombre\n",
    "        self.__nota = nota\n",
    "    def __str__(self):\n",
    "        return \"Alumno:{} Nota:{} \".format(self.__nombre, self.__nota)\n",
    "    def get_nota(self):\n",
    "        return self.__nota\n",
    "    def set_nota(self,nota):\n",
    "        self.__nota = nota\n",
    "\n",
    "alumnos = [\n",
    "    Alumno(\"Victoria\", 10),\n",
    "    Alumno(\"Manu\",7),\n",
    "    Alumno(\"Sergio\", 5),\n",
    "    Alumno(\"Maria\", 6),\n",
    "    Alumno(\"Brian\", 4)\n",
    "]\n",
    "\n",
    "\n",
    "def incrementar(p:Alumno)->Alumno:\n",
    "    if p.get_nota() < 10:\n",
    "        p.set_nota(p.get_nota()+1)\n",
    "    return p\n",
    "\n",
    "lista = list(map(incrementar, alumnos))\n",
    "\n",
    "for a in lista:\n",
    "    print(a)\n",
    "\n"
   ]
  },
  {
   "cell_type": "markdown",
   "metadata": {},
   "source": [
    "# Funación  reduce()\n",
    "\n",
    "Aplica una función a una colección y retorna solo un valor\n",
    "\n",
    "#### HAY QUE IMPORTARLA DEL PAQUETE DE FUNCIONES DE PYTHON"
   ]
  },
  {
   "cell_type": "code",
   "execution_count": 24,
   "metadata": {},
   "outputs": [
    {
     "name": "stdout",
     "output_type": "stream",
     "text": [
      "z:  66\n",
      "[1, 2, 3, 4, 5, 66, 7, 8, 9, 10]  PRODUCTO:  39916800\n",
      "[1, 2, 3, 4, 5, 66, 7, 8, 9, 10]  SUMA:  115\n",
      "[1, 2, 3, 4, 5, 66, 7, 8, 9, 10]  RESTA:  -113\n",
      "[1, 2, 3, 4, 5, 66, 7, 8, 9, 10]  El mayor:  66\n"
     ]
    }
   ],
   "source": [
    "from functools import reduce\n",
    "\n",
    "sumar = lambda x,y : x+y\n",
    "\n",
    "def restar(x,y):\n",
    "    return x-y\n",
    "\n",
    "def mayor(x,y):\n",
    "    if x > y:\n",
    "        return x\n",
    "    return y\n",
    "\n",
    "def maximo(x,y):\n",
    "    return max(x,y)\n",
    "    \n",
    "numeros = [1,2,3,4,5,66,7,8,9,10]\n",
    "    \n",
    "z = reduce(lambda x,y: max(x,y),numeros)\n",
    "\n",
    "print(\"z: \",z)\n",
    "\n",
    "producto = reduce(lambda x,y: x*y,numeros)\n",
    "\n",
    "print(numeros,\" PRODUCTO: \",producto)\n",
    "    \n",
    "suma = reduce(sumar,numeros)\n",
    "    \n",
    "print(numeros,\" SUMA: \",suma)\n",
    "    \n",
    "resta = reduce(restar,numeros)\n",
    "    \n",
    "print(numeros,\" RESTA: \",resta)\n",
    "\n",
    "print(numeros,\" El mayor: \",reduce(mayor,numeros))\n",
    "\n"
   ]
  },
  {
   "cell_type": "markdown",
   "metadata": {},
   "source": [
    "# Funcion sorted()"
   ]
  },
  {
   "cell_type": "code",
   "execution_count": 27,
   "metadata": {},
   "outputs": [
    {
     "name": "stdout",
     "output_type": "stream",
     "text": [
      "lista:  [('3', 'a', 4), ('1', 'z', 1), ('8', 'n', 9), ('5', 'i', 6), ('3', 'v', 4)]\n",
      "ordenada:  [('1', 'z', 1), ('3', 'a', 4), ('3', 'v', 4), ('5', 'i', 6), ('8', 'n', 9)]\n",
      "lista:  [('3', 'a', 4), ('1', 'z', 1), ('8', 'n', 9), ('5', 'i', 6), ('3', 'v', 4)]\n"
     ]
    }
   ],
   "source": [
    "\n",
    "\n",
    "\n",
    "listaTuplas = [(\"3\", \"a\", 4), (\"1\", \"z\", 1), (\"8\", \"n\", 9),(\"5\", \"i\", 6), (\"3\", \"v\", 4)]\n",
    "#                0    1   2\n",
    "# index             0               1              2\n",
    "print(\"lista: \", listaTuplas)\n",
    "\n",
    "\n",
    "\n",
    "listaTuplas_ord = sorted(listaTuplas, key=lambda x: x[2])\n",
    "\n",
    "\n",
    "print(\"ordenada: \", listaTuplas_ord)\n",
    "print(\"lista: \", listaTuplas)"
   ]
  },
  {
   "cell_type": "markdown",
   "metadata": {},
   "source": [
    "# Ordenando objetos"
   ]
  },
  {
   "cell_type": "code",
   "execution_count": null,
   "metadata": {},
   "outputs": [],
   "source": [
    "class Perro(object):\n",
    "\n",
    "    def __init__(self, nombre=\"perro\", raza=\"mixto\", sexo='X', edad=0):\n",
    "        self.nombre = nombre\n",
    "        self.raza = raza\n",
    "        self.sexo = sexo\n",
    "        self.edad = edad\n",
    "\n",
    "    def get_nombre(self):\n",
    "        return nombre\n",
    "\n",
    "    def get_raza(self):\n",
    "        return raza\n",
    "\n",
    "    def get_sexo(self):\n",
    "        return sexo\n",
    "\n",
    "    def get_edad(self):\n",
    "        return edad\n",
    "\n",
    "    def __str__(self):\n",
    "        return \"{:s},{:s},{:s},{:d}\".format(self.nombre, self.raza, self.sexo, self.edad)\n",
    "\n",
    "    def __repr__(self):\n",
    "        return \"{:s},{:s},{:s},{:d}\".format(self.nombre, self.raza, self.sexo, self.edad)\n",
    "\n",
    "    def __gt__(self, perro):\n",
    "        return self.edad > perro.edad\n",
    "    \n",
    "listaPerrors = [Perro(\"colita\", \"calle\", 'F', 4), Perro(\"pepe\", \"doberman\", 'M'), Perro()]\n",
    "    \n",
    "print(\"LISTA DE PERROS: \", listaPerrors)\n",
    "print(\"ORDEN NATURAL: \", sorted(listaPerrors))\n",
    "print(\"ORDEN NATURAL INVERTIDO: \", sorted(listaPerrors, reverse=True))\n",
    "print(\"ORDEN NOMBRE + EDAD: \", sorted(listaPerrors, key = lambda x: x.nombre + str(x.edad)))\n",
    "print(\"ORDEN NOMBRE INVERTIDO: \", sorted(listaPerrors, key=lambda x: x.nombre, reverse=True))"
   ]
  },
  {
   "cell_type": "code",
   "execution_count": null,
   "metadata": {},
   "outputs": [],
   "source": []
  }
 ],
 "metadata": {
  "interpreter": {
   "hash": "7b9fa9be9f35fc4099bf87bdbcb3f8dc895fcf48cc379b468ddaca34a9c94481"
  },
  "kernelspec": {
   "display_name": "Python 3",
   "language": "python",
   "name": "python3"
  },
  "language_info": {
   "codemirror_mode": {
    "name": "ipython",
    "version": 3
   },
   "file_extension": ".py",
   "mimetype": "text/x-python",
   "name": "python",
   "nbconvert_exporter": "python",
   "pygments_lexer": "ipython3",
   "version": "3.10.4"
  }
 },
 "nbformat": 4,
 "nbformat_minor": 4
}
