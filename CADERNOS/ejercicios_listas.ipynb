{
 "cells": [
  {
   "attachments": {},
   "cell_type": "markdown",
   "metadata": {},
   "source": [
    "***\n",
    "# <center>Ejercicios de L i s t a s</center>\n",
    "***"
   ]
  },
  {
   "attachments": {},
   "cell_type": "markdown",
   "metadata": {},
   "source": [
    "- 1) Crear una lista vacía llamada \"mi_lista\".\n",
    "\n",
    "- 2) Agregar los números del 1 al 5 a la lista.\n",
    "\n",
    "- 3) Imprimir el segundo elemento de la lista.\n",
    "\n",
    "- 4) Cambiar el valor del tercer elemento de la lista por \"Hola\".\n",
    "\n",
    "- 5) Agregar el número 6 al final de la lista.\n",
    "\n",
    "- 6) Imprimir el número de elementos que hay en la lista.\n",
    "\n",
    "- 7) Eliminar el último elemento de la lista.\n",
    "\n",
    "- 8) Ordenar la lista en orden ascendente.\n",
    "\n",
    "- 9) Crear una nueva lista que contenga los elementos de la lista original en orden inverso.\n",
    "\n",
    "- 10) Imprimir todos los elementos de la lista en líneas separadas.\n",
    "\n",
    "- 11) Dada una lista de números, encuentrar el valor máximo y mínimo de la lista.\n",
    "\n",
    "- 12) Crear una lista de nombres y ordénalos alfabéticamente.\n",
    "\n",
    "- 13) Dada una lista de números, eliminar todos los elementos repetidos y mostrar la lista resultante.\n",
    "\n",
    "- 14) Dada una lista de palabras, crear una nueva lista que contenga solo las palabras que tienen más de 5 caracteres.\n",
    "\n",
    "- 15) Dada una lista de números, crear una nueva lista que contenga solo los números pares.\n",
    "\n",
    "- 16) Crear una lista de números y calcular la suma de todos los elementos.\n",
    "\n",
    "- 17) Dada una lista de cadenas, contar cuántas veces aparece una cadena específica en la lista.\n",
    "\n",
    "- 18) Dada una lista de números, crear una nueva lista que contenga solo los números mayores que un valor dado.\n",
    "\n",
    "- 19) Dada una lista de palabras, crear una cadena de texto que contenga todas las palabras concatenadas.\n",
    "\n",
    "- 20) Dada una lista de nombres, mostrar los nombres en orden inverso.\n",
    "\n",
    "- 21) Dada una lista de números, crear una función que devuelva una nueva lista que contenga solo los números primos.\n",
    "\n",
    "- 22) Dada una lista de palabras, crear una función que devuelva una nueva lista con las palabras que son palíndromos (se leen igual de izquierda a derecha y de derecha a izquierda).\n",
    "\n",
    "- 23) Dada una lista de listas de números, crear una función que devuelva una nueva lista con la suma de cada sublista.\n",
    "\n",
    "- 24) Dada una lista de números, crear una función que devuelva el segundo número más grande de la lista.\n",
    "\n",
    "- 25) Dada una lista de cadenas, crear una función que devuelva una nueva lista con las cadenas ordenadas por su longitud de forma descendente.\n",
    "\n",
    "- 26) Dada una lista de números, crea una función que devuelva la mediana de la lista (el valor que se encuentra en el medio cuando la lista está ordenada).\n",
    "\n",
    "- 27) Dada una lista de palabras, crear una función que devuelva una nueva lista con las palabras que contengan todas las vocales.\n",
    "\n",
    "- 28) Dada una lista de números, crear una función que devuelva una nueva lista con los números que son múltiplos de todos los elementos anteriores.\n",
    "\n",
    "- 29) Dada una lista de números, crear una función que devuelva la suma acumulada de los números en la lista (cada elemento de la nueva lista debe ser la suma de todos los números anteriores, incluyendo el número actual).\n",
    "\n",
    "- 30) Dada una lista de palabras, crear una función que devuelva una nueva lista con las palabras que son anagramas entre sí (tienen las mismas letras pero en diferente orden)."
   ]
  }
 ],
 "metadata": {
  "language_info": {
   "name": "python"
  },
  "orig_nbformat": 4
 },
 "nbformat": 4,
 "nbformat_minor": 2
}
