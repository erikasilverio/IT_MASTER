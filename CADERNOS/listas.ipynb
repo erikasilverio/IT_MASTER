{
 "cells": [
  {
   "attachments": {},
   "cell_type": "markdown",
   "metadata": {},
   "source": [
    "***\n",
    "# <center>L i s t a s</center>\n",
    "***"
   ]
  },
  {
   "attachments": {},
   "cell_type": "markdown",
   "metadata": {},
   "source": [
    "## una lista es una estructura de datos **mutable** y ordenada que permite almacenar una colección de elementos. Puedes pensar en una lista como una secuencia de elementos, donde cada elemento tiene una posición específica, conocida como índice.\n",
    "\n",
    "### Las listas se definen escribiendo sus elementos entre corchetes [] y separados por comas o con la 'función' list().\n",
    "\n",
    "Ejemplo:"
   ]
  },
  {
   "cell_type": "code",
   "execution_count": 1,
   "metadata": {},
   "outputs": [
    {
     "name": "stdout",
     "output_type": "stream",
     "text": [
      "[1, 2, 3, 4, 5]\n"
     ]
    }
   ],
   "source": [
    "mi_lista = [1, 2, 3, 4, 5] # creamos una lista\n",
    "print(mi_lista)"
   ]
  },
  {
   "attachments": {},
   "cell_type": "markdown",
   "metadata": {},
   "source": [
    "### En este caso, hemos creado una lista llamada mi_lista que contiene los números del 1 al 5. Sin embargo, las listas en Python pueden contener cualquier tipo de elemento, incluyendo números, cadenas de texto, booleanos e incluso otras listas.\n",
    "\n",
    "### Aquí hay otro ejemplo de una lista que contiene una mezcla de tipos de elementos:"
   ]
  },
  {
   "cell_type": "code",
   "execution_count": 2,
   "metadata": {},
   "outputs": [
    {
     "name": "stdout",
     "output_type": "stream",
     "text": [
      "otra_lista: [1, 'dos', True, 3.14]\n"
     ]
    }
   ],
   "source": [
    "otra_lista = [1, \"dos\", True, 3.14] # creamos otra lista\n",
    "print(f\"otra_lista: {otra_lista}\")"
   ]
  },
  {
   "attachments": {},
   "cell_type": "markdown",
   "metadata": {},
   "source": [
    "### Una vez que has creado una lista, puedes acceder a sus elementos utilizando el índice correspondiente. En Python, los índices comienzan desde cero, lo que significa que el primer elemento de la lista tiene un índice de 0, el segundo elemento tiene un índice de 1, y así sucesivamente.\n",
    "\n",
    "### Por ejemplo, si queremos acceder al segundo elemento de la lista mi_lista, podemos hacerlo de la siguiente manera:"
   ]
  },
  {
   "cell_type": "code",
   "execution_count": 3,
   "metadata": {},
   "outputs": [
    {
     "name": "stdout",
     "output_type": "stream",
     "text": [
      "El segundo elemento de mi_lista es 2 Está en la posición 1\n"
     ]
    }
   ],
   "source": [
    "segundo_elemento = mi_lista[1]\n",
    "print(f\"El segundo elemento de mi_lista es {segundo_elemento} Está en la posición 1\")"
   ]
  },
  {
   "attachments": {},
   "cell_type": "markdown",
   "metadata": {},
   "source": [
    "### Además de acceder a elementos individuales, las listas en Python también admiten operaciones como la adición de nuevos elementos, la eliminación de elementos existentes, la modificación de elementos y muchas más. Esto las convierte en una herramienta poderosa para trabajar con conjuntos de datos dinámicos."
   ]
  },
  {
   "attachments": {},
   "cell_type": "markdown",
   "metadata": {},
   "source": [
    "## Operadores Numéricos:\n",
    "\n",
    "### Suma de listas: Puedes usar el operador de suma (+) para concatenar dos listas y obtener una nueva lista que contenga todos los elementos de ambas listas."
   ]
  },
  {
   "cell_type": "code",
   "execution_count": 4,
   "metadata": {},
   "outputs": [
    {
     "name": "stdout",
     "output_type": "stream",
     "text": [
      "lista1: [1, 2, 3]\n",
      "lista2: [4, 5, 6]\n",
      "nueva_lista: [1, 2, 3, 4, 5, 6]\n"
     ]
    }
   ],
   "source": [
    "lista1 = [1, 2, 3]\n",
    "print(f\"lista1: {lista1}\")\n",
    "lista2 = [4, 5, 6]\n",
    "print(f\"lista2: {lista2}\")\n",
    "nueva_lista = lista1 + lista2\n",
    "print(f\"nueva_lista: {nueva_lista}\")  # Resultado: [1, 2, 3, 4, 5, 6]\n"
   ]
  },
  {
   "attachments": {},
   "cell_type": "markdown",
   "metadata": {},
   "source": [
    "### Multiplicación de listas: Puedes multiplicar una lista por un número entero para repetir sus elementos varias veces y obtener una nueva lista."
   ]
  },
  {
   "cell_type": "code",
   "execution_count": 5,
   "metadata": {},
   "outputs": [
    {
     "name": "stdout",
     "output_type": "stream",
     "text": [
      "lista: [1, 2, 3]\n",
      "repetida: [1, 2, 3, 1, 2, 3, 1, 2, 3]\n"
     ]
    }
   ],
   "source": [
    "lista = [1, 2, 3]\n",
    "print(f\"lista: {lista}\")\n",
    "repetida = lista * 3\n",
    "print(f\"repetida: {repetida}\")  # Resultado: [1, 2, 3, 1, 2, 3, 1, 2, 3]"
   ]
  },
  {
   "attachments": {},
   "cell_type": "markdown",
   "metadata": {},
   "source": [
    "## Operadores Lógicos:\n",
    "\n",
    "### Los operadores lógicos se utilizan para evaluar condiciones y realizar operaciones lógicas en las listas. Aquí tienes algunos ejemplos:\n",
    "\n",
    "### Operador in: Puedes utilizar el operador in para verificar si un elemento está presente en una lista."
   ]
  },
  {
   "cell_type": "code",
   "execution_count": 6,
   "metadata": {},
   "outputs": [
    {
     "name": "stdout",
     "output_type": "stream",
     "text": [
      "3 in [1, 2, 3, 4, 5] = True\n",
      "6 in [1, 2, 3, 4, 5] = False\n"
     ]
    }
   ],
   "source": [
    "lista = [1, 2, 3, 4, 5]\n",
    "x = 3\n",
    "print(f\"{x} in {lista} = {x in lista}\")  # Resultado: True\n",
    "x = 6\n",
    "print(f\"{x} in {lista} = {x in lista}\")  # Resultado: False"
   ]
  },
  {
   "attachments": {},
   "cell_type": "markdown",
   "metadata": {},
   "source": [
    "### Operador de comparación: Puedes utilizar operadores de comparación como ==, !=, <, >, <= y >= para comparar listas y obtener un resultado booleano."
   ]
  },
  {
   "cell_type": "code",
   "execution_count": 7,
   "metadata": {},
   "outputs": [
    {
     "name": "stdout",
     "output_type": "stream",
     "text": [
      "[1, 2, 3] == [1, 2, 3] = True\n",
      "[1, 2, 3] != [4, 5, 6] = True\n",
      "[1, 2, 3] < [1, 2, 3, 4] = True\n",
      "[1, 2, 3] > [1, 2, 3, 4] = False\n",
      "[1, 2, 3] <= [1, 2, 3, 4] = True\n",
      "[1, 2, 3] >= [1, 2, 3, 4] = False\n",
      "[1, 2, 3] in [1, 2, 3] = False\n",
      "[1, 2, 3] not in [1, 2, 3] = True\n"
     ]
    }
   ],
   "source": [
    "lista1 = [1, 2, 3]\n",
    "lista2 = [1, 2, 3]\n",
    "lista3 = [4, 5, 6]\n",
    "lista4 = [1, 2, 3, 4]\n",
    "\n",
    "print(f\"{lista1} == {lista2} = {lista1 == lista2}\")  \n",
    "print(f\"{lista1} != {lista3} = {lista1 != lista3}\")  \n",
    "print(f\"{lista1} < {lista4} = {lista1 < lista4}\")\n",
    "print(f\"{lista1} > {lista4} = {lista1 > lista4}\")\n",
    "print(f\"{lista1} <= {lista4} = {lista1 <= lista4}\")\n",
    "print(f\"{lista1} >= {lista4} = {lista1 >= lista4}\")\n",
    "print(f\"{lista1} in {lista2} = {lista1 in lista2}\")\n",
    "print(f\"{lista1} not in {lista2} = {lista1 not in lista2}\")"
   ]
  },
  {
   "attachments": {},
   "cell_type": "markdown",
   "metadata": {},
   "source": [
    "## Las listas son objetos:\n",
    "\n",
    "### En Python, las listas son objetos, lo que significa que se crean en la memoria y tienen una identidad única. Cuando asignas una lista a una variable, en realidad estás creando una referencia a ese objeto de lista en memoria. Esto es importante tenerlo en cuenta para entender cómo funciona el aliasing.\n",
    "\n",
    "## Aliasing al asignar una lista a otra:\n",
    "\n",
    "### Cuando asignas una lista a otra lista utilizando el operador de asignación (=), estás creando un alias. Esto significa que ambas variables hacen referencia al mismo objeto en la memoria. Cualquier modificación realizada en una de las variables afectará al objeto de lista al que hacen referencia ambas variables.\n",
    "\n",
    "Ejemplo:"
   ]
  },
  {
   "cell_type": "code",
   "execution_count": 8,
   "metadata": {},
   "outputs": [
    {
     "name": "stdout",
     "output_type": "stream",
     "text": [
      "lista1: [1, 2, 3]\n",
      "lista2: [1, 2, 3]\n",
      "Agregamos un elemento a lista2 con el método append\n",
      "lista2: [1, 2, 3, 4]\n",
      "lista1: [1, 2, 3, 4]\n"
     ]
    }
   ],
   "source": [
    "lista1 = [1, 2, 3]\n",
    "print(f\"lista1: {lista1}\")\n",
    "lista2 = lista1  # Alias: lista2 hace referencia al mismo objeto que lista1\n",
    "print(f\"lista2: {lista2}\")\n",
    "print(\"Agregamos un elemento a lista2 con el método append\")\n",
    "lista2.append(4)\n",
    "print(f\"lista2: {lista2}\")\n",
    "print(f\"lista1: {lista1}\")  # lista1 también se ve afectada"
   ]
  },
  {
   "attachments": {},
   "cell_type": "markdown",
   "metadata": {},
   "source": [
    "### En este caso, al modificar la lista a través de lista2, la lista original lista1 también se ve afectada, ya que ambas variables hacen referencia al mismo objeto."
   ]
  },
  {
   "attachments": {},
   "cell_type": "markdown",
   "metadata": {},
   "source": [
    "## Operador de rebanado:\n",
    "\n",
    "### El operador [::] se llama operador de rebanado (slicing operator) y se utiliza para extraer una porción o subconjunto de elementos de una lista en Python. Tiene la siguiente sintaxis general: [inicio:fin:paso].\n",
    "\n",
    "### __inicio__: representa el índice de inicio de la rebanada (slice).\n",
    "### __fin__: indica el índice de finalización de la rebanada (excluido).\n",
    "### __paso__: determina el tamaño del salto entre elementos consecutivos.\n",
    "\n",
    "Ejemplos que ilustran cómo usar el operador de rebanado en diferentes casos:"
   ]
  },
  {
   "attachments": {},
   "cell_type": "markdown",
   "metadata": {},
   "source": [
    "## Extraer una porción de la lista:"
   ]
  },
  {
   "cell_type": "code",
   "execution_count": 9,
   "metadata": {},
   "outputs": [
    {
     "name": "stdout",
     "output_type": "stream",
     "text": [
      "lista: [1, 2, 3, 4, 5, 6, 7, 8, 9]\n",
      "rebanada: [3, 4, 5, 6]\n"
     ]
    }
   ],
   "source": [
    "lista = [1, 2, 3, 4, 5, 6, 7, 8, 9]\n",
    "#index   0  1  2  3  4  5  6  7  8 \n",
    "\n",
    "print(f\"lista: {lista}\")\n",
    "rebanada = lista[2:6]\n",
    "print(f\"rebanada: {rebanada}\")  # Resultado: [3, 4, 5, 6]"
   ]
  },
  {
   "attachments": {},
   "cell_type": "markdown",
   "metadata": {},
   "source": [
    "### En este caso, la rebanada [2:6] extrae los elementos desde el índice 2 hasta el índice 6 (excluido), por lo que obtenemos [3, 4, 5, 6].\n",
    "\n",
    "## Especificar el paso de salto:"
   ]
  },
  {
   "cell_type": "code",
   "execution_count": 10,
   "metadata": {},
   "outputs": [
    {
     "name": "stdout",
     "output_type": "stream",
     "text": [
      "lista: [1, 2, 3, 4, 5, 6, 7, 8, 9]\n",
      "rebanada: [2, 4, 6, 8]\n"
     ]
    }
   ],
   "source": [
    "lista = [1, 2, 3, 4, 5, 6, 7, 8, 9]\n",
    "#index   0  1  2  3  4  5  6  7  8 \n",
    "print(f\"lista: {lista}\")\n",
    "rebanada = lista[1:8:2]  # ese 2 salta de 2 en 2\n",
    "print(f\"rebanada: {rebanada}\")  # Resultado: [2, 4, 6, 8]"
   ]
  },
  {
   "attachments": {},
   "cell_type": "markdown",
   "metadata": {},
   "source": [
    "### En este caso, la rebanada [1:8:2] extrae los elementos desde el índice 1 hasta el índice 8 (excluido), con un paso de 2, lo que significa que toma cada segundo elemento y obtenemos [2, 4, 6, 8].\n",
    "\n",
    "## Copiar una lista:"
   ]
  },
  {
   "cell_type": "code",
   "execution_count": 11,
   "metadata": {},
   "outputs": [
    {
     "name": "stdout",
     "output_type": "stream",
     "text": [
      "lista: [1, 2, 3, 4, 5]\n",
      "copia: [1, 2, 3, 4, 5]\n",
      "lista: ['pepe', 2, 3, 4, 5]\n",
      "copia: ['lui', 2, 3, 4, 5]\n"
     ]
    }
   ],
   "source": [
    "lista = [1, 2, 3, 4, 5]\n",
    "print(f\"lista: {lista}\")\n",
    "copia = lista[:]  # con el [:] hacemos una copia\n",
    "print(f\"copia: {copia}\")  # Resultado: [1, 2, 3, 4, 5]\n",
    "\n",
    "lista[0] = \"pepe\"\n",
    "copia[0] = \"lui\"\n",
    "\n",
    "print(f\"lista: {lista}\")\n",
    "print(f\"copia: {copia}\")  \n"
   ]
  },
  {
   "attachments": {},
   "cell_type": "markdown",
   "metadata": {},
   "source": [
    "### Aquí, el operador de rebanado [::] se utiliza sin especificar ningún índice de inicio, final o paso, lo que resulta en la copia completa de la lista original.\n",
    "\n",
    "## Invertir una lista:"
   ]
  },
  {
   "cell_type": "code",
   "execution_count": 12,
   "metadata": {},
   "outputs": [
    {
     "name": "stdout",
     "output_type": "stream",
     "text": [
      "lista: [1, 2, 3, 4, 5]\n",
      "inversa: [5, 4, 3, 2, 1]\n",
      "lista: [5, 4, 3, 2, 1]\n"
     ]
    }
   ],
   "source": [
    "lista = [1, 2, 3, 4, 5]\n",
    "inversa = lista[::-1]\n",
    "print(f\"lista: {lista}\")\n",
    "print(f\"inversa: {inversa}\")  # Resultado: [5, 4, 3, 2, 1]\n",
    "\n",
    "lista = lista[::-1]\n",
    "print(f\"lista: {lista}\")"
   ]
  },
  {
   "attachments": {},
   "cell_type": "markdown",
   "metadata": {},
   "source": [
    "### En este caso, el paso -1 se utiliza para invertir el orden de la lista original y obtener [5, 4, 3, 2, 1].\n",
    "\n",
    "## Eliminar totalmente una lista:"
   ]
  },
  {
   "cell_type": "code",
   "execution_count": 13,
   "metadata": {},
   "outputs": [
    {
     "name": "stdout",
     "output_type": "stream",
     "text": [
      "lista: [1, 2, 3, 4, 5]\n",
      "lista: []\n"
     ]
    }
   ],
   "source": [
    "lista = [1, 2, 3, 4, 5]\n",
    "print(f\"lista: {lista}\")\n",
    "del lista[:]\n",
    "print(f\"lista: {lista}\")  # Resultado: []"
   ]
  },
  {
   "attachments": {},
   "cell_type": "markdown",
   "metadata": {},
   "source": [
    "### Otra forma de eliminar una lista es :"
   ]
  },
  {
   "cell_type": "code",
   "execution_count": 14,
   "metadata": {},
   "outputs": [
    {
     "name": "stdout",
     "output_type": "stream",
     "text": [
      "lista: [1, 2, 3, 4, 5]\n",
      "lista: []\n"
     ]
    }
   ],
   "source": [
    "lista = [1, 2, 3, 4, 5]\n",
    "print(f\"lista: {lista}\")\n",
    "lista[:] = []\n",
    "print(f\"lista: {lista}\")"
   ]
  },
  {
   "attachments": {},
   "cell_type": "markdown",
   "metadata": {},
   "source": [
    "## Métodos de lista:\n",
    "\n",
    "### Los métodos de lista son funciones incorporadas a cada lista que se utilizan para realizar operaciones en listas. \n",
    "\n",
    "__append(elemento):__ Agrega un elemento al final de la lista."
   ]
  },
  {
   "cell_type": "code",
   "execution_count": 15,
   "metadata": {},
   "outputs": [
    {
     "name": "stdout",
     "output_type": "stream",
     "text": [
      "frutas: ['manzana', 'banana', 'cereza']\n",
      "frutas: ['manzana', 'banana', 'cereza', 'naranja']\n",
      "frutas: ['manzana', 'banana', 'cereza', 'naranja', (1, 2, 3)]\n"
     ]
    }
   ],
   "source": [
    "frutas = ['manzana', 'banana', 'cereza']\n",
    "print(f\"frutas: {frutas}\")\n",
    "frutas.append('naranja')\n",
    "print(f\"frutas: {frutas}\")  # Resultado: ['manzana', 'banana', 'cereza', 'naranja']\n",
    "frutas.append((1,2,3))\n",
    "print(f\"frutas: {frutas}\")  "
   ]
  },
  {
   "attachments": {},
   "cell_type": "markdown",
   "metadata": {},
   "source": [
    "__extend(iterable):__ Extiende la lista agregando los elementos del iterable al final."
   ]
  },
  {
   "cell_type": "code",
   "execution_count": 16,
   "metadata": {},
   "outputs": [
    {
     "name": "stdout",
     "output_type": "stream",
     "text": [
      "numeros: [1, 2, 3]\n",
      "Agregamos los elementos 4, 5 y 6 con el método extend\n",
      "numeros: [1, 2, 3, 4, 5, 6]\n",
      "tupla: (7, 8, 9)\n",
      "Agregamos los elementos de la tupla (7, 8, 9) con el método extend\n",
      "numeros: [1, 2, 3, 4, 5, 6, 7, 8, 9]\n"
     ]
    }
   ],
   "source": [
    "numeros = [1, 2, 3]\n",
    "print(f\"numeros: {numeros}\")\n",
    "print(\"Agregamos los elementos 4, 5 y 6 con el método extend\")\n",
    "numeros.extend([4, 5, 6])\n",
    "print(f\"numeros: {numeros}\")  # Resultado: [1, 2, 3, 4, 5, 6]\n",
    "tupla = (7, 8, 9)\n",
    "print(f\"tupla: {tupla}\")\n",
    "print(\"Agregamos los elementos de la tupla (7, 8, 9) con el método extend\")\n",
    "numeros.extend(tupla)\n",
    "print(f\"numeros: {numeros}\")  # Resultado: [1, 2, 3, 4, 5, 6, 7, 8, 9]"
   ]
  },
  {
   "attachments": {},
   "cell_type": "markdown",
   "metadata": {},
   "source": [
    "__insert(indice, elemento):__ Inserta un elemento en una posición específica de la lista."
   ]
  },
  {
   "cell_type": "code",
   "execution_count": 18,
   "metadata": {},
   "outputs": [
    {
     "name": "stdout",
     "output_type": "stream",
     "text": [
      "colores: ['rojo', 'verde', 'azul']\n",
      "\n",
      "Agregamos el color 'amarillo' en la posición 1 con el método insert\n",
      "colores: ['rojo', 'amarillo', 'verde', 'azul']\n",
      "\n",
      "Agregamos el color 'naranja' en la posición 0 con el método insert\n",
      "colores: ['naranja', 'rojo', 'amarillo', 'verde', 'azul']\n",
      "\n",
      "Agregamos el color 'violeta' en la posición -1 con el método insert\n",
      "colores: ['naranja', 'rojo', 'amarillo', 'verde', 'violeta', 'azul']\n",
      "\n",
      "largocolores: 6\n",
      "Agregamos el color 'verde loro' en la posición largocolores con el método insert\n",
      "colores: ['naranja', 'rojo', 'amarillo', 'verde', 'violeta', 'azul', 'verde loro']\n",
      "\n",
      "ultimo: 6\n",
      "Agregamos el color 'azul cielo' en la posición ultimo con el método insert\n",
      "colores: ['naranja', 'rojo', 'amarillo', 'verde', 'violeta', 'azul', 'azul cielo', 'verde loro']\n",
      "\n",
      "Agregamos el color 'celeste' en la posición -100 con el método insert\n",
      "colores: ['celeste', 'naranja', 'rojo', 'amarillo', 'verde', 'violeta', 'azul', 'azul cielo', 'verde loro']\n",
      "\n",
      "Agregamos el color 'celeste' en la posición 100 con el método insert\n",
      "colores: ['celeste', 'naranja', 'rojo', 'amarillo', 'verde', 'violeta', 'azul', 'azul cielo', 'verde loro', 'celeste']\n"
     ]
    }
   ],
   "source": [
    "colores = ['rojo', 'verde', 'azul']\n",
    "print(f\"colores: {colores}\")  \n",
    "print()\n",
    "print(\"Agregamos el color 'amarillo' en la posición 1 con el método insert\")\n",
    "colores.insert(1, 'amarillo')\n",
    "print(f\"colores: {colores}\")  \n",
    "print()\n",
    "print(\"Agregamos el color 'naranja' en la posición 0 con el método insert\")\n",
    "colores.insert(0, 'naranja')\n",
    "print(f\"colores: {colores}\")  \n",
    "print()\n",
    "print(\"Agregamos el color 'violeta' en la posición -1 con el método insert\")\n",
    "colores.insert(-1, 'violeta')\n",
    "print(f\"colores: {colores}\")\n",
    "print()\n",
    "largocolores = len(colores)\n",
    "print(f\"largocolores: {largocolores}\")\n",
    "print(\"Agregamos el color 'verde loro' en la posición largocolores con el método insert\")\n",
    "colores.insert(largocolores, 'verde loro')\n",
    "print(f\"colores: {colores}\")\n",
    "print()\n",
    "ultimo = len(colores)-1\n",
    "print(f\"ultimo: {ultimo}\")\n",
    "print(\"Agregamos el color 'azul cielo' en la posición ultimo con el método insert\")\n",
    "colores.insert(ultimo,\"azul cielo\")\n",
    "print(f\"colores: {colores}\")\n",
    "print()\n",
    "print(\"Agregamos el color 'celeste' en la posición -100 con el método insert\")\n",
    "colores.insert(-100, 'celeste')\n",
    "print(f\"colores: {colores}\")  \n",
    "print()\n",
    "print(\"Agregamos el color 'celeste' en la posición 100 con el método insert\")\n",
    "colores.insert(100, 'celeste')\n",
    "print(f\"colores: {colores}\")  "
   ]
  },
  {
   "attachments": {},
   "cell_type": "markdown",
   "metadata": {},
   "source": [
    "__remove(elemento):__ Elimina la primera aparición del elemento especificado en la lista.\n",
    "\n",
    "No devuelve nada, pero modifica la lista original. Si el elemento no está presente, se produce un error."
   ]
  },
  {
   "cell_type": "code",
   "execution_count": 19,
   "metadata": {},
   "outputs": [
    {
     "name": "stdout",
     "output_type": "stream",
     "text": [
      "nombres: ['Juan', 'Pedro', 'María']\n"
     ]
    }
   ],
   "source": [
    "nombres = ['Juan', 'María', 'Pedro', 'María']\n",
    "nombres.remove('María')\n",
    "print(f\"nombres: {nombres}\")  # Resultado: ['Juan', 'Pedro', 'María']\n",
    "# nombres.remove('Juan Domingo Pirulo') # Genera una excepción ValueError"
   ]
  },
  {
   "attachments": {},
   "cell_type": "markdown",
   "metadata": {},
   "source": [
    "__pop([indice]):__ Elimina y devuelve el elemento en la posición especificada. Si no se especifica un índice, se elimina y devuelve el último elemento de la lista."
   ]
  },
  {
   "cell_type": "code",
   "execution_count": 20,
   "metadata": {},
   "outputs": [
    {
     "name": "stdout",
     "output_type": "stream",
     "text": [
      "numeros: [1, 2, 3, 4, 5]\n",
      "Eliminamos el elemento de la posición 2 con el método pop\n",
      "elemento de la posicion 2: 3\n",
      "Eliminamos el último elemento con el método pop()\n",
      "elemento: 5\n",
      "numeros: [1, 2, 4]\n"
     ]
    }
   ],
   "source": [
    "numeros = [1, 2, 3, 4, 5]\n",
    "print(f\"numeros: {numeros}\")  # Resultado: [1, 2, 4, 5]\n",
    "print(\"Eliminamos el elemento de la posición 2 con el método pop\")\n",
    "elemento = numeros.pop(2)\n",
    "print(f\"elemento de la posicion 2: {elemento}\")  # Resultado: 3\n",
    "print(\"Eliminamos el último elemento con el método pop()\")\n",
    "elemento = numeros.pop()\n",
    "print(f\"elemento: {elemento}\")  # Resultado: 5\n",
    "print(f\"numeros: {numeros}\")  # Resultado: [1, 2, 4]"
   ]
  },
  {
   "attachments": {},
   "cell_type": "markdown",
   "metadata": {},
   "source": [
    "__index(elemento):__ Devuelve el índice de la primera aparición del elemento en la lista.\n",
    "Si el elemento no está presente, se produce un error."
   ]
  },
  {
   "cell_type": "code",
   "execution_count": 21,
   "metadata": {},
   "outputs": [
    {
     "name": "stdout",
     "output_type": "stream",
     "text": [
      "letras: ['a', 'b', 'c', 'd', 'a']\n",
      "2\n"
     ]
    }
   ],
   "source": [
    "letras = ['a', 'b', 'c', 'd', 'a']\n",
    "print(f\"letras: {letras}\")\n",
    "indice = letras.index('c')\n",
    "print(indice)  # Resultado: 2"
   ]
  },
  {
   "attachments": {},
   "cell_type": "markdown",
   "metadata": {},
   "source": [
    "__count(elemento):__ Devuelve el número de veces que aparece el elemento en la lista."
   ]
  },
  {
   "cell_type": "code",
   "execution_count": 22,
   "metadata": {},
   "outputs": [
    {
     "name": "stdout",
     "output_type": "stream",
     "text": [
      "numeros: [1, 2, 3, 4, 3, 5, 3, 3, 3]\n",
      "Contamos la cantidad de veces que aparece el número 3 con el método count\n",
      "El número 3 aparece 5 veces\n"
     ]
    }
   ],
   "source": [
    "numeros = [1, 2, 3, 4, 3, 5, 3, 3, 3]\n",
    "print(f\"numeros: {numeros}\")\n",
    "print(\"Contamos la cantidad de veces que aparece el número 3 con el método count\")\n",
    "contador = numeros.count(3)\n",
    "print(f\"El número 3 aparece {contador} veces\")  # Resultado: 3"
   ]
  },
  {
   "attachments": {},
   "cell_type": "markdown",
   "metadata": {},
   "source": [
    "__sort():__ Ordena la lista en su lugar de forma ascendente.\n",
    "Ordena la lista en su lugar de forma ascendente."
   ]
  },
  {
   "cell_type": "code",
   "execution_count": 24,
   "metadata": {},
   "outputs": [
    {
     "name": "stdout",
     "output_type": "stream",
     "text": [
      "numeros: [4, 2, 1, 3, 5]\n",
      "numeros: [1, 2, 3, 4, 5]\n"
     ]
    }
   ],
   "source": [
    "numeros = [4, 2, 1, 3, 5]\n",
    "print(f\"numeros: {numeros}\")\n",
    "numeros.sort()\n",
    "print(f\"numeros: {numeros}\")  # Resultado: [1, 2, 3, 4, 5]"
   ]
  },
  {
   "attachments": {},
   "cell_type": "markdown",
   "metadata": {},
   "source": [
    "__sort(reverse=True):__ Ordena la lista en su lugar de forma descendente."
   ]
  },
  {
   "cell_type": "code",
   "execution_count": 25,
   "metadata": {},
   "outputs": [
    {
     "name": "stdout",
     "output_type": "stream",
     "text": [
      "numeros: [4, 2, 1, 3, 5]\n",
      "numeros: [5, 4, 3, 2, 1]\n"
     ]
    }
   ],
   "source": [
    "numeros = [4, 2, 1, 3, 5]\n",
    "print(f\"numeros: {numeros}\")\n",
    "numeros.sort(reverse=True)\n",
    "print(f\"numeros: {numeros}\")  # Resultado: [5, 4, 3, 2, 1]"
   ]
  },
  {
   "attachments": {},
   "cell_type": "markdown",
   "metadata": {},
   "source": [
    "### El método sort() de la clase list en Python acepta dos parámetros opcionales. El primer parámetro es key, que especifica una función que se utiliza para extraer una clave de cada elemento en la lista. El segundo parámetro es reverse que ya vimos anteriormente."
   ]
  },
  {
   "cell_type": "code",
   "execution_count": 26,
   "metadata": {},
   "outputs": [
    {
     "name": "stdout",
     "output_type": "stream",
     "text": [
      "frutas: ['manzana', 'banana', 'cereza', 'naranja', 'limón', 'frutilla', 'kiwi']\n",
      "Ordenamos la lista de frutas con el método sort\n",
      "frutas: ['banana', 'cereza', 'frutilla', 'kiwi', 'limón', 'manzana', 'naranja']\n",
      "Ordenamos la lista de frutas por la longitud de sus elementos con el método sort\n",
      "frutas: ['kiwi', 'limón', 'banana', 'cereza', 'manzana', 'naranja', 'frutilla']\n"
     ]
    }
   ],
   "source": [
    "frutas = ['manzana', 'banana', 'cereza', 'naranja', 'limón', 'frutilla', 'kiwi']\n",
    "print(f\"frutas: {frutas}\") \n",
    "print(\"Ordenamos la lista de frutas con el método sort\")\n",
    "frutas.sort()\n",
    "print(f\"frutas: {frutas}\") \n",
    "print(\"Ordenamos la lista de frutas por la longitud de sus elementos con el método sort\")\n",
    "frutas.sort(key=len)\n",
    "print(f\"frutas: {frutas}\") \n"
   ]
  },
  {
   "attachments": {},
   "cell_type": "markdown",
   "metadata": {},
   "source": [
    "### Para ordenar la lista frutas alfabéticamente según la última letra de cada elemento, puedes utilizar el parámetro key del método sort() y especificar una _función lambda_ que devuelva la última letra de cada palabra."
   ]
  },
  {
   "cell_type": "code",
   "execution_count": 27,
   "metadata": {},
   "outputs": [
    {
     "name": "stdout",
     "output_type": "stream",
     "text": [
      "frutas: ['manzana', 'banana', 'cereza', 'naranja', 'limón', 'frutilla', 'kiwi']\n",
      "frutas: ['manzana', 'banana', 'cereza', 'naranja', 'frutilla', 'kiwi', 'limón']\n"
     ]
    }
   ],
   "source": [
    "frutas = ['manzana', 'banana', 'cereza', 'naranja', 'limón', 'frutilla', 'kiwi']\n",
    "print(f\"frutas: {frutas}\") \n",
    "\n",
    "# Ordenar la lista de frutas alfabéticamente\n",
    "frutas.sort(key=lambda x: x[-1])  # Utilizamos una función lambda para obtener la última letra\n",
    "print(f\"frutas: {frutas}\") \n"
   ]
  },
  {
   "attachments": {},
   "cell_type": "markdown",
   "metadata": {},
   "source": [
    "### En este caso, la función lambda lambda x: x[-1] se utiliza como el parámetro key del método sort(). Esta función toma cada elemento de la lista frutas y devuelve su última letra utilizando la indexación -1. La lista se ordena utilizando esta clave de ordenamiento, lo que resulta en una lista ordenada alfabéticamente según la última letra de cada fruta."
   ]
  },
  {
   "attachments": {},
   "cell_type": "markdown",
   "metadata": {},
   "source": [
    "__reverse():__ Invierte el orden de los elementos de la lista."
   ]
  },
  {
   "cell_type": "code",
   "execution_count": 28,
   "metadata": {},
   "outputs": [
    {
     "name": "stdout",
     "output_type": "stream",
     "text": [
      "letras: ['a', 'b', 'c', 'd']\n",
      "letras: ['d', 'c', 'b', 'a']\n"
     ]
    }
   ],
   "source": [
    "letras = ['a', 'b', 'c', 'd']\n",
    "print(f\"letras: {letras}\")\n",
    "letras.reverse()\n",
    "print(f\"letras: {letras}\")  # Resultado: ['d', 'c', 'b', 'a']"
   ]
  },
  {
   "attachments": {},
   "cell_type": "markdown",
   "metadata": {},
   "source": [
    "### __index(elemento, [inicio, fin]):__ Devuelve el índice de la primera aparición del elemento en el rango especificado [inicio:fin]. Si el elemento no está presente, se produce un error."
   ]
  },
  {
   "cell_type": "code",
   "execution_count": 29,
   "metadata": {},
   "outputs": [
    {
     "name": "stdout",
     "output_type": "stream",
     "text": [
      "letras: ['a', 'b', 'c', 'd', 'a']\n",
      "Indice: 1\n",
      "Indice: 0\n"
     ]
    }
   ],
   "source": [
    "letras = ['a', 'b', 'c', 'd', 'a']\n",
    "print(f\"letras: {letras}\")\n",
    "indice = letras.index('b', 1, 4)\n",
    "print(f'Indice: {indice}')  # Resultado: 1\n",
    "indice = letras.index('a')\n",
    "print(f'Indice: {indice}')  # Resultado: 1"
   ]
  }
 ],
 "metadata": {
  "kernelspec": {
   "display_name": "Python 3",
   "language": "python",
   "name": "python3"
  },
  "language_info": {
   "codemirror_mode": {
    "name": "ipython",
    "version": 3
   },
   "file_extension": ".py",
   "mimetype": "text/x-python",
   "name": "python",
   "nbconvert_exporter": "python",
   "pygments_lexer": "ipython3",
   "version": "3.11.4"
  },
  "orig_nbformat": 4
 },
 "nbformat": 4,
 "nbformat_minor": 2
}
