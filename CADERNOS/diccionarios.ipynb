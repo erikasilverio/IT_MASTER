{
 "cells": [
  {
   "cell_type": "markdown",
   "metadata": {},
   "source": [
    "# Diccionarios\n",
    "\n",
    "Un Diccionario es una estructura de datos y un\n",
    "tipo de dato con características especiales\n",
    "que nos permite almacenar cualquier tipo de valor como:\n",
    "enteros, cadenas, listas.\n",
    "Estos diccionarios nos permiten además identificar\n",
    "cada elemento por una clave (Key).\n",
    "\n",
    "Para definir un diccionario, se encierra el listado de\n",
    "valores entre llaves.\n",
    "Las parejas de clave y valor se separan con comas,\n",
    "y la clave y el valor se separan con dos puntos.\n"
   ]
  },
  {
   "cell_type": "code",
   "execution_count": 1,
   "metadata": {
    "tags": []
   },
   "outputs": [
    {
     "name": "stdout",
     "output_type": "stream",
     "text": [
      "diccionario:  {'nombre': 'Carlos', 'edad': 22, 'cursos': ['Python', 'Java', 'JavaScript']}\n",
      "Carlos\n",
      "22\n",
      "['Python', 'Java', 'JavaScript']\n"
     ]
    }
   ],
   "source": [
    "t=() #TUPLA\n",
    "l=[] #LISTA\n",
    "d = {} #DICCIONARIO\n",
    "\n",
    "diccionario = { \n",
    "    'nombre': 'Carlos', \n",
    "    'edad': 22, \n",
    "    'cursos': ['Python', 'Java', 'JavaScript'] \n",
    "}\n",
    "\n",
    "\n",
    "print(\"diccionario: \",diccionario)\n",
    "\n",
    "print(diccionario['nombre']) \n",
    "print(diccionario['edad'])  \n",
    "print(diccionario['cursos'])  "
   ]
  },
  {
   "cell_type": "markdown",
   "metadata": {},
   "source": [
    "También es posible insertar una lista dentro de un diccionario.\n",
    "Para acceder a cada uno de los cursos usamos los índices:"
   ]
  },
  {
   "cell_type": "code",
   "execution_count": 2,
   "metadata": {
    "tags": []
   },
   "outputs": [
    {
     "name": "stdout",
     "output_type": "stream",
     "text": [
      "Python\n",
      "Java\n",
      "JavaScript\n"
     ]
    }
   ],
   "source": [
    "print(diccionario['cursos'][0]) \n",
    "print(diccionario['cursos'][1]) \n",
    "print(diccionario['cursos'][2])"
   ]
  },
  {
   "cell_type": "markdown",
   "metadata": {},
   "source": [
    "Para recorrer todo el Diccionario, podemos hacer uso de la estructura for:\n"
   ]
  },
  {
   "cell_type": "code",
   "execution_count": 3,
   "metadata": {
    "tags": []
   },
   "outputs": [
    {
     "name": "stdout",
     "output_type": "stream",
     "text": [
      "nombre : Carlos\n",
      "edad : 22\n",
      "cursos : ['Python', 'Java', 'JavaScript']\n"
     ]
    }
   ],
   "source": [
    "for key in diccionario:\n",
    "    print(key, \":\", diccionario[key])"
   ]
  },
  {
   "cell_type": "markdown",
   "metadata": {},
   "source": [
    "# Métodos de los Diccionarios\n",
    "\n",
    "### dict ()\n",
    "Recibe como parámetro una representación de un diccionario y si es factible, devuelve un diccionario de datos."
   ]
  },
  {
   "cell_type": "code",
   "execution_count": 4,
   "metadata": {
    "tags": []
   },
   "outputs": [
    {
     "name": "stdout",
     "output_type": "stream",
     "text": [
      "dic:  {'nombre': 'nestor', 'apellido': 'Plasencia', 'edad': 22}\n",
      "una venta:  {'vendedor': 1001, 'fecha': 2019, 'importe': 234.2}\n"
     ]
    }
   ],
   "source": [
    "dic = dict(nombre='nestor', apellido='Plasencia', edad=22)\n",
    "print(\"dic: \", dic)\n",
    "\n",
    "venta = dict(vendedor=1001,fecha=2019,importe=234.20)\n",
    "print(\"una venta: \",venta)"
   ]
  },
  {
   "cell_type": "markdown",
   "metadata": {},
   "source": [
    "### zip()\n",
    "Recibe como parámetro dos elementos iterables, ya sea una cadena, una lista o una tupla.\n",
    "Ambos parámetros deben tener el mismo número de elementos.\n",
    "Se devolverá un diccionario relacionando el elemento i-esimo de cada uno de los iterables."
   ]
  },
  {
   "cell_type": "code",
   "execution_count": 5,
   "metadata": {
    "tags": []
   },
   "outputs": [
    {
     "name": "stdout",
     "output_type": "stream",
     "text": [
      "zipo:  <zip object at 0x000001947326C680>\n",
      "dic:  {'a': 1, 'b': 2, 'c': 3, 'd': 4, 'q': 6, 'w': 7, 'l': 8, 'k': 9}\n",
      "dic:  {1: 'a', 2: 'b', 3: 'c', 4: 'd', 6: 'q'}\n",
      "{'legajo': 123456, 'nombre': 'juan', 'nota': 9.33, 'edad': 22}\n"
     ]
    }
   ],
   "source": [
    "zipo = zip('abcdqqwlk', [1, 2, 3,4,5,6,7,8,9])\n",
    "print(\"zipo: \",zipo)\n",
    "\n",
    "dic = dict(zipo)\n",
    "print(\"dic: \", dic) \n",
    "\n",
    "dic = dict(zip([1, 2, 3,4,6],'abcdq'))\n",
    "print(\"dic: \", dic) \n",
    "\n",
    "\n",
    "print(dict(zip([\"legajo\",'nombre','nota','edad'],[123456,\"juan\",9.33,22])))"
   ]
  },
  {
   "cell_type": "markdown",
   "metadata": {},
   "source": [
    "### items()\n",
    "Devuelve un objeto iterable que puede ser transformado en una lista de tuplas, cada tupla se compone de dos elementos: el primero será la clave y el segundo, su valor."
   ]
  },
  {
   "cell_type": "code",
   "execution_count": 6,
   "metadata": {
    "tags": []
   },
   "outputs": [
    {
     "name": "stdout",
     "output_type": "stream",
     "text": [
      "dic:  {'a': 1, 'b': 2, 'c': 3, 'd': 4}\n",
      "Tipo de items:  <class 'dict_items'>\n",
      "items:  dict_items([('a', 1), ('b', 2), ('c', 3), ('d', 4)])\n",
      "Recorriendo los items\n",
      "('a', 1)\n",
      "('b', 2)\n",
      "('c', 3)\n",
      "('d', 4)\n",
      "lista de items:  [('a', 1), ('b', 2), ('c', 3), ('d', 4)]\n"
     ]
    }
   ],
   "source": [
    "dic = {'a': 1, 'b': 2, 'c': 3, 'd': 4}\n",
    "print(\"dic: \", dic)  \n",
    "items = dic.items()\n",
    "print(\"Tipo de items: \",type(items))\n",
    "print(\"items: \",items)\n",
    "print(\"Recorriendo los items\")\n",
    "for tupla in items:\n",
    "    print(tupla)\n",
    "print(\"lista de items: \", list(items))  "
   ]
  },
  {
   "cell_type": "markdown",
   "metadata": {},
   "source": [
    "### keys()\n",
    "Retorna un objeto iterable que se puede transformar en una lista de elementos, los cuales son las claves de nuestro diccionario."
   ]
  },
  {
   "cell_type": "code",
   "execution_count": 7,
   "metadata": {
    "tags": []
   },
   "outputs": [
    {
     "name": "stdout",
     "output_type": "stream",
     "text": [
      "dic:  {'a': 1, 'b': 2, 'c': 3, 'd': 4}\n",
      "type de keys:  <class 'dict_keys'>\n",
      "keys:  dict_keys(['a', 'b', 'c', 'd'])\n",
      "lista de keys:  ['a', 'b', 'c', 'd']\n",
      "3\n",
      "3\n",
      "1\n",
      "2\n",
      "3\n",
      "4\n",
      "4\n",
      "3\n",
      "2\n",
      "1\n"
     ]
    }
   ],
   "source": [
    "dic = {'a': 1, 'b': 2, 'c': 3, 'd': 4}\n",
    "print(\"dic: \", dic)\n",
    "keys = dic.keys()\n",
    "print(\"type de keys: \",type(keys))\n",
    "print(\"keys: \",keys)  \n",
    "print(\"lista de keys: \",list(keys))  \n",
    "\n",
    "if 'c' in dic.keys():\n",
    "    print(dic['c'])\n",
    "else:\n",
    "    print(\"No existe la clave\")\n",
    "\n",
    "if 'c' in dic:\n",
    "    print(dic['c'])\n",
    "else:\n",
    "    print(\"No existe la clave\")\n",
    "\n",
    "lista_claves = list(keys)\n",
    "lista_claves.sort()\n",
    "for k in lista_claves:\n",
    "    print(dic[k])\n",
    "lista_claves.sort(reverse=True)\n",
    "for k in lista_claves:\n",
    "    print(dic[k])\n"
   ]
  },
  {
   "cell_type": "markdown",
   "metadata": {},
   "source": [
    "### values()\n",
    "Retorna una lista de elementos, que son los valores de nuestro diccionario."
   ]
  },
  {
   "cell_type": "code",
   "execution_count": 8,
   "metadata": {
    "tags": []
   },
   "outputs": [
    {
     "name": "stdout",
     "output_type": "stream",
     "text": [
      "dic:  {'a': 1, 'b': 2, 'c': 3, 'd': 4}\n",
      "values:  dict_values([1, 2, 3, 4])\n",
      "[1, 2, 3, 4]\n"
     ]
    }
   ],
   "source": [
    "dic = {'a': 1, 'b': 2, 'c': 3, 'd': 4}\n",
    "print(\"dic: \", dic) \n",
    "values = dic.values()\n",
    "print(\"values: \", values) \n",
    "print(list(values))"
   ]
  },
  {
   "cell_type": "markdown",
   "metadata": {},
   "source": [
    "### clear()\n",
    "Elimina todos los ítems del diccionario dejándolo vacío."
   ]
  },
  {
   "cell_type": "code",
   "execution_count": 9,
   "metadata": {
    "tags": []
   },
   "outputs": [
    {
     "name": "stdout",
     "output_type": "stream",
     "text": [
      "dic:  {'a': 1, 'b': 2, 'c': 3, 'd': 4}\n",
      "dic.clear()\n",
      "dic:  {}\n"
     ]
    }
   ],
   "source": [
    "dic = {'a': 1, 'b': 2, 'c': 3, 'd': 4}\n",
    "print(\"dic: \", dic)  \n",
    "print(\"dic.clear()\")\n",
    "dic.clear()\n",
    "print(\"dic: \", dic)  "
   ]
  },
  {
   "cell_type": "markdown",
   "metadata": {},
   "source": [
    "### copy()\n",
    "Retorna una copia del diccionario original."
   ]
  },
  {
   "cell_type": "code",
   "execution_count": 10,
   "metadata": {
    "tags": []
   },
   "outputs": [
    {
     "name": "stdout",
     "output_type": "stream",
     "text": [
      "{'a': 1, 'b': 2, 'c': 3, 'd': 4}\n",
      "{'a': 1, 'b': 2, 'c': 3, 'd': 4}\n"
     ]
    }
   ],
   "source": [
    "dic = {'a': 1, 'b': 2, 'c': 3, 'd': 4}\n",
    "dic1 = dic.copy()\n",
    "print(dic)  \n",
    "print(dic1)  "
   ]
  },
  {
   "cell_type": "markdown",
   "metadata": {},
   "source": [
    "### fromkeys()\n",
    "Recibe como parámetros un iterable y un valor,devolviendo un diccionario que contiene como claves los elementos del iterable con el mismo valor ingresado.\n",
    "Si el valor no es ingresado, devolverá none para todas las claves."
   ]
  },
  {
   "cell_type": "code",
   "execution_count": 11,
   "metadata": {
    "tags": []
   },
   "outputs": [
    {
     "name": "stdout",
     "output_type": "stream",
     "text": [
      "{'A': 0, 'B': 0, 'C': 0}\n",
      "{'A': 2714.24, 'B': 88, 'C': 200}\n",
      "{'a': 0, 'b': 0, 'c': 0, 'd': 0}\n"
     ]
    }
   ],
   "source": [
    "datos = [(123.12,'A'),(44,'B'),(100,'C'),(1234,'A'),(123.12,'A'),(44,'B'),(100,'C'),(1234,'A')]\n",
    "#            0    1\n",
    "dic_totales = dict.fromkeys(['A', 'B', 'C'], 0)\n",
    "print(dic_totales)\n",
    "for tupla in datos:\n",
    "    clave = tupla[1]\n",
    "    dic_totales[clave]+=tupla[0]\n",
    "print(dic_totales)    \n",
    "\n",
    "\n",
    "dic = dict.fromkeys(['a', 'b', 'c', 'd'], 0)\n",
    "print(dic)  "
   ]
  },
  {
   "cell_type": "markdown",
   "metadata": {},
   "source": [
    "### get()\n",
    "Recibe como parámetro una clave, devuelve el valor de la clave. Si no lo encuentra, devuelve un objeto none."
   ]
  },
  {
   "cell_type": "code",
   "execution_count": 12,
   "metadata": {
    "tags": []
   },
   "outputs": [
    {
     "name": "stdout",
     "output_type": "stream",
     "text": [
      "{'a': 1, 'b': 2, 'c': 3, 'd': 4}\n",
      "valor:  None\n"
     ]
    }
   ],
   "source": [
    "dic = {'a': 1, 'b': 2, 'c': 3, 'd': 4}\n",
    "print(dic)\n",
    "valor = dic.get('cccc')\n",
    "print(\"valor: \",valor)\n",
    "if 'cccc' in dic:\n",
    "    print(\"valor: \",dic['cccc'])"
   ]
  },
  {
   "cell_type": "markdown",
   "metadata": {},
   "source": [
    "### pop()\n",
    "Recibe como parámetro una clave, elimina esta y devuelve su valor. \n",
    "Si no lo encuentra, devuelve error."
   ]
  },
  {
   "cell_type": "code",
   "execution_count": 13,
   "metadata": {
    "tags": []
   },
   "outputs": [
    {
     "name": "stdout",
     "output_type": "stream",
     "text": [
      "{'a': 1, 'b': 2, 'c': 3, 'd': 4}\n",
      "valor:  2\n",
      "{'a': 1, 'c': 3, 'd': 4}\n"
     ]
    }
   ],
   "source": [
    "dic = {'a': 1, 'b': 2, 'c': 3, 'd': 4}\n",
    "print(dic)\n",
    "if 'b' in dic.keys():\n",
    "    valor = dic.pop('b')\n",
    "    print(\"valor: \",valor)\n",
    "else:\n",
    "    print(\"No esta!!\")\n",
    "print(dic) "
   ]
  },
  {
   "cell_type": "markdown",
   "metadata": {},
   "source": [
    "### setdefault()\n",
    "Funciona de dos formas. En la primera como get"
   ]
  },
  {
   "cell_type": "code",
   "execution_count": 14,
   "metadata": {
    "tags": []
   },
   "outputs": [
    {
     "name": "stdout",
     "output_type": "stream",
     "text": [
      "valor 1\n"
     ]
    }
   ],
   "source": [
    "dic = {'a': 1, 'b': 2, 'c': 3, 'd': 4}\n",
    "valor = dic.setdefault('a')\n",
    "print(\"valor\",valor)"
   ]
  },
  {
   "cell_type": "markdown",
   "metadata": {},
   "source": [
    "Y en la segunda forma, nos sirve para agregar un nuevo elemento a nuestro diccionario."
   ]
  },
  {
   "cell_type": "code",
   "execution_count": 15,
   "metadata": {
    "tags": []
   },
   "outputs": [
    {
     "name": "stdout",
     "output_type": "stream",
     "text": [
      "Set default:  {'a': 1, 'b': 2, 'c': 3, 'd': 4, '112a': 3}  valor:  3\n"
     ]
    }
   ],
   "source": [
    "dic = {'a': 1, 'b': 2, 'c': 3, 'd': 4}\n",
    "valor = dic.setdefault('112a', 3)\n",
    "print(\"Set default: \",dic,\" valor: \",valor)"
   ]
  },
  {
   "cell_type": "markdown",
   "metadata": {},
   "source": [
    "### update()\n",
    "Recibe como parámetro otro diccionario. \n",
    "\n",
    "Si se tienen claves iguales, actualiza el valor de la clave repetida\n",
    "\n",
    "Si no hay claves iguales, este par clave-valor es agregado al diccionario."
   ]
  },
  {
   "cell_type": "code",
   "execution_count": 16,
   "metadata": {
    "tags": []
   },
   "outputs": [
    {
     "name": "stdout",
     "output_type": "stream",
     "text": [
      "{'a': 1, 'b': 5, 'c': 6, 'd': 4, 'e': 9, 'f': 10}\n",
      "{'c': 6, 'b': 5, 'e': 9, 'f': 10}\n"
     ]
    }
   ],
   "source": [
    "dic1 = {'a': 1, 'b': 2, 'c': 3, 'd': 4}\n",
    "dic2 = {'c': 6, 'b': 5, 'e': 9, 'f': 10}\n",
    "dic1.update(dic2)\n",
    "print(dic1)\n",
    "print(dic2)\n"
   ]
  },
  {
   "cell_type": "code",
   "execution_count": null,
   "metadata": {},
   "outputs": [],
   "source": []
  }
 ],
 "metadata": {
  "kernelspec": {
   "display_name": "Python 3",
   "language": "python",
   "name": "python3"
  },
  "language_info": {
   "codemirror_mode": {
    "name": "ipython",
    "version": 3
   },
   "file_extension": ".py",
   "mimetype": "text/x-python",
   "name": "python",
   "nbconvert_exporter": "python",
   "pygments_lexer": "ipython3",
   "version": "3.11.4"
  }
 },
 "nbformat": 4,
 "nbformat_minor": 4
}
