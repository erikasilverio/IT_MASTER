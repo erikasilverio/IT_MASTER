{
 "cells": [
  {
   "cell_type": "markdown",
   "metadata": {},
   "source": [
    "# Recorriendo diccionarios en Python\n",
    "\n",
    "De la misma forma que con listas, es posible definir un diccionario directamente con los miembros que va a contener, \n",
    "o bien inicializar el diccionario vacío y luego agregar los valores de a uno o de a muchos.\n",
    "\n",
    "Para definirlo junto con los miembros que va a contener, se encierra el listado de valores entre llaves, \n",
    "las parejas de clave y valor se separan con comas, y la clave y el valor se separan con :."
   ]
  },
  {
   "cell_type": "code",
   "execution_count": 2,
   "metadata": {},
   "outputs": [
    {
     "name": "stdout",
     "output_type": "stream",
     "text": [
      "Juan\n"
     ]
    }
   ],
   "source": [
    "punto = {'x': 2, 'y': 1, 'z': 4}\n",
    "alumno = {'legajo':1234,'nombre':\"Juan\",'nota':7}\n",
    "print(alumno['nombre'])          "
   ]
  },
  {
   "cell_type": "markdown",
   "metadata": {},
   "source": [
    "Para declararlo vacío y luego ingresar los valores, se lo declara como un par de llaves sin nada en medio, \n",
    "y luego se asignan valores directamente a los índices."
   ]
  },
  {
   "cell_type": "code",
   "execution_count": 3,
   "metadata": {},
   "outputs": [
    {
     "name": "stdout",
     "output_type": "stream",
     "text": [
      "{'lunes': [6103, 7540], 'martes': [6201], 'miércoles': [6103, 7540], 'jueves': [], 'viernes': [6201]}\n"
     ]
    }
   ],
   "source": [
    "materias = {}\n",
    "materias[\"lunes\"] = [6103, 7540]\n",
    "materias[\"martes\"] = [6201]\n",
    "materias[\"miércoles\"] = [6103, 7540]\n",
    "materias[\"jueves\"] = []\n",
    "materias[\"viernes\"] = [6201]\n",
    "print(materias)"
   ]
  },
  {
   "cell_type": "markdown",
   "metadata": {},
   "source": [
    "Para acceder al valor asociado a una determinada clave, se lo hace de la misma forma que con las listas, \n",
    "pero utilizando la clave elegida en lugar del índice."
   ]
  },
  {
   "cell_type": "code",
   "execution_count": 4,
   "metadata": {},
   "outputs": [
    {
     "name": "stdout",
     "output_type": "stream",
     "text": [
      "[6103, 7540]\n"
     ]
    }
   ],
   "source": [
    "print( materias[\"lunes\"])"
   ]
  },
  {
   "cell_type": "markdown",
   "metadata": {},
   "source": [
    "Sin embargo, esto falla si se provee una clave que no está en el diccionario. Es posible, por otro lado, utilizar la función get, \n",
    "que devuelve el valor None si la clave no está en el diccionario, o un valor por omisión que se establece opcionalmente."
   ]
  },
  {
   "cell_type": "code",
   "execution_count": 5,
   "metadata": {},
   "outputs": [],
   "source": [
    "#print( materias[\"domingo\"])\n",
    "#print(materias.get('domingo'))"
   ]
  },
  {
   "cell_type": "code",
   "execution_count": 6,
   "metadata": {},
   "outputs": [
    {
     "name": "stdout",
     "output_type": "stream",
     "text": [
      "None\n"
     ]
    }
   ],
   "source": [
    "print( materias.get(\"domingo\"))"
   ]
  },
  {
   "cell_type": "markdown",
   "metadata": {},
   "source": [
    "## Existen diversas formas de recorrer un diccionario. \n",
    "\n",
    "Es posible recorrer sus claves y usar esas claves para acceder a los valores."
   ]
  },
  {
   "cell_type": "code",
   "execution_count": 7,
   "metadata": {},
   "outputs": [
    {
     "name": "stdout",
     "output_type": "stream",
     "text": [
      "lunes : [6103, 7540]\n",
      "martes : [6201]\n",
      "miércoles : [6103, 7540]\n",
      "jueves : []\n",
      "viernes : [6201]\n",
      "[6103, 7540]\n",
      "[6201]\n",
      "[6103, 7540]\n",
      "[]\n",
      "[6201]\n"
     ]
    }
   ],
   "source": [
    "for dia in materias:\n",
    "   print( dia, \":\", materias[dia])\n",
    "\n",
    "for dia in materias.keys():\n",
    "   print(materias[dia])"
   ]
  },
  {
   "cell_type": "markdown",
   "metadata": {},
   "source": [
    "Es posible, también, obtener los valores como tuplas donde el primer elemento es la clave y el segundo el valor."
   ]
  },
  {
   "cell_type": "code",
   "execution_count": 8,
   "metadata": {},
   "outputs": [
    {
     "name": "stdout",
     "output_type": "stream",
     "text": [
      "lunes : [6103, 7540]\n",
      "martes : [6201]\n",
      "miércoles : [6103, 7540]\n",
      "jueves : []\n",
      "viernes : [6201]\n"
     ]
    }
   ],
   "source": [
    "for dia, codigos in materias.items():\n",
    "   print( dia, \":\", codigos)\n"
   ]
  },
  {
   "cell_type": "markdown",
   "metadata": {},
   "source": [
    "Para verificar si una clave se encuentra en el diccionario, es posible utilizar la palabra reservada in."
   ]
  },
  {
   "cell_type": "code",
   "execution_count": 9,
   "metadata": {},
   "outputs": [
    {
     "name": "stdout",
     "output_type": "stream",
     "text": [
      "12\n",
      "7\n"
     ]
    }
   ],
   "source": [
    "d = {'x': 12, 'y': 7}\n",
    "\n",
    "if 'x' in d.keys():\n",
    "   print( d['x'] )\n",
    "\n",
    "if 'y' in d:\n",
    "   print( d['y'])"
   ]
  },
  {
   "cell_type": "code",
   "execution_count": 10,
   "metadata": {},
   "outputs": [],
   "source": [
    "agenda = {\n",
    "    \"Jorge\":{\n",
    "        \"telefono\":1234567,\n",
    "        \"pais\":\"Argentina\",\n",
    "        \"inf_personal\":{\n",
    "            \"sexo\":\"M\",\n",
    "            \"pasatiempo\":\"Carpinteria\",\n",
    "            \"estudio\":\"Abogacia\",\n",
    "            \"musica\":\"Clasica\"\n",
    "        },\n",
    "    },\n",
    "    \"Claudia\":{\n",
    "        \"telefono\":1234567,\n",
    "        \"pais\":\"Argentina\",\n",
    "        \"inf_personal\":{\n",
    "            \"sexo\":\"F\",\n",
    "            \"pasatiempo\":\"Tiro con pistola\",\n",
    "            \"estudio\":\"Profesorado de Karate\",\n",
    "            \"musica\":\"Rock\",\n",
    "            \n",
    "        },\n",
    "    },\n",
    "    \"Raul\":{\n",
    "        \"telefono\":3456789,\n",
    "        \"pais\":\"Francia\",\n",
    "        \"inf_personal\":{\n",
    "            \"sexo\":\"M\",\n",
    "            \"pasatiempo\":\"Video juegos\",\n",
    "            \"estudio\":\"Ing Quimica\",\n",
    "            \"musica\":\"Rock\"\n",
    "        },\n",
    "    },\n",
    "    \"Marcela\":{\n",
    "        \"telefono\":8881112,\n",
    "        \"pais\":\"Argentina\",\n",
    "        \"inf_personal\":{\n",
    "            \"sexo\":\"F\",\n",
    "            \"pasatiempo\":\"Historia\",\n",
    "            \"estudio\":\"Medicina\",\n",
    "            \"musica\":\"Rock\"\n",
    "        },\n",
    "    },\n",
    "    \n",
    "}"
   ]
  },
  {
   "cell_type": "markdown",
   "metadata": {},
   "source": [
    "## Ejercicios:\n",
    "\n",
    "Comprobar si algun miembro de la agenda es de Argentina y le gusta el rock"
   ]
  },
  {
   "cell_type": "code",
   "execution_count": 11,
   "metadata": {},
   "outputs": [
    {
     "name": "stdout",
     "output_type": "stream",
     "text": [
      "Claudia\n",
      "Marcela\n"
     ]
    }
   ],
   "source": [
    "for nombre,datos in agenda.items():\n",
    "    if datos[\"pais\"] == \"Argentina\" and datos[\"inf_personal\"][\"musica\"] == \"Rock\":\n",
    "        print(nombre)\n",
    "        \n",
    "        \n",
    "        "
   ]
  },
  {
   "cell_type": "markdown",
   "metadata": {},
   "source": [
    "Mostrar todos los miembros de la agenda con su pasatiempo"
   ]
  },
  {
   "cell_type": "code",
   "execution_count": 12,
   "metadata": {},
   "outputs": [
    {
     "name": "stdout",
     "output_type": "stream",
     "text": [
      "Jorge: Carpinteria\n",
      "Claudia: Tiro con pistola\n",
      "Raul: Video juegos\n",
      "Marcela: Historia\n",
      "##################################################\n",
      "Jorge      :Carpinteria\n",
      "Claudia    :Tiro con pistola\n",
      "Raul       :Video juegos\n",
      "Marcela    :Historia  \n"
     ]
    }
   ],
   "source": [
    "\n",
    "for nombre , datos in agenda.items():\n",
    "    print(f'{nombre}: {datos[\"inf_personal\"][\"pasatiempo\"]}')\n",
    "\n",
    "\n",
    "print(\"#\"*50)\n",
    "\n",
    "for t in agenda.items():\n",
    "    nombre , datos = t\n",
    "    print(f'{nombre:10} :{datos[\"inf_personal\"][\"pasatiempo\"]:10}')\n",
    "    "
   ]
  },
  {
   "cell_type": "markdown",
   "metadata": {},
   "source": [
    "Mostrar todos los datos de cada miembro de la agenda"
   ]
  },
  {
   "cell_type": "code",
   "execution_count": 13,
   "metadata": {},
   "outputs": [
    {
     "name": "stdout",
     "output_type": "stream",
     "text": [
      "Datos personales de Jorge\n",
      " - Sexo: M\n",
      " - Pasatiempo: Carpinteria\n",
      " - Estudio: Abogacia\n",
      " - Musica: Clasica\n",
      "Datos personales de Claudia\n",
      " - Sexo: F\n",
      " - Pasatiempo: Tiro con pistola\n",
      " - Estudio: Profesorado de karate\n",
      " - Musica: Rock\n",
      "Datos personales de Raul\n",
      " - Sexo: M\n",
      " - Pasatiempo: Video juegos\n",
      " - Estudio: Ing quimica\n",
      " - Musica: Rock\n",
      "Datos personales de Marcela\n",
      " - Sexo: F\n",
      " - Pasatiempo: Historia\n",
      " - Estudio: Medicina\n",
      " - Musica: Rock\n"
     ]
    }
   ],
   "source": [
    "for nombre,datos in agenda.items():    \n",
    "    print(\"Datos personales de {}\".format(nombre))    \n",
    "    for item,informacion in datos[\"inf_personal\"].items():        \n",
    "        print(\" - {}: {}\".format(item.capitalize(),informacion.capitalize()))\n",
    "        "
   ]
  },
  {
   "cell_type": "markdown",
   "metadata": {},
   "source": []
  }
 ],
 "metadata": {
  "kernelspec": {
   "display_name": "Python 3",
   "language": "python",
   "name": "python3"
  },
  "language_info": {
   "codemirror_mode": {
    "name": "ipython",
    "version": 3
   },
   "file_extension": ".py",
   "mimetype": "text/x-python",
   "name": "python",
   "nbconvert_exporter": "python",
   "pygments_lexer": "ipython3",
   "version": "3.11.4"
  }
 },
 "nbformat": 4,
 "nbformat_minor": 4
}
