{
 "cells": [
  {
   "cell_type": "markdown",
   "metadata": {},
   "source": [
    "# List comprehensions"
   ]
  },
  {
   "cell_type": "markdown",
   "metadata": {},
   "source": [
    "Esta herramienta __con nombre de difícil traducción__ ofrece un método conciso para la creación de listas. Frecuentemente nos encontramos con que una lista se forma al aplicar ciertas operaciones a los elementos de otra secuencia de valores. Por ejemplo, si quisiéramos crear una lista con los cuadrados de los números entre 1 y 5, podríamos hacerlo con el siguiente bucle for:"
   ]
  },
  {
   "cell_type": "code",
   "execution_count": 1,
   "metadata": {},
   "outputs": [
    {
     "name": "stdout",
     "output_type": "stream",
     "text": [
      "Lista: [1, 4, 9, 16, 25]\n"
     ]
    }
   ],
   "source": [
    "lista = []\n",
    "for x in range(1,6):\n",
    "    lista.append(x**2)\n",
    "print(f'Lista: {lista}')"
   ]
  },
  {
   "cell_type": "markdown",
   "metadata": {},
   "source": [
    "Básicamente, lo que estamos haciendo es recorrer la lista [1, 2, 3, 4, 5] y crear los elementos de la nueva lista \"lista\" elevando al cuadrado cada valor recorrido. Pues bien, las \"list comprehensions\" nos permiten hacer esto mismo de una forma más sucinta:"
   ]
  },
  {
   "cell_type": "code",
   "execution_count": 2,
   "metadata": {},
   "outputs": [
    {
     "name": "stdout",
     "output_type": "stream",
     "text": [
      "Lista: [1, 4, 9, 16, 25]\n"
     ]
    }
   ],
   "source": [
    "lista = [ x**2 for x in[1,2,3,4,5] ]\n",
    "print(f'Lista: {lista}')"
   ]
  },
  {
   "cell_type": "markdown",
   "metadata": {},
   "source": [
    "O, un poco más simplificado:"
   ]
  },
  {
   "cell_type": "code",
   "execution_count": 3,
   "metadata": {},
   "outputs": [
    {
     "name": "stdout",
     "output_type": "stream",
     "text": [
      "Lista: [1, 4, 9, 16, 25] variable rr:                   10 variable tt: KDGHDKG\n"
     ]
    }
   ],
   "source": [
    "lista = [x**2 for x in range(1,6)]\n",
    "rr = 10\n",
    "tt = \"kdghdkg\"\n",
    "cadena = f'Lista: {lista} variable rr: {rr:20} variable tt: {tt.upper()}'\n",
    "print(cadena)"
   ]
  },
  {
   "cell_type": "markdown",
   "metadata": {},
   "source": [
    "La estructura de una \"list comprehension\" es la siguiente: entre corchetes situamos una expresión (que es la que va a generar los valores de la lista) seguida de una sentencia for que definirá los datos de partida.\n",
    "\n",
    "Este es un modo extremadamente útil y rápido de generar listas y conjuntos."
   ]
  },
  {
   "cell_type": "markdown",
   "metadata": {},
   "source": [
    "# Condiciones"
   ]
  },
  {
   "cell_type": "markdown",
   "metadata": {},
   "source": [
    "Es posible añadir también una condición para escoger los datos de partida añadiendo una sentencia if después de la sentencia for. Por ejemplo, supongamos que partimos de la lista de números entre 0 y 10 y queremos calcular el cuadrado de los números pares (y añadirlos a la lista de salida). Podríamos hacerlo del siguiente modo:"
   ]
  },
  {
   "cell_type": "code",
   "execution_count": 4,
   "metadata": {},
   "outputs": [
    {
     "name": "stdout",
     "output_type": "stream",
     "text": [
      "Lista: [0, 4, 16, 36, 64, 100]\n",
      "[0, 4, 16, 36, 64, 100]\n"
     ]
    }
   ],
   "source": [
    "lista = [     n ** 2 for n in range(11) if n % 2 == 0            ]\n",
    "print(f'Lista: {lista}')\n",
    "\n",
    "print( [n ** 2 for n in range(11) if n % 2 == 0])"
   ]
  },
  {
   "cell_type": "markdown",
   "metadata": {},
   "source": [
    "Si quisiéramos leer esto sería algo como \"genera una lista con el cuadrado de los números, perteneciendo estos números al rango 0-10 (ambos incluidos) pero solo si n es par\"."
   ]
  },
  {
   "cell_type": "markdown",
   "metadata": {},
   "source": [
    "Otra opción es considerar todos los valores de partida pero aplicar transformaciones diferentes a éstos en función de algún criterio. Por ejemplo, supongamos que partimos de una lista de valores positivos y negativos:"
   ]
  },
  {
   "cell_type": "code",
   "execution_count": 5,
   "metadata": {},
   "outputs": [],
   "source": [
    "lista1 = [2, -1, -4, 1, 5, -6]"
   ]
  },
  {
   "cell_type": "markdown",
   "metadata": {},
   "source": [
    "...y que queremos transformarla dejando los valores positivos como están, y los negativos sustituidos por ceros. Podríamos hacerlo de la siguiente forma:"
   ]
  },
  {
   "cell_type": "code",
   "execution_count": 6,
   "metadata": {},
   "outputs": [
    {
     "name": "stdout",
     "output_type": "stream",
     "text": [
      "Lista1: [2, -1, -4, 1, 5, -6]\n",
      "Lista2: [2, 0, 0, 1, 5, 0]\n",
      "Lista3: [2, 0, 0, 1, 5, 0]\n"
     ]
    }
   ],
   "source": [
    "lista3 = []\n",
    "\n",
    "for n in lista1:\n",
    "    if n > 0:\n",
    "        lista3.append(n)\n",
    "    else:\n",
    "        lista3.append(0)\n",
    "\n",
    "\n",
    "\n",
    "lista2 = [n     if n > 0 else 0      for n in lista1]\n",
    "#lista2 = [n      for n in lista1   if n > 0  ]  NO\n",
    "\n",
    "print(f'Lista1: {lista1}')\n",
    "print(f'Lista2: {lista2}')\n",
    "print(f'Lista3: {lista3}')\n",
    "\n"
   ]
  },
  {
   "cell_type": "markdown",
   "metadata": {},
   "source": [
    "Como vemos, ahora estamos dejando pasar todos los valores de la \"lista1\" hasta nuestra función (a la que llegan con el nombre \"n\"), pero ésta aplica una transformación u otra en función de que el valor en cuestión cumpla una cierta condición que, en este caso, es que supere el valor cero:"
   ]
  },
  {
   "cell_type": "markdown",
   "metadata": {},
   "source": [
    "# Anidación con condiciones"
   ]
  },
  {
   "cell_type": "code",
   "execution_count": 7,
   "metadata": {},
   "outputs": [],
   "source": [
    "ciudades = [\"Madrid\", \"Barcelona\", \"Milán\", \"Santander\"]\n",
    "anios = [2017, 2018, 2019, 2020,2022,2024]"
   ]
  },
  {
   "cell_type": "markdown",
   "metadata": {},
   "source": [
    "Si quisiéramos crear una lista de tuplas formadas por las combinaciones de ciudades que empiezan por la letra \"M\" y los años pares, podríamos hacerlo de la siguiente forma:"
   ]
  },
  {
   "cell_type": "code",
   "execution_count": 8,
   "metadata": {},
   "outputs": [
    {
     "name": "stdout",
     "output_type": "stream",
     "text": [
      "ciudades: ['Madrid', 'Barcelona', 'Milán', 'Santander']\n",
      "anios: [2017, 2018, 2019, 2020, 2022, 2024]\n",
      "Lista: [('Madrid', 2018), ('Madrid', 2020), ('Madrid', 2022), ('Madrid', 2024), ('Milán', 2018), ('Milán', 2020), ('Milán', 2022), ('Milán', 2024)]\n",
      "Lista: [('Madrid', 2018), ('Madrid', 2020), ('Madrid', 2022), ('Madrid', 2024), ('Milán', 2018), ('Milán', 2020), ('Milán', 2022), ('Milán', 2024)]\n"
     ]
    }
   ],
   "source": [
    "lista1 = []\n",
    "for c in ciudades:\n",
    "    for y in anios:\n",
    "        if c.startswith(\"M\"):\n",
    "            if y%2 == 0:\n",
    "                lista1.append((c,y))\n",
    "\n",
    "\n",
    "lista2 = [(c, y) for c in ciudades for y in anios if c.startswith(\"M\") if y % 2 == 0]\n",
    "\n",
    "print(f'ciudades: {ciudades}')\n",
    "print(f'anios: {anios}')\n",
    "print(f'Lista: {lista1}')\n",
    "print(f'Lista: {lista2}')"
   ]
  },
  {
   "cell_type": "markdown",
   "metadata": {},
   "source": [
    "Tal y como vemos, las condiciones se suceden una tras otra sin añadir ningún operador lógico entre ellas.\n",
    "\n",
    "También podríamos haber combinado ambas condiciones en una sola:"
   ]
  },
  {
   "cell_type": "code",
   "execution_count": 9,
   "metadata": {},
   "outputs": [
    {
     "name": "stdout",
     "output_type": "stream",
     "text": [
      "ciudades: ['Madrid', 'Barcelona', 'Milán', 'Santander']\n",
      "anios: [2017, 2018, 2019, 2020, 2022, 2024]\n",
      "Lista: [('Madrid', 2018), ('Madrid', 2020), ('Madrid', 2022), ('Madrid', 2024), ('Milán', 2018), ('Milán', 2020), ('Milán', 2022), ('Milán', 2024)]\n",
      "Lista: [('Madrid', 2018), ('Madrid', 2020), ('Madrid', 2022), ('Madrid', 2024), ('Milán', 2018), ('Milán', 2020), ('Milán', 2022), ('Milán', 2024)]\n"
     ]
    }
   ],
   "source": [
    "lista1 = []\n",
    "for c in ciudades:\n",
    "    for y in anios:\n",
    "        if c.startswith(\"M\") and y%2 == 0:\n",
    "            lista1.append((c,y))\n",
    "\n",
    "lista2 = [(c, y) for c in ciudades for y in anios if c.startswith(\"M\") and y % 2 == 0]\n",
    "print(f'ciudades: {ciudades}')\n",
    "print(f'anios: {anios}')\n",
    "print(f'Lista: {lista1}')\n",
    "print(f'Lista: {lista2}')"
   ]
  },
  {
   "cell_type": "markdown",
   "metadata": {},
   "source": [
    "Las condiciones pueden \"moverse\" por la expresión siempre que hagan mención a una variable que ya haya sido declarada (si leemos la expresión de izquierda a derecha):"
   ]
  },
  {
   "cell_type": "code",
   "execution_count": 10,
   "metadata": {},
   "outputs": [
    {
     "name": "stdout",
     "output_type": "stream",
     "text": [
      "Lista: [('Madrid', 2018), ('Madrid', 2020), ('Madrid', 2022), ('Madrid', 2024), ('Milán', 2018), ('Milán', 2020), ('Milán', 2022), ('Milán', 2024)]\n"
     ]
    }
   ],
   "source": [
    "lista = [(c, y) for c in ciudades if c.startswith(\"M\") for y in anios if y % 2 == 0]\n",
    "print(f'Lista: {lista}')"
   ]
  },
  {
   "cell_type": "markdown",
   "metadata": {},
   "source": [
    "En el anterior ejemplo obtendríamos un error si intercambiásemos las dos condiciones:"
   ]
  },
  {
   "cell_type": "code",
   "execution_count": 11,
   "metadata": {},
   "outputs": [
    {
     "name": "stdout",
     "output_type": "stream",
     "text": [
      "Error\n"
     ]
    }
   ],
   "source": [
    "try:\n",
    "    [(c, y) for c in ciudades if y % 2 == 0 for y in anios if c.startswith(\"M\")]\n",
    "except:\n",
    "    print(\"Error\")"
   ]
  },
  {
   "cell_type": "markdown",
   "metadata": {},
   "source": [
    "..pues la condición \"if y % 2 == 0\" se estaría ejecutando antes de declarar la variable \"y\"."
   ]
  },
  {
   "cell_type": "markdown",
   "metadata": {},
   "source": [
    "# Rendimiento de la anidación con bucles"
   ]
  },
  {
   "cell_type": "markdown",
   "metadata": {},
   "source": [
    "En todo caso, aun cuando desde un punto de vista conceptual sea posible \"mover\" las condiciones (respetando siempre la regla de que la variable deba ser declarada antes que la condición) el rendimiento del código no es siempre el mismo.\n",
    "\n",
    "Por ejemplo, partamos de las siguientes dos listas de diez mil valores aleatorios 0 o 1:"
   ]
  },
  {
   "cell_type": "code",
   "execution_count": 12,
   "metadata": {},
   "outputs": [],
   "source": [
    "import random\n",
    "\n",
    "lista1 = random.choices([0, 1], k = 10000)\n",
    "lista2 = random.choices([0, 1], k = 10000)"
   ]
  },
  {
   "cell_type": "markdown",
   "metadata": {},
   "source": [
    "***\n",
    "### %%time es un comando mágico. Es parte de IPython.\n",
    "\n",
    "%%time imprime el tiempo de la pared para toda la celda, "
   ]
  },
  {
   "cell_type": "code",
   "execution_count": 13,
   "metadata": {},
   "outputs": [
    {
     "name": "stdout",
     "output_type": "stream",
     "text": [
      "CPU times: total: 0 ns\n",
      "Wall time: 2.46 ms\n"
     ]
    }
   ],
   "source": [
    "%%time\n",
    "for x in range(100000):\n",
    "    pass"
   ]
  },
  {
   "cell_type": "markdown",
   "metadata": {},
   "source": [
    "***"
   ]
  },
  {
   "cell_type": "markdown",
   "metadata": {},
   "source": [
    "**Supongamos que queremos recorrerlas de forma anidada extrayendo las parejas de unos. Es decir, queremos replicar el comportamiento del siguiente código:**"
   ]
  },
  {
   "cell_type": "code",
   "execution_count": 14,
   "metadata": {},
   "outputs": [
    {
     "name": "stdout",
     "output_type": "stream",
     "text": [
      "CPU times: total: 1.52 s\n",
      "Wall time: 7 s\n"
     ]
    }
   ],
   "source": [
    "%%time\n",
    "lista3 = []\n",
    "for x in lista1:\n",
    "    for y in lista2:\n",
    "        if (x == 1) and (y == 1):\n",
    "            lista3.append((x, y))"
   ]
  },
  {
   "cell_type": "code",
   "execution_count": 15,
   "metadata": {},
   "outputs": [
    {
     "name": "stdout",
     "output_type": "stream",
     "text": [
      "Largo de lista3: 24740315 \n"
     ]
    }
   ],
   "source": [
    "print(f\"Largo de lista3: {len(lista3)} \")"
   ]
  },
  {
   "cell_type": "markdown",
   "metadata": {},
   "source": [
    "Comprobamos que el resultado está formado por casi 25 millones de tuplas.\n",
    "\n",
    "Ahora creamos nuestra primera versión de la list comprehension:"
   ]
  },
  {
   "cell_type": "code",
   "execution_count": 16,
   "metadata": {},
   "outputs": [
    {
     "name": "stdout",
     "output_type": "stream",
     "text": [
      "CPU times: total: 1.36 s\n",
      "Wall time: 5.44 s\n"
     ]
    }
   ],
   "source": [
    "%%time\n",
    "lista3 = [(x, y) for x in lista1 for y in lista2 if x == 1 if y == 1]"
   ]
  },
  {
   "cell_type": "code",
   "execution_count": 17,
   "metadata": {},
   "outputs": [
    {
     "name": "stdout",
     "output_type": "stream",
     "text": [
      "Largo de lista3: 24740315 \n"
     ]
    }
   ],
   "source": [
    "print(f\"Largo de lista3: {len(lista3)} \")"
   ]
  },
  {
   "cell_type": "markdown",
   "metadata": {},
   "source": [
    "Tal y como está escrita (y tal y como se ha escrito el bucle for inicial) se recorren todos los valores de la lista \"lista1\", para cada uno de ellos se recorren todos los valores de la lista \"lista2\" y solo al final se aplican las condiciones.\n",
    "\n",
    "Pero podríamos mejorarlo de la siguiente forma:"
   ]
  },
  {
   "cell_type": "code",
   "execution_count": 18,
   "metadata": {},
   "outputs": [
    {
     "name": "stdout",
     "output_type": "stream",
     "text": [
      "CPU times: total: 1.08 s\n",
      "Wall time: 4.9 s\n"
     ]
    }
   ],
   "source": [
    "%%time\n",
    "lista3 = []\n",
    "for x in lista1:\n",
    "    if x == 1:\n",
    "        for y in lista2:\n",
    "            if y == 1:\n",
    "                lista3.append((x,y))"
   ]
  },
  {
   "cell_type": "code",
   "execution_count": 20,
   "metadata": {},
   "outputs": [
    {
     "ename": "NameError",
     "evalue": "name 'a' is not defined",
     "output_type": "error",
     "traceback": [
      "\u001b[1;31m---------------------------------------------------------------------------\u001b[0m",
      "\u001b[1;31mNameError\u001b[0m                                 Traceback (most recent call last)",
      "File \u001b[1;32m<timed exec>:1\u001b[0m\n",
      "\u001b[1;31mNameError\u001b[0m: name 'a' is not defined"
     ]
    }
   ],
   "source": [
    "%%time\n",
    "c = [(x, y) for x in a if x == 1 for y in b if y == 1]"
   ]
  },
  {
   "cell_type": "code",
   "execution_count": 21,
   "metadata": {},
   "outputs": [
    {
     "name": "stdout",
     "output_type": "stream",
     "text": [
      "Largo de c: 9 \n"
     ]
    }
   ],
   "source": [
    "print(f\"Largo de c: {len(c)} \")"
   ]
  },
  {
   "cell_type": "markdown",
   "metadata": {},
   "source": [
    "Ahora, recorremos la lista \"lista1\" y solo cuando toma el valor 1, recorremos la lista \"lista2\".\n",
    "\n",
    "De hecho, podríamos preguntarnos si mejoraría el rendimiento de la primera versión de nuestra list comprehension con el siguiente código:"
   ]
  },
  {
   "cell_type": "code",
   "execution_count": 22,
   "metadata": {},
   "outputs": [
    {
     "name": "stdout",
     "output_type": "stream",
     "text": [
      "CPU times: total: 1.3 s\n",
      "Wall time: 5.01 s\n"
     ]
    }
   ],
   "source": [
    "%%time\n",
    "lista3 = [(x, y) for x in lista1 for y in lista2 if (x == 1) and (y == 1)]"
   ]
  },
  {
   "cell_type": "markdown",
   "metadata": {},
   "source": [
    "...pero comprobamos que no es así. En realidad, en ambas versiones estamos permitiendo a Python que termine la comprobación de las condiciones en cuanto la primera no se cumpla, de forma que habría que buscar en el código fuente la diferencia de rendimiento entre ambos enfoques."
   ]
  },
  {
   "cell_type": "markdown",
   "metadata": {},
   "source": [
    "# Anidación de bucles"
   ]
  },
  {
   "cell_type": "markdown",
   "metadata": {},
   "source": [
    "De hecho, podríamos incluir varias sentencias for y varias sentencias if en la \"list comprehension\". Por ejemplo:"
   ]
  },
  {
   "cell_type": "code",
   "execution_count": 23,
   "metadata": {},
   "outputs": [
    {
     "name": "stdout",
     "output_type": "stream",
     "text": [
      "Lista: [('Madrid', 2017), ('Madrid', 2018), ('Madrid', 2019), ('Madrid', 2020), ('Barcelona', 2017), ('Barcelona', 2018), ('Barcelona', 2019), ('Barcelona', 2020), ('Milán', 2017), ('Milán', 2018), ('Milán', 2019), ('Milán', 2020), ('Santander', 2017), ('Santander', 2018), ('Santander', 2019), ('Santander', 2020)]\n",
      "CPU times: total: 0 ns\n",
      "Wall time: 0 ns\n"
     ]
    }
   ],
   "source": [
    "%%time\n",
    "ciudades = [\"Madrid\", \"Barcelona\", \"Milán\", \"Santander\"]\n",
    "anios = [2017, 2018, 2019, 2020]\n",
    "\n",
    "lista = [(c, y) for c in ciudades for y in anios]\n",
    "print(f'Lista: {lista}')"
   ]
  },
  {
   "cell_type": "markdown",
   "metadata": {},
   "source": [
    "Comprobamos que el resultado es equivalente al devuelto por el siguiente código:"
   ]
  },
  {
   "cell_type": "code",
   "execution_count": 24,
   "metadata": {},
   "outputs": [
    {
     "name": "stdout",
     "output_type": "stream",
     "text": [
      "Lista: [('Madrid', 2017), ('Madrid', 2018), ('Madrid', 2019), ('Madrid', 2020), ('Barcelona', 2017), ('Barcelona', 2018), ('Barcelona', 2019), ('Barcelona', 2020), ('Milán', 2017), ('Milán', 2018), ('Milán', 2019), ('Milán', 2020), ('Santander', 2017), ('Santander', 2018), ('Santander', 2019), ('Santander', 2020)]\n",
      "CPU times: total: 0 ns\n",
      "Wall time: 0 ns\n"
     ]
    }
   ],
   "source": [
    "%%time\n",
    "ciudades = [\"Madrid\", \"Barcelona\", \"Milán\", \"Santander\"]\n",
    "anios = [2017, 2018, 2019, 2020]\n",
    "\n",
    "lista = []\n",
    "for c in ciudades:\n",
    "    for y in anios:\n",
    "        lista.append((c, y))\n",
    "print(f'Lista: {lista}')"
   ]
  },
  {
   "cell_type": "markdown",
   "metadata": {},
   "source": [
    "Por supuesto, podríamos anidar tantos bucles como quisiéramos:"
   ]
  },
  {
   "cell_type": "code",
   "execution_count": 25,
   "metadata": {},
   "outputs": [
    {
     "name": "stdout",
     "output_type": "stream",
     "text": [
      "Lista: [('a1', 'b1', 'c1', 'd1'), ('a1', 'b1', 'c1', 'd2'), ('a1', 'b1', 'c2', 'd1'), ('a1', 'b1', 'c2', 'd2'), ('a1', 'b2', 'c1', 'd1'), ('a1', 'b2', 'c1', 'd2'), ('a1', 'b2', 'c2', 'd1'), ('a1', 'b2', 'c2', 'd2'), ('a2', 'b1', 'c1', 'd1'), ('a2', 'b1', 'c1', 'd2'), ('a2', 'b1', 'c2', 'd1'), ('a2', 'b1', 'c2', 'd2'), ('a2', 'b2', 'c1', 'd1'), ('a2', 'b2', 'c1', 'd2'), ('a2', 'b2', 'c2', 'd1'), ('a2', 'b2', 'c2', 'd2')]\n",
      "CPU times: total: 0 ns\n",
      "Wall time: 0 ns\n"
     ]
    }
   ],
   "source": [
    "%%time\n",
    "lista = []\n",
    "for a in  [\"a1\", \"a2\"]:\n",
    "    for b in [\"b1\", \"b2\"]:\n",
    "        for c in [\"c1\", \"c2\"]:\n",
    "            for d in [\"d1\", \"d2\"]:\n",
    "                lista.append((a,b,c,d))\n",
    "print(f'Lista: {lista}')    "
   ]
  },
  {
   "cell_type": "code",
   "execution_count": 26,
   "metadata": {},
   "outputs": [
    {
     "name": "stdout",
     "output_type": "stream",
     "text": [
      "Lista: [('a1', 'b1', 'c1', 'd1'), ('a1', 'b1', 'c1', 'd2'), ('a1', 'b1', 'c2', 'd1'), ('a1', 'b1', 'c2', 'd2'), ('a1', 'b2', 'c1', 'd1'), ('a1', 'b2', 'c1', 'd2'), ('a1', 'b2', 'c2', 'd1'), ('a1', 'b2', 'c2', 'd2'), ('a2', 'b1', 'c1', 'd1'), ('a2', 'b1', 'c1', 'd2'), ('a2', 'b1', 'c2', 'd1'), ('a2', 'b1', 'c2', 'd2'), ('a2', 'b2', 'c1', 'd1'), ('a2', 'b2', 'c1', 'd2'), ('a2', 'b2', 'c2', 'd1'), ('a2', 'b2', 'c2', 'd2')]\n",
      "CPU times: total: 0 ns\n",
      "Wall time: 0 ns\n"
     ]
    }
   ],
   "source": [
    "%%time\n",
    "lista = [(a, b, c, d) for a in [\"a1\", \"a2\"] for b in [\"b1\", \"b2\"] for c in [\"c1\", \"c2\"] for d in [\"d1\", \"d2\"]]\n",
    "print(f'Lista: {lista}')"
   ]
  },
  {
   "cell_type": "markdown",
   "metadata": {},
   "source": [
    "En estos casos resulta imprescindible especificar la estructura que van a tener los bloques generados. En los ejemplos anteriores se trata de tuplas, pero podría ser otro tipo de estructura:"
   ]
  },
  {
   "cell_type": "code",
   "execution_count": 27,
   "metadata": {},
   "outputs": [
    {
     "name": "stdout",
     "output_type": "stream",
     "text": [
      "Lista: [['Madrid', 2017], ['Madrid', 2018], ['Madrid', 2019], ['Madrid', 2020], ['Barcelona', 2017], ['Barcelona', 2018], ['Barcelona', 2019], ['Barcelona', 2020], ['Milán', 2017], ['Milán', 2018], ['Milán', 2019], ['Milán', 2020], ['Santander', 2017], ['Santander', 2018], ['Santander', 2019], ['Santander', 2020]]\n"
     ]
    }
   ],
   "source": [
    "lista = [[c, y] for c in ciudades for y in anios]\n",
    "print(f'Lista: {lista}')"
   ]
  },
  {
   "cell_type": "markdown",
   "metadata": {},
   "source": [
    "No se permite en ningún caso algo como lo siguiente:"
   ]
  },
  {
   "cell_type": "code",
   "execution_count": 28,
   "metadata": {},
   "outputs": [
    {
     "name": "stdout",
     "output_type": "stream",
     "text": [
      "[{'Madrid': 2017}, {'Madrid': 2018}, {'Madrid': 2019}, {'Madrid': 2020}, {'Barcelona': 2017}, {'Barcelona': 2018}, {'Barcelona': 2019}, {'Barcelona': 2020}, {'Milán': 2017}, {'Milán': 2018}, {'Milán': 2019}, {'Milán': 2020}, {'Santander': 2017}, {'Santander': 2018}, {'Santander': 2019}, {'Santander': 2020}]\n"
     ]
    }
   ],
   "source": [
    "try:\n",
    "    print([{c:y} for c in ciudades for y in anios])\n",
    "except:\n",
    "    print('Error ')"
   ]
  },
  {
   "cell_type": "code",
   "execution_count": null,
   "metadata": {},
   "outputs": [],
   "source": []
  }
 ],
 "metadata": {
  "interpreter": {
   "hash": "7b9fa9be9f35fc4099bf87bdbcb3f8dc895fcf48cc379b468ddaca34a9c94481"
  },
  "kernelspec": {
   "display_name": "Python 3",
   "language": "python",
   "name": "python3"
  },
  "language_info": {
   "codemirror_mode": {
    "name": "ipython",
    "version": 3
   },
   "file_extension": ".py",
   "mimetype": "text/x-python",
   "name": "python",
   "nbconvert_exporter": "python",
   "pygments_lexer": "ipython3",
   "version": "3.11.4"
  }
 },
 "nbformat": 4,
 "nbformat_minor": 4
}
