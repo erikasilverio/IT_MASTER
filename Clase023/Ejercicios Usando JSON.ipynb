{
 "cells": [
  {
   "cell_type": "markdown",
   "metadata": {},
   "source": [
    "__Ejercicio 1:__ convierta el siguiente diccionario a formato JSON\n",
    "\n",
    "datos = {\"clave1\": \"valor1\", \"clave2\": \"valor2\"}\n",
    "\n",
    "Resultado esperado :  datos = {\"clave1\": \"valor1\", \"clave2\": \"valor2\"}"
   ]
  },
  {
   "cell_type": "code",
   "execution_count": 38,
   "metadata": {},
   "outputs": [
    {
     "name": "stdout",
     "output_type": "stream",
     "text": [
      "{\"clave1\": \"valor1\", \"clave2\": \"valor2\"}\n"
     ]
    }
   ],
   "source": [
    "import json\n",
    "\n",
    "datos = {\"clave1\": \"valor1\", \"clave2\": \"valor2\"}\n",
    "\n",
    "datos_json = json.dumps(datos)\n",
    "\n",
    "print(datos_json)"
   ]
  },
  {
   "cell_type": "markdown",
   "metadata": {},
   "source": [
    "__Ejercicio 2:__ Acceda al valor de clave2 desde el siguiente JSON\n",
    "\n",
    "Resultado esperado : valor2"
   ]
  },
  {
   "cell_type": "code",
   "execution_count": 39,
   "metadata": {},
   "outputs": [
    {
     "name": "stdout",
     "output_type": "stream",
     "text": [
      "valor2\n"
     ]
    }
   ],
   "source": [
    "import json\n",
    "\n",
    "datos = \"\"\"{\"clave1\": \"valor1\", \"clave2\": \"valor2\"}\"\"\"\n",
    "\n",
    "\n",
    "datos = json.loads(datos)\n",
    "print(datos['clave2'])"
   ]
  },
  {
   "cell_type": "markdown",
   "metadata": {},
   "source": [
    "__Ejercicio 3:__ Mostrar los datos con formato Indentado de nivel 2 y los separadores de clave/valor deberían ser  \n",
    "(\",\", \" = \").\n",
    "\n",
    "datos = {\"clave1\": \"valor1\", \"clave2\": \"valor2\"}\n",
    "\n",
    "Resultado esperado :  \n",
    "{  \n",
    "\"clave1\" = \"valor1\",  \n",
    "\"clave2\" = \"valor2\",  \n",
    "\"clave3\" = \"valor3\"  \n",
    "}"
   ]
  },
  {
   "cell_type": "code",
   "execution_count": 40,
   "metadata": {},
   "outputs": [
    {
     "name": "stdout",
     "output_type": "stream",
     "text": [
      "{\n",
      "  \"clave1\" = \"valor1\",\n",
      "  \"clave2\" = \"valor2\",\n",
      "  \"clave3\" = \"valor3\"\n",
      "}\n"
     ]
    }
   ],
   "source": [
    "import json\n",
    "datos = {\"clave1\": \"valor1\", \"clave2\": \"valor2\",\"clave3\":\"valor3\"}\n",
    "datos_json  = json.dumps(datos, indent=2, separators=(\",\", \" = \"))\n",
    "print(datos_json)"
   ]
  },
  {
   "cell_type": "markdown",
   "metadata": {},
   "source": [
    "__Ejercicio 4:__ Ordene las claves del json y escribalo en un archivo.\n",
    "\n",
    "datos_json = {\"id\" : 1, \"nombre\" : \"Clodomiro\", \"edad\" : 29}\n"
   ]
  },
  {
   "cell_type": "code",
   "execution_count": 41,
   "metadata": {},
   "outputs": [],
   "source": [
    "import json\n",
    "\n",
    "datos_json = {\"id\" : 1, \"nombre\" : \"Clodomiro\", \"edad\" : 29}\n",
    "\n",
    "\n",
    "with open(\"ejercicio4.json\", \"w\") as archivo:\n",
    "    json.dump(datos_json, archivo, indent=4, sort_keys=True)"
   ]
  },
  {
   "cell_type": "markdown",
   "metadata": {},
   "source": [
    "__Ejercicio 5:__ Acceda a la clave anidada 'salario' desde el siguiente JSON\n",
    "\n",
    "Resultado esperado : 7000"
   ]
  },
  {
   "cell_type": "code",
   "execution_count": 42,
   "metadata": {},
   "outputs": [
    {
     "name": "stdout",
     "output_type": "stream",
     "text": [
      "7000\n"
     ]
    }
   ],
   "source": [
    "import json\n",
    "\n",
    "datos_json = \"\"\"{ \n",
    "   \"empresa\":{ \n",
    "      \"empleado\":{ \n",
    "         \"nombre\":\"Carlos\",\n",
    "         \"sueldo\":{ \n",
    "            \"salario\":7000,\n",
    "            \"bono\":800\n",
    "         }\n",
    "      }\n",
    "   }\n",
    "}\"\"\"\n",
    "datos = json.loads(datos_json)\n",
    "print(datos['empresa']['empleado']['sueldo']['salario'])"
   ]
  },
  {
   "cell_type": "markdown",
   "metadata": {},
   "source": [
    "__Ejercicio 6:__ Convierta el siguiente objeto de clase Vehiculo en JSON\n",
    "\n",
    "Resultado esperado :  \n",
    "{  \n",
    "\"modelo\": \"Toyota Rav4\",  \n",
    "\"motor\": \"2.5L\",  \n",
    "\"precio\": 3215600  \n",
    "}  \n"
   ]
  },
  {
   "cell_type": "code",
   "execution_count": 43,
   "metadata": {},
   "outputs": [
    {
     "name": "stdout",
     "output_type": "stream",
     "text": [
      "{\n",
      "    \"modelo\": \"Toyota Rav4\",\n",
      "    \"motor\": \"2.5L\",\n",
      "    \"precio\": 3215600.0\n",
      "}\n"
     ]
    }
   ],
   "source": [
    "import json\n",
    "from json import JSONEncoder\n",
    "\n",
    "class Vehiculo:\n",
    "    def __init__(self, modelo, motor, precio):\n",
    "        self.modelo = modelo\n",
    "        self.motor = motor\n",
    "        self.precio = precio\n",
    "\n",
    "class VehiculoEncoder(JSONEncoder):\n",
    "    def default(self, o):\n",
    "        return o.__dict__\n",
    "\n",
    "vehiculo = Vehiculo(\"Toyota Rav4\", \"2.5L\", 3215600.0)\n",
    "\n",
    "vehiculo_json = json.dumps(vehiculo, indent=4, cls=VehiculoEncoder)\n",
    "print(vehiculo_json)"
   ]
  },
  {
   "cell_type": "markdown",
   "metadata": {},
   "source": [
    "__Ejercicio 7:__ Convierta el siguiente JSON en un objeto Vehiculo \n"
   ]
  },
  {
   "cell_type": "code",
   "execution_count": 44,
   "metadata": {},
   "outputs": [
    {
     "name": "stdout",
     "output_type": "stream",
     "text": [
      "<class '__main__.Vehiculo'>\n",
      "Vehiculo: Toyota Rav4 - 2.5L - 3215600.0\n"
     ]
    }
   ],
   "source": [
    "import json\n",
    "\n",
    "class Vehiculo:\n",
    "    def __init__(self, modelo, motor, precio):\n",
    "        self.__modelo = modelo\n",
    "        self.__motor = motor\n",
    "        self.__precio = precio\n",
    "    \n",
    "    def __repr__(self)->str:\n",
    "        return f'{self.__modelo} - {self.__motor} - {self.__precio}'\n",
    "        \n",
    "def vehiculoDecoder(obj):\n",
    "        return Vehiculo(obj['modelo'], obj['motor'], obj['precio'])\n",
    "\n",
    "\n",
    "vehiculo = json.loads('{\"modelo\": \"Toyota Rav4\",  \"motor\": \"2.5L\",  \"precio\": 3215600.0  }',object_hook=vehiculoDecoder)\n",
    "\n",
    "\n",
    "print(type(vehiculo))\n",
    "print(f\"Vehiculo: {vehiculo}\")"
   ]
  },
  {
   "cell_type": "markdown",
   "metadata": {},
   "source": [
    "__Ejercicio 8:__ Compruebe si el siguiente json es válido o no. Si no es válido, corríjalo\n",
    "\n",
    "cadena = '{\"empresa\":{\"empleado\":{\"nombre\":\"Pablo\",\"sueldo\":{\"salario\":7000\"bonificación\":80000}}}}'"
   ]
  },
  {
   "cell_type": "code",
   "execution_count": 45,
   "metadata": {},
   "outputs": [
    {
     "name": "stdout",
     "output_type": "stream",
     "text": [
      "la cadena es valida?: False\n"
     ]
    }
   ],
   "source": [
    "import json\n",
    "\n",
    "def validar_json(datoa_json):\n",
    "    es_valido = True\n",
    "    try:\n",
    "        json.loads(datoa_json)\n",
    "    except ValueError as err:\n",
    "        es_valido = False\n",
    "    return es_valido\n",
    "\n",
    "cadena = '{\"empresa\":{\"empleado\":{\"nombre\":\"Pablo\",\"sueldo\":{\"salario\":7000\"bonificación\":80000}}}}'\n",
    "\n",
    "print(f\"la cadena es valida?: {validar_json(cadena)}\")"
   ]
  },
  {
   "cell_type": "markdown",
   "metadata": {},
   "source": [
    "__Ejercicio 9:__ Analice el siguiente JSON para obtener todos los valores de clave 'nombre' dentro de una lista\n",
    "\n",
    "Resultado esperado : [\"Pedrito\", \"Ramiro\"]   "
   ]
  },
  {
   "cell_type": "code",
   "execution_count": 46,
   "metadata": {},
   "outputs": [
    {
     "name": "stdout",
     "output_type": "stream",
     "text": [
      "['Pedrito', 'Ramiro']\n"
     ]
    }
   ],
   "source": [
    "import json\n",
    "\n",
    "cadena_json = \"\"\"[{\"id\": 1,\"nombre\": \"Pedrito\",\"color\":[\"rojo\",\"verde\"]},{\"id\": 2,\"nombre\": \"Ramiro\",\"color\":[\"Rosa\",\"amarillo\"]}]\"\"\"\n",
    "\n",
    "try:\n",
    "    datos = json.loads(cadena_json)\n",
    "except Exception as e:\n",
    "    print(e)\n",
    "\n",
    "print([item.get('nombre') for item in datos])"
   ]
  },
  {
   "cell_type": "code",
   "execution_count": 1,
   "metadata": {},
   "outputs": [
    {
     "name": "stdout",
     "output_type": "stream",
     "text": [
      "['Pedrito', 'Ramiro']\n"
     ]
    }
   ],
   "source": [
    "import json\n",
    "cadena = \"\"\"[{\"id\": 1,\"nombre\": \"Pedrito\",\"color\":[\"rojo\",\"verde\"]},{\"id\": 2,\"nombre\": \"Ramiro\",\"color\":[\"Rosa\",\"amarillo\"]}]\"\"\"\n",
    "list_in = json.loads(cadena)\n",
    "list_out=[]\n",
    "for e in list_in:\n",
    "    list_out.append(e['nombre'])\n",
    "print(list_out)\n"
   ]
  },
  {
   "cell_type": "code",
   "execution_count": null,
   "metadata": {},
   "outputs": [],
   "source": []
  }
 ],
 "metadata": {
  "kernelspec": {
   "display_name": "Python 3",
   "language": "python",
   "name": "python3"
  },
  "language_info": {
   "codemirror_mode": {
    "name": "ipython",
    "version": 3
   },
   "file_extension": ".py",
   "mimetype": "text/x-python",
   "name": "python",
   "nbconvert_exporter": "python",
   "pygments_lexer": "ipython3",
   "version": "3.7.6"
  }
 },
 "nbformat": 4,
 "nbformat_minor": 4
}
