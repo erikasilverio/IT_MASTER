{
 "cells": [
  {
   "cell_type": "markdown",
   "metadata": {},
   "source": [
    "# JSON con Python\n",
    "\n",
    "JSON es un formato estándar inspirado en JavaScript para el intercambio y la transferencia de datos con formato texto a través de una red.  \n",
    "Generalmente, JSON está en formato de cadena o texto. Puede ser utilizado por apis y bases de datos, representa objetos como pares de clave / valor.  \n",
    "JSON son las siglas de JavaScript Object Notation."
   ]
  },
  {
   "cell_type": "markdown",
   "metadata": {},
   "source": [
    "JSON es muy similar al diccionario Python. Python admite JSON y tiene una biblioteca incorporada como JSON."
   ]
  },
  {
   "cell_type": "markdown",
   "metadata": {},
   "source": [
    ">>\n",
    "__La libreria JSON realiza la siguiente traducción de objetos Python en objetos JSON de forma predeterminada__  \n",
    ">>\n",
    "|Python|JSON|\n",
    "|------|----|\n",
    "|dict|Object|\n",
    "|list|Array|\n",
    "|unicode|String|\n",
    "|number – int, long|number – int|\n",
    "|float|number – real|\n",
    "|True|true|\n",
    "|False|false|\n",
    "|None|Null|"
   ]
  },
  {
   "cell_type": "markdown",
   "metadata": {},
   "source": [
    ">>\n",
    "__Las siguientes funciones están disponibles en el módulo JSON Python__\n",
    ">>\n",
    "|Función|Descripción|\n",
    "|-------|-----------|\n",
    "|dumps()|codificación en strings JSON|\n",
    "|dump()|codificación en strings JSON en archivo|\n",
    "|loads()|decodificación de un string JSON|\n",
    "|load()|decodificación de un archivo JSON|\n",
    "\n"
   ]
  },
  {
   "cell_type": "markdown",
   "metadata": {},
   "source": [
    "__Json.dumps()__\n",
    "\n",
    "La función json.dumps() convierte un objeto Python en una cadena json.\n",
    "\n",
    ">>\n",
    "__Sintaxis:__\n",
    "json.dumps(obj, *, skipkeys=False, ensure_ascii=True, check_circular=True, allow_nan=True, cls=None, indent=None, separators=None, default=None, sort_keys=False, ** kw)\n",
    "\n",
    "__Parámetros:__\n",
    "\n",
    "__obj:__ Objeto Python a serializar.\n",
    "\n",
    "__skipkeys:__ Si skipkeys es verdadero (predeterminado: falso), las claves del diccionario que no son de un tipo básico (str, int, float, bool, None) se omitirán en lugar de lanzar un TypeError. \n",
    "\n",
    "__ensure_ascii:__ Si ensure_ascii es verdadero (el valor predeterminado), se garantiza que la salida tendrá todos los caracteres entrantes que no sean ASCII como escape. Si ensure_ascii es falso, estos caracteres se generarán tal cual. \n",
    "\n",
    "__check_circular:__ Si check_circular es falso (predeterminado: Verdadero), entonces se omitirá la verificación de referencia circular para los tipos de contenedores y una referencia circular dará como resultado un OverflowError (o peor). \n",
    "\n",
    "__allow_nan:__ Si allow_nan es falso (predeterminado: True), entonces se lanzara un ValueError al serializar valores flot fuera de rango (nan, inf, -inf) en estricto cumplimiento de la especificación JSON. Si allow_nan es verdadero, se usarán sus equivalentes de JavaScript (NaN, Infinity, -Infinity). \n",
    "\n",
    "__indent:__ Si la indentación es un número entero o una cadena no negativa, los miembros del objeto se imprimirán de forma bonita con ese nivel de indentación. Un nivel 0, negativo o \"\" solo insertará nuevas líneas. None (el predeterminado) selecciona la representación más compacta. El uso de una indentaci'on entera positiva agrega esa cantidad de espacios por nivel. Si la indentación es una cadena (como \"\\ t\"), esa cadena se utilizara cada nivel. \n",
    "\n",
    "__separators:__ Si se especifica, los separadores deben ser una tupla (item_separator, key_separator). El valor predeterminado es (',', ':') \n",
    "\n",
    "__default:__ Si se especifica, el valor predeterminado debería ser una función a la que se llame para objetos que de otro modo no se pueden serializar. Debe devolver una versión codificable JSON del objeto o generar un TypeError. Si no se especifica, se genera TypeError. \n",
    "\n",
    "__sort_keys:__ Si sort_keys es verdadero (predeterminado: falso), la salida de los diccionarios se ordenará por clave. \n",
    " "
   ]
  },
  {
   "cell_type": "code",
   "execution_count": 1,
   "metadata": {},
   "outputs": [
    {
     "name": "stdout",
     "output_type": "stream",
     "text": [
      "{\n",
      "    \"nombre\": \"Alberto\",\n",
      "    \"edad\": 45,\n",
      "    \"casado\": true,\n",
      "    \"hijos\": [\n",
      "        \"Clodomira\",\n",
      "        \"Raimundo\",\n",
      "        \"Pancracia\"\n",
      "    ],\n",
      "    \"mascotas\": [\n",
      "        \"Perro\",\n",
      "        \"Gato\",\n",
      "        \"Loro\",\n",
      "        \"tortuga\"\n",
      "    ],\n",
      "    \"Autos\": [\n",
      "        {\n",
      "            \"modelo\": \"Audi A1\",\n",
      "            \"consumo\": 7.1\n",
      "        },\n",
      "        {\n",
      "            \"modelo\": \"Jeep Compass\",\n",
      "            \"consumo\": 6.1\n",
      "        }\n",
      "    ]\n",
      "}\n",
      "tipo de cadena_json: <class 'str'>\n"
     ]
    }
   ],
   "source": [
    "import json\n",
    "\n",
    "dic = {\n",
    "    \"nombre\": \"Alberto\",\n",
    "    \"edad\": 45,\n",
    "    \"casado\": True,\n",
    "    \"hijos\": (\"Clodomira\", \"Raimundo\", \"Pancracia\"),\n",
    "    \"mascotas\": [\"Perro\", \"Gato\", \"Loro\", \"tortuga\"],\n",
    "    \"Autos\": [\n",
    "        {\"modelo\": \"Audi A1\", \"consumo\": 7.1},\n",
    "        {\"modelo\": \"Jeep Compass\", \"consumo\": 6.1}\n",
    "    ]\n",
    "}\n",
    "\n",
    "cadena_json = json.dumps(dic, indent=4, sort_keys=False)\n",
    "print(cadena_json)\n",
    "print(f'tipo de cadena_json: {type(cadena_json)}')\n"
   ]
  },
  {
   "cell_type": "markdown",
   "metadata": {},
   "source": [
    "__Codificación compacta en Python__\n",
    "\n",
    "Cuando necesite reducir el tamaño de su archivo JSON, puede usar la codificación compacta en Python."
   ]
  },
  {
   "cell_type": "code",
   "execution_count": 2,
   "metadata": {},
   "outputs": [
    {
     "name": "stdout",
     "output_type": "stream",
     "text": [
      "lista: ['a', 'b', 'c', {'4': 5, '6': 7}]\n",
      "str_JSON: [\"a\",\"b\",\"c\",{\"4\":5,\"6\":7}]\n",
      "Tipo de str_JSON: <class 'str'>\n"
     ]
    }
   ],
   "source": [
    "import json\n",
    "# Creamos una lista que contenga un diccionario entre su contenido\n",
    "lista = ['a', 'b', 'c', {'4': 5, '6': 7}]\n",
    "# separador utilizado para la representación compacta de JSON.\n",
    "# Uso de ',' para identificar elementos de la lista\n",
    "# Uso de ':' para identificar la clave y el valor en el diccionario\n",
    "str_JSON = json.dumps(lista, separators=(',', ':'))\n",
    "print(f'lista: {lista}')\n",
    "print(f'str_JSON: {str_JSON}')\n",
    "print(f'Tipo de str_JSON: {type(str_JSON)}')\n"
   ]
  },
  {
   "cell_type": "markdown",
   "metadata": {},
   "source": [
    "En el sig. ejemplo el diccionario contiene una tupla como clave "
   ]
  },
  {
   "cell_type": "code",
   "execution_count": 5,
   "metadata": {},
   "outputs": [
    {
     "name": "stdout",
     "output_type": "stream",
     "text": [
      "{\n",
      "    \"nombre\": \"Alberto\",\n",
      "    \"edad\": 45,\n",
      "    \"casado\": true,\n",
      "    \"hijos\": [\n",
      "        \"Clodomira\",\n",
      "        \"Raimundo\",\n",
      "        \"Pancracia\"\n",
      "    ],\n",
      "    \"mascotas\": [\n",
      "        \"Perro\",\n",
      "        \"Gato\",\n",
      "        \"Loro\",\n",
      "        \"tortuga\"\n",
      "    ],\n",
      "    \"Autos\": [\n",
      "        {\n",
      "            \"modelo\": \"Audi A1\",\n",
      "            \"consumo\": 7.1\n",
      "        },\n",
      "        {\n",
      "            \"modelo\": \"Jeep Compass\",\n",
      "            \"consumo\": 6.1\n",
      "        }\n",
      "    ]\n",
      "}\n",
      "tipo de cadena_json: <class 'str'>\n"
     ]
    }
   ],
   "source": [
    "import json\n",
    "\n",
    "dic = {\n",
    "    (1, 2, 3): \"La clave no es un tipo básico\",\n",
    "    \"nombre\": \"Alberto\",\n",
    "    \"edad\": 45,\n",
    "    \"casado\": True,\n",
    "    \"hijos\": (\"Clodomira\", \"Raimundo\", \"Pancracia\"),\n",
    "    \"mascotas\": [\"Perro\", \"Gato\", \"Loro\", \"tortuga\"],\n",
    "    \"Autos\": [\n",
    "        {\"modelo\": \"Audi A1\", \"consumo\": 7.1},\n",
    "        {\"modelo\": \"Jeep Compass\", \"consumo\": 6.1}\n",
    "    ]\n",
    "}\n",
    "\n",
    "# cadena_json = json.dumps(dic, indent=4, skipkeys = False) # Produce un error\n",
    "cadena_json = json.dumps(dic,  indent=4, skipkeys=True)\n",
    "print(cadena_json)\n",
    "print(f'tipo de cadena_json: {type(cadena_json)}')\n"
   ]
  },
  {
   "cell_type": "markdown",
   "metadata": {},
   "source": [
    "__json.dump()__\n",
    "\n",
    "Convierte los objetos de Python en objetos JSON. Es una ligera variante de la función dumps().\n",
    "\n",
    "Diferencia entre dump() y dumps()\n",
    "\n",
    "|dump()|dumps()|\n",
    "|------|-------|\n",
    "|Se usa cuando los objetos de Python deben almacenarse en un archivo.|Se utilizan cuando se requiere que los objetos estén en formato string.|\n",
    "|Necesita el nombre del archivo json en el que la salida debe almacenarse como argumento.|No requieren que se pase ningún nombre de archivo.|\n",
    "|Escribe en la memoria y luego el comando para escribir en el disco se ejecuta por separado|Escribe directamente en el archivo json|\n",
    "|Más rápido|2 veces más lento|\n",
    "\n",
    ">>\n",
    "__Sintaxis:__ json.dump(d, file,skipkeys = False, sure_ascii = True, check_circular = True, allow_nan = True, cls = None, indent = None, separators = None)\n",
    "\n",
    "\n"
   ]
  },
  {
   "cell_type": "code",
   "execution_count": 9,
   "metadata": {},
   "outputs": [],
   "source": [
    "import json\n",
    "RUTA = ''\n",
    "dic = {\n",
    "    \"nombre\": \"Alberto\",\n",
    "    \"edad\": 45,\n",
    "    \"casado\": True,\n",
    "    \"hijos\": (\"Clodomira\", \"Raimundo\", \"Pancracia\"),\n",
    "    \"mascotas\": [\"Perro\", \"Gato\", \"Loro\", \"tortuga\"],\n",
    "    \"Autos\": [\n",
    "        {\"modelo\": \"Audi A1\", \"consumo\": 7.1},\n",
    "        {\"modelo\": \"Jeep Compass\", \"consumo\": 6.1}\n",
    "    ]\n",
    "}\n",
    "\n",
    "# Creamos un nuevo archivo datos.json con modo de escritura usando la operación de E/S de archivo\n",
    "with open(RUTA+'datos.json', \"w\") as archivo:\n",
    "    json.dump(dic, archivo)\n"
   ]
  },
  {
   "cell_type": "markdown",
   "metadata": {},
   "source": [
    "__json.loads()__ \n",
    "Se utiliza para analizar una cadena JSON válida y convertirla en un diccionario de Python. Transforma cadenas nativas, bytes o listas de bytes que constan de datos JSON en un diccionario Python.\n",
    "\n",
    ">>\n",
    "__Sintaxis:__ json.loads(string_JSON)\n",
    "\n",
    "__Argumento:__ toma una cadena que contiene el documento JSON como parámetro (string_JSON).\n",
    "\n",
    "__Retorna:__ Un objeto Python."
   ]
  },
  {
   "cell_type": "code",
   "execution_count": 6,
   "metadata": {},
   "outputs": [
    {
     "name": "stdout",
     "output_type": "stream",
     "text": [
      "Diccionario: {'persona': {'nombre': 'Edelmiro', 'sexo': 'masculino', 'edad': 28, 'casado': True}}\n",
      "Tipo de dic: <class 'dict'>\n",
      "dic con clave 'persona': {'nombre': 'Edelmiro', 'sexo': 'masculino', 'edad': 28, 'casado': True}\n"
     ]
    }
   ],
   "source": [
    "import json\n",
    "# cadena de datos json\n",
    "str_persona = '{\"persona\": {\"nombre\": \"Edelmiro\", \"sexo\": \"masculino\", \"edad\": 28,\"casado\":true}}'\n",
    "\n",
    "dic = json.loads(str_persona)\n",
    "print(f\"Diccionario: {dic}\")\n",
    "print(f\"Tipo de dic: {type(dic)}\")\n",
    "print(f\"dic con clave 'persona': {dic.get('persona')}\")\n"
   ]
  },
  {
   "cell_type": "markdown",
   "metadata": {},
   "source": [
    "Un ejemplo con una cadena multilinea"
   ]
  },
  {
   "cell_type": "code",
   "execution_count": 7,
   "metadata": {},
   "outputs": [
    {
     "name": "stdout",
     "output_type": "stream",
     "text": [
      "cadena multilinea:\n",
      "{\n",
      "    \"nombre\": \"Raul Romualdo Rodriguez\",\n",
      "    \"contacto\": 7867567898,\n",
      "    \"email\": \"rrr2000@gmail.com\",\n",
      "    \"hobbies\":[\"Leer\", \"Karate\"]\n",
      "    }\n",
      "obj: {'nombre': 'Raul Romualdo Rodriguez', 'contacto': 7867567898, 'email': 'rrr2000@gmail.com', 'hobbies': ['Leer', 'Karate']}\n",
      "tipo de obj: <class 'dict'>\n"
     ]
    }
   ],
   "source": [
    "import json\n",
    "cadena_multilinea = \"\"\"{\n",
    "    \"nombre\": \"Raul Romualdo Rodriguez\",\n",
    "    \"contacto\": 7867567898,\n",
    "    \"email\": \"rrr2000@gmail.com\",\n",
    "    \"hobbies\":[\"Leer\", \"Karate\"]\n",
    "    }\"\"\"\n",
    "\n",
    "# parsear la cadena multilinea:\n",
    "obj = json.loads(cadena_multilinea)\n",
    "\n",
    "\n",
    "print(f'cadena multilinea:\\n{cadena_multilinea}')\n",
    "print(f'obj: {obj}')\n",
    "print(f'tipo de obj: {type(obj)}')\n"
   ]
  },
  {
   "cell_type": "markdown",
   "metadata": {},
   "source": [
    "__json.load()__ Toma un archivo y devuelve el json. \n",
    "\n",
    ">>\n",
    "__Sintaxis:__\n",
    "json.load(archivo)\n",
    "\n",
    "__Argumento:__ Un archivo.\n",
    "\n",
    "__Retorna:__ El json.\n"
   ]
  },
  {
   "cell_type": "code",
   "execution_count": 10,
   "metadata": {},
   "outputs": [
    {
     "name": "stdout",
     "output_type": "stream",
     "text": [
      "Datos leidos: {'nombre': 'Alberto', 'edad': 45, 'casado': True, 'hijos': ['Clodomira', 'Raimundo', 'Pancracia'], 'mascotas': ['Perro', 'Gato', 'Loro', 'tortuga'], 'Autos': [{'modelo': 'Audi A1', 'consumo': 7.1}, {'modelo': 'Jeep Compass', 'consumo': 6.1}]}\n",
      "Tipo de Datos leidos: <class 'dict'>\n"
     ]
    }
   ],
   "source": [
    "import json\n",
    "with open(RUTA+'datos.json') as archivo:\n",
    "    datos_leidos = json.load(archivo)\n",
    "print(f'Datos leidos: {datos_leidos}')\n",
    "print(f\"Tipo de Datos leidos: {type(datos_leidos)}\")\n"
   ]
  },
  {
   "cell_type": "markdown",
   "metadata": {},
   "source": [
    "Aquí, los datos son un diccionario de Python."
   ]
  },
  {
   "cell_type": "markdown",
   "metadata": {},
   "source": [
    "Aquí la salida de JSON se representa en una sola línea, que es la representación más compacta al eliminar el carácter de espacio de str_JSON\n",
    "\n",
    "Formato de código JSON (impresión bonita ==> Facil de entender)\n",
    "El objetivo es escribir código bien formateado para la comprensión humana. Con la ayuda de una impresión indentada, cualquiera puede entender fácilmente el código.\n",
    "\n",
    "Para formatear el código, el uso de indentación (tabulación 4) "
   ]
  },
  {
   "cell_type": "code",
   "execution_count": 11,
   "metadata": {},
   "outputs": [
    {
     "name": "stdout",
     "output_type": "stream",
     "text": [
      "{\n",
      "    \"a\":4,\n",
      "    \"b\":5\n",
      "}\n"
     ]
    }
   ],
   "source": [
    "import json\n",
    "\n",
    "dic = {'a': 4, 'b': 5}\n",
    "str_JSON = json.dumps(dic, indent=4, separators=(',', ':'))\n",
    "print(str_JSON)\n"
   ]
  },
  {
   "cell_type": "markdown",
   "metadata": {},
   "source": [
    "Para comprender mejor esto, cambiamos la indentación a 40 y vemos el resutado"
   ]
  },
  {
   "cell_type": "code",
   "execution_count": 12,
   "metadata": {},
   "outputs": [
    {
     "name": "stdout",
     "output_type": "stream",
     "text": [
      "{\n",
      "                                        \"a\":4,\n",
      "                                        \"b\":5\n",
      "}\n"
     ]
    }
   ],
   "source": [
    "import json\n",
    "\n",
    "dic = {'a': 4, 'b': 5}\n",
    "str_JSON = json.dumps(dic, indent=40, separators=(',', ':'))\n",
    "print(str_JSON)\n"
   ]
  },
  {
   "cell_type": "markdown",
   "metadata": {},
   "source": [
    "El atributo __sort_keys__ en el argumento de la función dumps ordenará la clave en JSON en orden ascendente. El argumento sort_keys es un atributo booleano. Cuando es cierto, la clasificación está permitida, de lo contrario, no. "
   ]
  },
  {
   "cell_type": "code",
   "execution_count": 13,
   "metadata": {},
   "outputs": [
    {
     "name": "stdout",
     "output_type": "stream",
     "text": [
      "{\n",
      "    \"autos\": [\n",
      "        {\n",
      "            \"kmxlitro\": 10.1,\n",
      "            \"modelo\": \"Falcon\"\n",
      "        },\n",
      "        {\n",
      "            \"kmxlitro\": 15.1,\n",
      "            \"modelo\": \"Fitito\"\n",
      "        }\n",
      "    ],\n",
      "    \"casado\": true,\n",
      "    \"edad\": 45,\n",
      "    \"hijos\": [\n",
      "        \"Alicia\",\n",
      "        \"Pablo\",\n",
      "        \"Edelmiro\"\n",
      "    ],\n",
      "    \"mascotas\": [\n",
      "        \"Perro\",\n",
      "        \"Loro\"\n",
      "    ],\n",
      "    \"nombre\": \"Arturo\"\n",
      "}\n"
     ]
    }
   ],
   "source": [
    "import json\n",
    "\n",
    "dic = {\"nombre\": \"Arturo\", \"edad\": 45, \"casado\": True, \"hijos\": (\"Alicia\", \"Pablo\", \"Edelmiro\"),\n",
    "       \"mascotas\": ['Perro', 'Loro'],\n",
    "       \"autos\": [{\"modelo\": \"Falcon\", \"kmxlitro\": 10.1}, {\"modelo\": \"Fitito\", \"kmxlitro\": 15.1}]}\n",
    "\n",
    "str_JSON_ord = json.dumps(dic, indent=4, sort_keys=True)\n",
    "print(str_JSON_ord)\n"
   ]
  },
  {
   "cell_type": "markdown",
   "metadata": {},
   "source": [
    "__Escribiendo código:__"
   ]
  },
  {
   "cell_type": "code",
   "execution_count": 15,
   "metadata": {},
   "outputs": [],
   "source": [
    "import json\n",
    "import io\n",
    "from datetime import date, time\n",
    "\n",
    "# CONSTANTE DEFINIDA PARA GENERALIZAR EL NOMBRE DEL ARCHIVO\n",
    "ARCHIVO = \"datos.json\"\n",
    "\n",
    "# RECUPEAMOS EL JSON EN UN NUEVO DICCIONARIO\n",
    "\n",
    "\n",
    "def leer(nombreArchivo: str = ARCHIVO) -> dict:\n",
    "    dic = {}\n",
    "    try:  # BLOQUE CONTROLADO PARA TOMAR EXCEPCIONES\n",
    "        with open(nombreArchivo, 'r') as archivo:\n",
    "            dic = json.load(archivo)\n",
    "    except io.UnsupportedOperation as e:\n",
    "        print(f\"Sin permiso de lectura: {e}\")\n",
    "    except FileNotFoundError as e:\n",
    "        print(f\"El archivo no existe: {e}\")\n",
    "    except IOError as e:\n",
    "        print(f\"EOF Error: {e}\")\n",
    "    return dic\n",
    "\n",
    "# SOBREESCRIBIMOS LOS VIEJOS DATOS CON LOS NUEVOS DATOS\n",
    "\n",
    "\n",
    "def escribir(datos, nombreArchivo: str = ARCHIVO) -> None:\n",
    "    try:\n",
    "        with open(nombreArchivo, 'w') as archivo:\n",
    "            json.dump(datos, archivo, indent=4)\n",
    "    except io.UnsupportedOperation as e:\n",
    "        print(f\"Sin permiso de escritura: {e}\")\n",
    "    except IOError as e:  # EN CASO DE ERROR\n",
    "        print(f\"EOF Error: {e}\")\n",
    "\n",
    "\n",
    "def escribir_objetos(datos, nombreArchivo: str = ARCHIVO):\n",
    "    try:\n",
    "        with open(nombreArchivo, 'w') as archivo:\n",
    "            json.dump(datos, archivo, default=lambda x: x.__dict__, indent=4)\n",
    "    except io.UnsupportedOperation as e:\n",
    "        print(f\"Sin permiso de escritura: {e}\")\n",
    "    except IOError as e:  # EN CASO DE ERROR\n",
    "        print(f\"EOF Error: {e}\")\n",
    "\n",
    "\n",
    "def serialize(obj):\n",
    "    serial = obj.__dict__\n",
    "    # if para la serialización de fecha y hora\n",
    "    # luego se devuelve un obj.__dict__\n",
    "    # para cualquier otro objeto.\n",
    "    if isinstance(obj, (date, time)):\n",
    "        serial = obj.isoformat()\n",
    "    return serial\n",
    "\n",
    "\n",
    "def escribir_objetos_serialize(datos, nombreArchivo: str = ARCHIVO):\n",
    "    try:\n",
    "        with open(nombreArchivo, 'w') as archivo:\n",
    "            archivo.write(json.dumps(datos, default=serialize, indent=4))\n",
    "    except io.UnsupportedOperation as e:\n",
    "        print(f\"Sin permiso de escritura: {e}\")\n",
    "    except IOError as e:  # EN CASO DE ERROR\n",
    "        print(f\"EOF Error: {e}\")\n",
    "\n",
    "\n",
    "class Persona:\n",
    "    def __init__(self, dni: int = int(0), nombre: str = '', altura: float = float(0)) -> None:\n",
    "        self.__dni = dni\n",
    "        self.__nombre = nombre\n",
    "        self.__altura = altura\n",
    "\n",
    "    def __str__(self) -> str:\n",
    "        return f'{self.__dni} - {self.__nombre} - {self.__altura}'\n",
    "\n",
    "    def __repr__(self) -> str:\n",
    "        return f'{self.__dni} - {self.__nombre} - {self.__altura}'\n",
    "\n",
    "    def to_dict(self) -> dict:\n",
    "        return self.__dict__\n"
   ]
  },
  {
   "cell_type": "code",
   "execution_count": 16,
   "metadata": {},
   "outputs": [
    {
     "name": "stdout",
     "output_type": "stream",
     "text": [
      "[2233444 - Juan - 1.88, 44567765 - Paula - 1.67]\n",
      "[{'_Persona__dni': 2233444, '_Persona__nombre': 'Juan', '_Persona__altura': 1.88}, {'_Persona__dni': 44567765, '_Persona__nombre': 'Paula', '_Persona__altura': 1.67}]\n"
     ]
    }
   ],
   "source": [
    "lista = [Persona(2233444, 'Juan', 1.88), Persona(44567765, 'Paula', 1.67)]\n",
    "print(lista)\n",
    "escribir_objetos_serialize(lista, 'personas.json')\n",
    "\n",
    "lista = []\n",
    "lista = leer('personas.json')\n",
    "print(lista)\n"
   ]
  },
  {
   "cell_type": "code",
   "execution_count": 17,
   "metadata": {},
   "outputs": [
    {
     "name": "stdout",
     "output_type": "stream",
     "text": [
      "lista_personas: [{'_Persona__dni': 2233444, '_Persona__nombre': 'Juan', '_Persona__altura': 1.88}, {'_Persona__dni': 44567765, '_Persona__nombre': 'Paula', '_Persona__altura': 1.67}]\n",
      "\n",
      "\n",
      "Recorriendo la lista\n",
      "_Persona__dni  2233444\n",
      "_Persona__nombre  Juan\n",
      "_Persona__altura  1.88\n",
      "_Persona__dni  44567765\n",
      "_Persona__nombre  Paula\n",
      "_Persona__altura  1.67\n"
     ]
    }
   ],
   "source": [
    "lista_personas = leer(\"personas.json\")\n",
    "print(f'lista_personas: {lista_personas}\\n\\n')\n",
    "print(\"Recorriendo la lista\")\n",
    "for dic in lista_personas:\n",
    "    for k in dic.keys():\n",
    "        print(f\"{k}  {dic[k]}\")\n",
    "escribir(lista, \"datosXXX.JSON\")\n"
   ]
  },
  {
   "cell_type": "markdown",
   "metadata": {},
   "source": [
    "__JSON JSONEncoder__\n",
    "\n",
    "La clase JSONEncoder se utiliza para la serialización de cualquier objeto de Python.  \n",
    "\n",
    "__default(obj):__ Implementado en la subclase y devuelve el objeto serializar para el objeto obj.\n",
    "\n",
    "__encode(obj):__ Igual que dumps() devuelve la cadena JSON de una estructura de datos Python.\n",
    "\n",
    "Con la ayuda del método encode() de la clase JSONEncoder, también podemos codificar cualquier objeto Python como se muestra en el siguiente ejemplo."
   ]
  },
  {
   "cell_type": "code",
   "execution_count": 18,
   "metadata": {},
   "outputs": [
    {
     "name": "stdout",
     "output_type": "stream",
     "text": [
      "{\"color\": [\"rojo\", \"amarillo\", \"verde\"]}\n"
     ]
    }
   ],
   "source": [
    "from json.encoder import JSONEncoder\n",
    "dic = {\"color\": [\"rojo\", \"amarillo\", \"verde\"]}\n",
    "# método de codificación llamado directamente de JSON\n",
    "print(JSONEncoder().encode(dic))\n"
   ]
  },
  {
   "cell_type": "code",
   "execution_count": 19,
   "metadata": {},
   "outputs": [
    {
     "name": "stdout",
     "output_type": "stream",
     "text": [
      "{'color': ['rojo', 'amarillo']}\n"
     ]
    }
   ],
   "source": [
    "from json.decoder import JSONDecoder\n",
    "cadena = '{\"color\": [\"rojo\", \"amarillo\"]}'\n",
    "print(JSONDecoder().decode(cadena))\n"
   ]
  },
  {
   "cell_type": "code",
   "execution_count": null,
   "metadata": {},
   "outputs": [],
   "source": [
    "import json\n",
    "from json import JSONEncoder\n",
    "\n",
    "\n",
    "class Direccion:\n",
    "    def __init__(self, ciudad: str, calle: str, altura: str):\n",
    "        self.ciudad = ciudad\n",
    "        self.calle = calle\n",
    "        self.altura = altura\n",
    "\n",
    "    def __str__(self) -> str:\n",
    "        return f'{self.__ciudad} {self.__calle} {self.altura}'\n",
    "\n",
    "    def __repr__(self) -> str:\n",
    "        return f'{self.__ciudad} {self.__calle} {self.altura}'\n",
    "\n",
    "\n",
    "class DireccionEncoder(JSONEncoder):\n",
    "    def default(self, obj):\n",
    "        return obj.__dict__\n",
    "\n",
    "\n",
    "class Empleado:\n",
    "    def __init__(self, nombre: str, sueldo: float, direccion: Direccion):\n",
    "        self.nombre = nombre\n",
    "        self.sueldo = sueldo\n",
    "        self.direccion = direccion\n",
    "\n",
    "    def __str__(self) -> str:\n",
    "        return f'{self.__ciudad} {self.__calle} {self.altura}'\n",
    "\n",
    "    def __repr__(self) -> str:\n",
    "        return f'{self.__ciudad} {self.__calle} {self.altura}'\n",
    "\n",
    "    def toJson(self):\n",
    "        return json.dumps(self, default=lambda obj: obj.__dict__)\n",
    "\n",
    "\n",
    "class EmpleadoEncoder(JSONEncoder):\n",
    "    def default(self, obj):\n",
    "        return obj.__dict__\n",
    "\n",
    "\n",
    "direccion = Direccion(\"Buenos Aires\", \"Salta\", \"1500\")\n",
    "empleado1 = Empleado(\"Juan\", 55674.88, direccion)\n",
    "\n",
    "print(\"Codificando en JSON\")\n",
    "empleado_JSON1 = json.dumps(empleado1.toJson(), indent=4)\n",
    "print(f'empleado_JSON1: {empleado_JSON1}')\n",
    "\n",
    "print()\n",
    "\n",
    "empleado_JSON2 = json.dumps(empleado1, indent=4, cls=EmpleadoEncoder)\n",
    "print(f'empleado_JSON2: {empleado_JSON2}')\n",
    "print('\\n')\n",
    "\n",
    "\n",
    "empleado2 = json.loads(empleado_JSON2)\n",
    "print(f\"empleado2: {empleado2}\")\n"
   ]
  },
  {
   "cell_type": "markdown",
   "metadata": {},
   "source": [
    "Decodificación de datos JSON de URL: \n",
    "Obtendremos datos y los convertiremos en formato de diccionario.de CityBike NYC (sistema de bicicletas compartidas) de la siguiente URL https://feeds.citibikenyc.com/stations/stations.json "
   ]
  },
  {
   "cell_type": "code",
   "execution_count": 21,
   "metadata": {},
   "outputs": [
    {
     "name": "stdout",
     "output_type": "stream",
     "text": [
      "Tipo de respuesta <class 'requests.models.Response'>\n",
      "Tipo de dic: {type(dic)}\n",
      "{'id': 72, 'stationName': 'W 52 St & 11 Ave', 'availableDocks': 32, 'totalDocks': 39, 'latitude': 40.76727216, 'longitude': -73.99392888, 'statusValue': 'In Service', 'statusKey': 1, 'availableBikes': 7, 'stAddress1': 'W 52 St & 11 Ave', 'stAddress2': '', 'city': '', 'postalCode': '', 'location': '', 'altitude': '', 'testStation': False, 'lastCommunicationTime': '2016-01-22 04:30:15 PM', 'landMark': ''}\n",
      "\n",
      "{'id': 79, 'stationName': 'Franklin St & W Broadway', 'availableDocks': 0, 'totalDocks': 33, 'latitude': 40.71911552, 'longitude': -74.00666661, 'statusValue': 'In Service', 'statusKey': 1, 'availableBikes': 33, 'stAddress1': 'Franklin St & W Broadway', 'stAddress2': '', 'city': '', 'postalCode': '', 'location': '', 'altitude': '', 'testStation': False, 'lastCommunicationTime': '2016-01-22 04:32:41 PM', 'landMark': ''}\n",
      "\n",
      "Largo de la lista: 509\n"
     ]
    }
   ],
   "source": [
    "import json\n",
    "import requests\n",
    "\n",
    "# obtener datos de cadenas JSON de CityBike NYC utilizando la biblioteca de solicitudes web\n",
    "respuesta = requests.get(\n",
    "    \"https://feeds.citibikenyc.com/stations/stations.json\")\n",
    "\n",
    "# comprobar el tipo de objeto json_response\n",
    "print(f\"Tipo de respuesta {type(respuesta)}\")\n",
    "#print(f\"respuesta.text: {respuesta.text}\")\n",
    "\n",
    "# cargar datos en la función load () de la biblioteca json\n",
    "dic = json.loads(respuesta.text)\n",
    "\n",
    "print(\"Tipo de dic: {type(dic)}\")\n",
    "# ahora obtenemos los datos claves de stationBeanList de dic\n",
    "print(dic['stationBeanList'][0])\n",
    "print()\n",
    "print(dic['stationBeanList'][1])\n",
    "print()\n",
    "print(f\"Largo de la lista: {len(dic['stationBeanList'])}\")\n"
   ]
  },
  {
   "cell_type": "code",
   "execution_count": 23,
   "metadata": {},
   "outputs": [
    {
     "ename": "FileNotFoundError",
     "evalue": "[Errno 2] No such file or directory: 'prestadoresdegeriatria.csv'",
     "output_type": "error",
     "traceback": [
      "\u001b[1;31m---------------------------------------------------------------------------\u001b[0m",
      "\u001b[1;31mFileNotFoundError\u001b[0m                         Traceback (most recent call last)",
      "\u001b[1;32mc:\\Users\\Alfredo\\Desktop\\C U R S O   ITMASTER\\Temp\\Usando JSON.ipynb Celda 36\u001b[0m in \u001b[0;36m<cell line: 5>\u001b[1;34m()\u001b[0m\n\u001b[0;32m      <a href='vscode-notebook-cell:/c%3A/Users/Alfredo/Desktop/C%20U%20R%20S%20O%20%20%20ITMASTER/Temp/Usando%20JSON.ipynb#X50sZmlsZQ%3D%3D?line=3'>4</a>\u001b[0m dic_datos \u001b[39m=\u001b[39m {}\n\u001b[0;32m      <a href='vscode-notebook-cell:/c%3A/Users/Alfredo/Desktop/C%20U%20R%20S%20O%20%20%20ITMASTER/Temp/Usando%20JSON.ipynb#X50sZmlsZQ%3D%3D?line=4'>5</a>\u001b[0m \u001b[39mtry\u001b[39;00m:\n\u001b[1;32m----> <a href='vscode-notebook-cell:/c%3A/Users/Alfredo/Desktop/C%20U%20R%20S%20O%20%20%20ITMASTER/Temp/Usando%20JSON.ipynb#X50sZmlsZQ%3D%3D?line=5'>6</a>\u001b[0m     \u001b[39mwith\u001b[39;00m \u001b[39mopen\u001b[39;49m(\u001b[39m'\u001b[39;49m\u001b[39mprestadoresdegeriatria.csv\u001b[39;49m\u001b[39m'\u001b[39;49m) \u001b[39mas\u001b[39;00m archivo:\n\u001b[0;32m      <a href='vscode-notebook-cell:/c%3A/Users/Alfredo/Desktop/C%20U%20R%20S%20O%20%20%20ITMASTER/Temp/Usando%20JSON.ipynb#X50sZmlsZQ%3D%3D?line=6'>7</a>\u001b[0m         dic_datos \u001b[39m=\u001b[39m json\u001b[39m.\u001b[39mload(archivo)\n\u001b[0;32m      <a href='vscode-notebook-cell:/c%3A/Users/Alfredo/Desktop/C%20U%20R%20S%20O%20%20%20ITMASTER/Temp/Usando%20JSON.ipynb#X50sZmlsZQ%3D%3D?line=7'>8</a>\u001b[0m \u001b[39mexcept\u001b[39;00m JSONDecodeError \u001b[39mas\u001b[39;00m e:\n",
      "\u001b[1;31mFileNotFoundError\u001b[0m: [Errno 2] No such file or directory: 'prestadoresdegeriatria.csv'"
     ]
    }
   ],
   "source": [
    "import json\n",
    "from json import JSONDecodeError\n",
    "\n",
    "dic_datos = {}\n",
    "try:\n",
    "    with open('prestadoresdegeriatria.csv') as archivo:\n",
    "        dic_datos = json.load(archivo)\n",
    "except JSONDecodeError as e:\n",
    "    print(f\"Formato de archivo JSON incorrecto: {e}\")\n"
   ]
  },
  {
   "cell_type": "markdown",
   "metadata": {},
   "source": [
    "__Números infinitos y NaN en Python__\n",
    "\n",
    "Si JSON obtiene el tipo de datos INFINITE y Nan, entonces se convierte en literal."
   ]
  },
  {
   "cell_type": "code",
   "execution_count": 24,
   "metadata": {},
   "outputs": [
    {
     "name": "stdout",
     "output_type": "stream",
     "text": [
      "infinito_json: Infinity Tipo: <class 'str'>\n",
      "nan_json: NaN Tipo: <class 'str'>\n",
      "infinito: inf Tipo: <class 'float'>\n"
     ]
    }
   ],
   "source": [
    "import json\n",
    "\n",
    "infinito_json = json.dumps(float('inf'))\n",
    "print(f\"infinito_json: {infinito_json} Tipo: {type(infinito_json)}\")\n",
    "\n",
    "nan_json = json.dumps(float('nan'))\n",
    "print(f\"nan_json: {nan_json} Tipo: {type(nan_json)}\")\n",
    "\n",
    "\n",
    "try:\n",
    "    infinito = json.loads('Infinity')\n",
    "    print(f\"infinito: {infinito} Tipo: {type(infinito)}\")\n",
    "except JSONDecodeError as e:\n",
    "    print(f\"Error: {e}\")\n"
   ]
  },
  {
   "cell_type": "markdown",
   "metadata": {},
   "source": [
    "__Clave repetida en string JSON__\n",
    "\n",
    "La biblioteca Python JSON no genera una excepción de objetos repetidos en JSON.  \n",
    "Ignora todos los pares clave-valor repetidos y considera solo el último par clave-valor entre ellos."
   ]
  },
  {
   "cell_type": "code",
   "execution_count": 25,
   "metadata": {},
   "outputs": [
    {
     "name": "stdout",
     "output_type": "stream",
     "text": [
      "repetidos: {'a1': 3, 'a2': 2}\n"
     ]
    }
   ],
   "source": [
    "import json\n",
    "repetidos = '{\"a1\": 1, \"a2\": 2, \"a1\": 3,\"a1\": 1, \"a2\": 2, \"a1\": 3,\"a1\": 1, \"a2\": 2, \"a1\": 3}'\n",
    "print(f\"repetidos: {json.loads(repetidos)}\")\n"
   ]
  },
  {
   "cell_type": "markdown",
   "metadata": {},
   "source": [
    "## Ejercicios"
   ]
  },
  {
   "cell_type": "markdown",
   "metadata": {},
   "source": [
    "__Ejercicio 1:__ convierta el siguiente diccionario a formato JSON\n",
    "\n",
    "datos = {\"clave1\": \"valor1\", \"clave2\": \"valor2\"}\n",
    "\n",
    "Resultado esperado :  datos = {\"clave1\": \"valor1\", \"clave2\": \"valor2\"}"
   ]
  },
  {
   "cell_type": "code",
   "execution_count": null,
   "metadata": {},
   "outputs": [],
   "source": [
    "import json\n"
   ]
  },
  {
   "cell_type": "markdown",
   "metadata": {},
   "source": [
    "__Ejercicio 2:__ Acceda al valor de clave2 desde el siguiente JSON\n",
    "\n",
    "Resultado esperado : valor2"
   ]
  },
  {
   "cell_type": "code",
   "execution_count": null,
   "metadata": {},
   "outputs": [],
   "source": [
    "import json\n",
    "\n",
    "datos = \"\"\"{\"clave1\": \"valor1\", \"clave2\": \"valor2\"}\"\"\"\n"
   ]
  },
  {
   "cell_type": "markdown",
   "metadata": {},
   "source": [
    "__Ejercicio 3:__ Mostrar los datos con formato Indentado de nivel 2 y los separadores de clave/valor deberían ser  \n",
    "(\",\", \" = \").\n",
    "\n",
    "datos = {\"clave1\": \"valor1\", \"clave2\": \"valor2\"}\n",
    "\n",
    "Resultado esperado :  \n",
    "{  \n",
    "\"clave1\" = \"valor1\",  \n",
    "\"clave2\" = \"valor2\",  \n",
    "\"clave3\" = \"valor3\"  \n",
    "}"
   ]
  },
  {
   "cell_type": "code",
   "execution_count": null,
   "metadata": {},
   "outputs": [],
   "source": [
    "import json\n"
   ]
  },
  {
   "cell_type": "markdown",
   "metadata": {},
   "source": [
    "__Ejercicio 4:__ Ordene las claves del json y escribalo en un archivo.\n",
    "\n",
    "datos_json = {\"id\" : 1, \"nombre\" : \"Clodomiro\", \"edad\" : 29}\n"
   ]
  },
  {
   "cell_type": "code",
   "execution_count": null,
   "metadata": {},
   "outputs": [],
   "source": [
    "import json\n",
    "\n",
    "datos_json = {\"id\": 1, \"nombre\": \"Clodomiro\", \"edad\": 29}\n"
   ]
  },
  {
   "cell_type": "markdown",
   "metadata": {},
   "source": [
    "__Ejercicio 5:__ Acceda a la clave anidada 'salario' desde el siguiente JSON\n",
    "\n",
    "Resultado esperado : 7000"
   ]
  },
  {
   "cell_type": "code",
   "execution_count": null,
   "metadata": {},
   "outputs": [],
   "source": [
    "import json\n",
    "\n",
    "datos = \"\"\"{ \n",
    "   \"empresa\":{ \n",
    "      \"empleado\":{ \n",
    "         \"nombre\":\"Carlos\",\n",
    "         \"sueldo\":{ \n",
    "            \"salario\":7000,\n",
    "            \"bono\":800\n",
    "         }\n",
    "      }\n",
    "   }\n",
    "}\"\"\"\n"
   ]
  },
  {
   "cell_type": "markdown",
   "metadata": {},
   "source": [
    "__Ejercicio 6:__ Convierta el siguiente objeto de clase Vehiculo en JSON\n",
    "\n",
    "Resultado esperado :  \n",
    "{  \n",
    "\"modelo\": \"Toyota Rav4\",  \n",
    "\"motor\": \"2.5L\",  \n",
    "\"precio\": 3215600  \n",
    "}  \n"
   ]
  },
  {
   "cell_type": "code",
   "execution_count": null,
   "metadata": {},
   "outputs": [],
   "source": [
    "import json\n",
    "\n",
    "\n",
    "class Vehiculo:\n",
    "    def __init__(self, modelo, motor, precio):\n",
    "        self.modelo = modelo\n",
    "        self.motor = motor\n",
    "        self.precio = precio\n",
    "\n",
    "\n",
    "vehiculo = Vehiculo(\"Toyota Rav4\", \"2.5L\", 3215600.0)\n"
   ]
  },
  {
   "cell_type": "markdown",
   "metadata": {},
   "source": [
    "__Ejercicio 7:__ Convierta el siguiente JSON en un objeto Vehiculo \n"
   ]
  },
  {
   "cell_type": "code",
   "execution_count": null,
   "metadata": {},
   "outputs": [],
   "source": [
    "import json\n",
    "\n",
    "{\"modelo\": \"Toyota Rav4\",  \"motor\": \"2.5L\",  \"precio\": 3215600.0}\n"
   ]
  },
  {
   "cell_type": "markdown",
   "metadata": {},
   "source": [
    "__Ejercicio 8:__ Compruebe si el siguiente json es válido o no. Si no es válido, corríjalo\n",
    "\n",
    "cadena = '{\"empresa\":{\"empleado\":{\"nombre\":\"Pablo\",\"sueldo\":{\"salario\":7000\"bonificación\":80000}}}}'"
   ]
  },
  {
   "cell_type": "code",
   "execution_count": null,
   "metadata": {},
   "outputs": [],
   "source": [
    "import json\n"
   ]
  },
  {
   "cell_type": "markdown",
   "metadata": {},
   "source": [
    "__Ejercicio 9:__ Analice el siguiente JSON para obtener todos los valores de clave 'nombre' dentro de una lista\n",
    "\n",
    "Resultado esperado : [\"Pedrito\", \"Ramiro\"]   "
   ]
  },
  {
   "cell_type": "code",
   "execution_count": null,
   "metadata": {},
   "outputs": [],
   "source": [
    "import json\n",
    "\n",
    "[{\"id\": 1, \"nombre\": \"Pedrito\", \"color\": [\"rojo\", \"verde\"]}, {\n",
    "    \"id\": 2, \"nombre\": \"Ramiro\", \"color\": [\"Rosa\", \"amarillo\"]}]\n"
   ]
  }
 ],
 "metadata": {
  "kernelspec": {
   "display_name": "Python 3",
   "language": "python",
   "name": "python3"
  },
  "language_info": {
   "codemirror_mode": {
    "name": "ipython",
    "version": 3
   },
   "file_extension": ".py",
   "mimetype": "text/x-python",
   "name": "python",
   "nbconvert_exporter": "python",
   "pygments_lexer": "ipython3",
   "version": "3.10.4"
  }
 },
 "nbformat": 4,
 "nbformat_minor": 4
}
