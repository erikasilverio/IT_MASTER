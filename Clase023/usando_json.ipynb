{
 "cells": [
  {
   "cell_type": "markdown",
   "metadata": {},
   "source": [
    "# Cómo trabajar con datos JSON utilizando Python"
   ]
  },
  {
   "cell_type": "markdown",
   "metadata": {},
   "source": [
    "Antes de ahondar más el tema, vamos a definir brevemente lo que entendemos por JSON. Vamos a ver cómo lo define su propia web oficial:\n",
    "\n",
    "JSON, acrónimo de JavaScript Object Notation, es un formato de texto ligero para el intercambio de datos. JSON es un subconjunto de la notación literal de objetos de JavaScript aunque hoy, debido a su amplia adopción como alternativa a XML, se considera un formato de lenguaje independiente. Es utilizado para proyectos de lenguajes de programación diferentes como C, C++, Java, Javascript, Perl, Python y muchos más. Estas propiedades hacen que JSON sea el lenguaje ideal para el intercambio de datos.\n",
    "\n",
    "Por lo tanto, JSON se puede considerar como un método simple de crear y almacenar estructuras de datos. La razón por la que JavaScript está en sus siglas se debe al hecho de que se crea un objeto de JavaScript al almacenar los datos con JSON. Sin embargo, no te preocupes, no necesitas saber nada de JavaScript para trabajar con archivos JSON, sino más bien de la sintaxis (formato) de JSON.\n",
    "\n",
    "En resumen, JSON es una manera de almacenar e intercambiar datos y, gracias a su sintaxis, se utiliza en muchas aplicaciones web. Lo bueno de JSON es que tiene un formato legible por el humano, y es una de las grandes razones de su popularidad, además de su eficacia trabajamos con APIs."
   ]
  },
  {
   "cell_type": "markdown",
   "metadata": {},
   "source": [
    "#### Un ejemplo de datos con formato JSON es la siguiente:"
   ]
  },
  {
   "cell_type": "code",
   "execution_count": 2,
   "metadata": {},
   "outputs": [],
   "source": [
    "d = {\"nombre\": \"Alfonso\", \"edad\": 39, \"isEmpleado\": true}"
   ]
  },
  {
   "cell_type": "markdown",
   "metadata": {},
   "source": [
    "## Python y JSON\n",
    "\n",
    "Python hace que sea sencillo trabajar con archivos JSON. El módulo utilizado para este propósito es el módulo json. Este módulo debe ser incluido (built-in) dentro de tu instalación Python y, por lo tanto, no será necesario instalar módulos externos como ya hicimos cuando trabajamos con archivos PDF y Excel, por ejemplo. Lo único que necesitas hacer con el fin de utilizar este módulo es importarlo:"
   ]
  },
  {
   "cell_type": "code",
   "execution_count": 3,
   "metadata": {},
   "outputs": [],
   "source": [
    "import json"
   ]
  },
  {
   "cell_type": "markdown",
   "metadata": {},
   "source": [
    "Pero, ¿qué hace la librería json? Esta librería principalmente parsea el JSON de archivos o strings. También parsea el JSON en un diccionario o en una lista en Python y viceversa, es decir, convierte los diccionarios y las listas de Python en cadenas JSON.\n",
    "\n",
    "## De JSON a Python\n",
    "\n",
    "Leer JSON significa convertir el JSON en un valor de Python (objeto). Como hemos mencionado anteriormente, la librería json parsea el JSON en un diccionario o en una lista en Python. Con el fin de hacer eso, utilizamos la función loads(), de la siguiente manera:"
   ]
  },
  {
   "cell_type": "code",
   "execution_count": 1,
   "metadata": {},
   "outputs": [
    {
     "name": "stdout",
     "output_type": "stream",
     "text": [
      "{'nombre': 'Alfonso', 'edad': 39, 'isEmpleado': True}\n"
     ]
    }
   ],
   "source": [
    "import json\n",
    "\n",
    "jsonData = '{\"nombre\": \"Alfonso\", \"edad\": 39, \"isEmpleado\": true}'\n",
    "\n",
    "jsonToPython = json.loads(jsonData)\n",
    "\n",
    "print(jsonToPython)"
   ]
  },
  {
   "cell_type": "markdown",
   "metadata": {},
   "source": [
    "Es decir, los datos se devuelven como si fuese un diccionario de Python. \n",
    "Por lo tanto, la declaración: "
   ]
  },
  {
   "cell_type": "code",
   "execution_count": 15,
   "metadata": {},
   "outputs": [
    {
     "name": "stdout",
     "output_type": "stream",
     "text": [
      "Alfonso\n"
     ]
    }
   ],
   "source": [
    "print(jsonToPython['nombre'])"
   ]
  },
  {
   "cell_type": "markdown",
   "metadata": {},
   "source": [
    "# De Python a JSON\n",
    "\n",
    "En la sección anterior, hemos visto cómo convertir JSON en un valor de Python (es decir, en un diccionario). \n",
    "En esta sección, voy a mostrar cómo convertir (codificar) un valor de Python a JSON.\n",
    "\n",
    "Tenemos el siguiente diccionario en Python:\n"
   ]
  },
  {
   "cell_type": "code",
   "execution_count": 2,
   "metadata": {},
   "outputs": [
    {
     "name": "stdout",
     "output_type": "stream",
     "text": [
      "{\"nombre\": \"Claudio\", \"edad\": 44, \"isEmpleado\": true}\n"
     ]
    }
   ],
   "source": [
    "import json\n",
    "\n",
    "pythonDictionary = {'nombre':'Claudio', 'edad':44, 'isEmpleado':True}\n",
    "\n",
    "dictionaryToJson = json.dumps(pythonDictionary)\n",
    "\n",
    "print(dictionaryToJson)"
   ]
  },
  {
   "cell_type": "markdown",
   "metadata": {},
   "source": [
    "Esta salida se considera la representación de los datos del objeto (diccionario). El método dumps() fue la clave para dicha operación.\n",
    "\n",
    "Es importante señalar en este punto que, JSON no puede almacenar todo tipo de objetos de Python, sólo los siguientes tipos: Lists, Dictionaries, Booleanas, Numbers, Character Strings y None. Por lo tanto, cualquier otro tipo necesitará ser convertidos a alguno de los mencionados con el fin de ser almacenado en JSON.\n",
    "\n",
    "Supongamos que tenemos la siguiente clase:\n"
   ]
  },
  {
   "cell_type": "code",
   "execution_count": 6,
   "metadata": {},
   "outputs": [],
   "source": [
    "class Empleado(object):\n",
    "    def __init__(self, nombre):\n",
    "        self.nombre = nombre\n",
    "un_empleado = Empleado('Clodomiro')"
   ]
  },
  {
   "cell_type": "markdown",
   "metadata": {},
   "source": [
    "¿Y si quisiéramos convertir este objeto a JSON? \n",
    "Es decir:  \n",
    "hacer json.dumps(un_empleado) En ese caso, obtendrás un error "
   ]
  },
  {
   "cell_type": "markdown",
   "metadata": {
    "jupyter": {
     "outputs_hidden": true
    }
   },
   "source": [
    "x = json.dumps(un_empleado)"
   ]
  },
  {
   "cell_type": "markdown",
   "metadata": {},
   "source": [
    "Para resolver este problema, podemos definir un método similar al siguiente:"
   ]
  },
  {
   "cell_type": "code",
   "execution_count": 4,
   "metadata": {},
   "outputs": [],
   "source": [
    "def jsonDefault(object):\n",
    "    return object.__dict__"
   ]
  },
  {
   "cell_type": "markdown",
   "metadata": {},
   "source": [
    "Codificar posteriormente el objeto en JSON así:"
   ]
  },
  {
   "cell_type": "code",
   "execution_count": 7,
   "metadata": {},
   "outputs": [
    {
     "name": "stdout",
     "output_type": "stream",
     "text": [
      "{\"nombre\": \"Clodomiro\"}\n"
     ]
    }
   ],
   "source": [
    "x = json.dumps(un_empleado, default=jsonDefault)\n",
    "print(x)"
   ]
  },
  {
   "cell_type": "markdown",
   "metadata": {},
   "source": [
    "### Con esto hemos codificado un objeto de Python (Empleado) en JSON."
   ]
  },
  {
   "cell_type": "code",
   "execution_count": null,
   "metadata": {},
   "outputs": [],
   "source": []
  }
 ],
 "metadata": {
  "kernelspec": {
   "display_name": "Python 3",
   "language": "python",
   "name": "python3"
  },
  "language_info": {
   "codemirror_mode": {
    "name": "ipython",
    "version": 3
   },
   "file_extension": ".py",
   "mimetype": "text/x-python",
   "name": "python",
   "nbconvert_exporter": "python",
   "pygments_lexer": "ipython3",
   "version": "3.7.6"
  }
 },
 "nbformat": 4,
 "nbformat_minor": 4
}
