{
 "cells": [
  {
   "cell_type": "markdown",
   "metadata": {},
   "source": [
    "# Data Classes\n",
    "\n",
    "A partir de la versión 3.7 de Python podemos hacer uso de la caracteristica Data classes, una forma muy sencilla con la cual podemos crear clases que posean, principalmente datos.\n",
    "\n",
    "**Para nosotros hacer uso de los Data classes nos apoyaremos del decorador @dataclass.**\n",
    "\n",
    "Una de las características más interesantes de Python 3.7 es el soporte que proporciona el módulo dataclasses con el decorador dataclass para escribir clases de datos.\n",
    "\n",
    "En una clase de datos se generan automáticamente algunos métodos especiales para clases simples. Los nombres de estos métodos, también llamados métodos mágicos, comienzan y finalizan con un doble subrayado como __init__(), __repr__(), __eq__(), entre otros.\n",
    "\n",
    "Como es sabido el método __init__() se utiliza en una clase para inicializar un objeto y se invoca sin hacer una llamada específica, simplemente, cuando se instancia una clase. De ahí, que se le conozca como método constructor.\n",
    "\n",
    "De modo que escribir una clase como la del siguiente ejemplo era lo normal hasta hace muy poco. En este caso la acción de instanciar la clase para crear un objeto lleva implícita la llamada al método __init__() que efectúa las asignaciones de nombre, altura y peso. Por ello, cuando se imprime la altura se obtiene el valor asignado sin que sea necesario hacer nada más:\n"
   ]
  },
  {
   "cell_type": "code",
   "execution_count": 7,
   "metadata": {},
   "outputs": [
    {
     "name": "stdout",
     "output_type": "stream",
     "text": [
      "1.81\n"
     ]
    }
   ],
   "source": [
    "class Deportista:\n",
    "    def __init__(self, nombre, altura, peso):\n",
    "        self.nombre = nombre\n",
    "        self.altura = altura\n",
    "        self.peso = peso\n",
    "\n",
    "deportista1 = Deportista('Elena', 1.81, 64)\n",
    "print(deportista1.altura)  # 1.81"
   ]
  },
  {
   "cell_type": "markdown",
   "metadata": {},
   "source": [
    "Bien, la nueva característica que comentamos permite ahora escribir la clase anterior de forma más simplificada y clara:"
   ]
  },
  {
   "cell_type": "code",
   "execution_count": 8,
   "metadata": {},
   "outputs": [
    {
     "name": "stdout",
     "output_type": "stream",
     "text": [
      "1.81\n"
     ]
    }
   ],
   "source": [
    "from dataclasses import dataclass\n",
    "\n",
    "@dataclass\n",
    "class Deportista:\n",
    "    nombre: str\n",
    "    altura: float\n",
    "    peso: float\n",
    "\n",
    "deportista1 = Deportista('Elena', 1.81, 64)\n",
    "print(deportista1.altura)  # 1.81"
   ]
  },
  {
   "cell_type": "markdown",
   "metadata": {},
   "source": [
    "Como puede observarse a la clase Deportista le precede el decorador dataclass y no tiene definido el método __init__().\n",
    "\n",
    "Una de las funciones del decorador es localizar las variables de clase que llevan anotaciones de tipos para conocer los campos que tiene la clase de datos. Después, con respecto al modo de instanciar la clase no se advierte ningún cambio con respecto al uso habitual.\n",
    "\n",
    "### Los métodos de dataclass\n",
    "\n",
    "La magia obviamente está en el decorador de clase que ayuda a reducir el código porque no solo genera el método __init__(), también hace lo propio con los métodos __str__(), __repr__() y, opcionalmente, con algunos métodos más.\n",
    "\n",
    "Y sabemos que el decorador genera el método __str__() (que devuelve una cadena con una representación legible de los datos) porque es llamado cuando se imprime el objeto o cuando se hace uso de la función str():"
   ]
  },
  {
   "cell_type": "code",
   "execution_count": 9,
   "metadata": {},
   "outputs": [
    {
     "name": "stdout",
     "output_type": "stream",
     "text": [
      "Deportista(nombre='Elena', altura=1.81, peso=64)\n",
      "Deportista(nombre='Elena', altura=1.81, peso=64)\n"
     ]
    }
   ],
   "source": [
    "print(deportista1)  # Deportista(nombre='Elena', altura=1.81, peso=64)\n",
    "\n",
    "atleta = str(deportista1)  \n",
    "print(atleta)  # Deportista(nombre='Elena', altura=1.81, peso=64)"
   ]
  },
  {
   "cell_type": "markdown",
   "metadata": {},
   "source": [
    "Algunos de estos métodos también pueden reescribirse dentro de la clase para modificar su comportamiento predeterminado. En el ejemplo siguiente el método __str__() se ha reescrito y devuelve una cadena con el siguiente formato: 'nombre: altura, peso'"
   ]
  },
  {
   "cell_type": "code",
   "execution_count": 10,
   "metadata": {},
   "outputs": [
    {
     "name": "stdout",
     "output_type": "stream",
     "text": [
      "Elena: 1.81, 64\n"
     ]
    }
   ],
   "source": [
    "@dataclass\n",
    "class Deportista:\n",
    "    nombre: str\n",
    "    altura: float\n",
    "    peso: float\n",
    "    \n",
    "    def __str__(self) -> str:\n",
    "        return f'{self.nombre}: {self.altura}, {self.peso}'\n",
    "\n",
    "deportista1 = Deportista('Elena', 1.81, 64)\n",
    "print(str(deportista1))  # Elena: 1.81, 64"
   ]
  },
  {
   "cell_type": "markdown",
   "metadata": {},
   "source": [
    "### Los parámetros de dataclass\n",
    "\n",
    "El decorador dataclass cuenta también con varios parámetros para ajustar su funcionamiento:\n",
    "\n",
    "@dataclass(init=True, repr=True, eq=True, order=False,unsafe_hash=False, frozen=False)\n",
    "init, repr y eq: Por defecto estos parámetros tienen el valor True para que el decorador genere los métodos __init__(), __repr__() y __eq__(), respectivamente, aunque si la clase los redefine serán ignorados.\n",
    "order: Por defecto tiene el valor False pero si se establece a True el decorador generará los métodos especiales __gt__(), __ge__(), __lt__() y __le__(). En este caso no se permite la reescritura, por lo que si la clase redefine alguno de ellos se producirá una excepción.\n",
    "unsafe_hash: Por defecto tiene el valor False y en este caso el decorador generará el método __hash__() de acuerdo a la configuración que tengan los parámetros eq y frozen.\n",
    "frozen: Por defecto tiene el valor False pero si se establece a True cualquier intento de asignación a los campos producirá una excepción.\n",
    "\n",
    "En el siguiente ejemplo se establece el parámetro order con el valor True para que el decorador dataclass genere los métodos __gt__(), __ge__(), __lt__() y __le__() que se corresponden con las comparaciones \"mayor que\", \"mayor o igual que\", \"menor que\" y \"menor o igual que\", respectivamente.\n",
    "\n",
    "Las variables de clase son inicializadas cuando los objetos se crean omitiendo dichos valores. En este ejemplo se crean tres objetos asignando un valor al campo peso para realizar comparaciones y conocer si el valor del campo en un objeto es \"mayor que\" en otro. Y sabemos que el método __gt__() se ha generado porque es llamado cuando se comparan los objetos con el operador \">\":\n"
   ]
  },
  {
   "cell_type": "code",
   "execution_count": 11,
   "metadata": {},
   "outputs": [
    {
     "name": "stdout",
     "output_type": "stream",
     "text": [
      "False\n",
      "True\n"
     ]
    }
   ],
   "source": [
    "@dataclass(order=True)\n",
    "class Deportista:\n",
    "    nombre: str = 'Desconocido'\n",
    "    altura: float = 0\n",
    "    peso: float = 0\n",
    "\n",
    "deportista1 = Deportista(peso=100,altura = 10)\n",
    "deportista2 = Deportista(peso=64,altura = 100)\n",
    "deportista3 = Deportista(peso=67,altura = 10)\n",
    "\n",
    "print(deportista1 > deportista2)  # True\n",
    "print(deportista1 > deportista3)  # False"
   ]
  },
  {
   "cell_type": "markdown",
   "metadata": {},
   "source": [
    "Ahora es suficiente con cambiar el valor de order a False para verificar que en ese caso los métodos no están disponibles y que se produce una excepción porque la comparación \"mayor que\" no estaría soportada por la clase.\n",
    "\n",
    "En el ejemplo siguiente se establece el parámetro frozen a True con lo cual es posible instanciar la clase para crear objetos pero no es posible asignar valores porque el objeto ha sido \"congelado\". El intento de asignación produce una excepción de tipo dataclasses.FrozenInstanceError:"
   ]
  },
  {
   "cell_type": "code",
   "execution_count": null,
   "metadata": {},
   "outputs": [],
   "source": [
    "@dataclass(frozen=True)\n",
    "class Deportista:\n",
    "    nombre: str = 'Desconocido'\n",
    "    altura: float = 0\n",
    "    peso: float = 0\n",
    "\n",
    "deportista1 = Deportista(peso=64)\n",
    "deportista1.peso = 63  # dataclasses.FrozenInstanceError"
   ]
  },
  {
   "cell_type": "markdown",
   "metadata": {},
   "source": [
    "***La función asdict()***\n",
    "\n",
    "La función asdict() se utiliza para convertir una instancia de clase de datos en un diccionario Python.\n",
    "\n",
    "En el ejemplo siguiente se importa la función asdict que se emplea para convertir el objeto deportista1 en un diccionario usando los campos de la clase de datos para definir sus claves y sus valores:\n"
   ]
  },
  {
   "cell_type": "code",
   "execution_count": 12,
   "metadata": {},
   "outputs": [
    {
     "name": "stdout",
     "output_type": "stream",
     "text": [
      "{'nombre': 'Elena', 'altura': 1.81, 'peso': 64}\n",
      "Elena supera la altura\n"
     ]
    }
   ],
   "source": [
    "from dataclasses import dataclass, asdict\n",
    "\n",
    "@dataclass\n",
    "class Deportista:\n",
    "    nombre: str\n",
    "    altura: float\n",
    "    peso: float\n",
    "\n",
    "deportista1 = Deportista('Elena', 1.81, 64)\n",
    "dicc1 = asdict(deportista1)\n",
    "print(dicc1)\n",
    "if dicc1['altura'] > 1.75:\n",
    "   print(dicc1['nombre'], 'supera la altura')"
   ]
  },
  {
   "cell_type": "markdown",
   "metadata": {},
   "source": [
    "***La función field()***\n",
    "\n",
    "La función field() permite facilitar información adicional al decorador relativa a cada campo que la utilizará en la generación de los métodos.\n",
    "\n",
    "En el ejemplo que sigue para el atributo peso se establecen los parámetros init y repr a False. Esto indica al decorador que el objeto podrá crearse sin el atributo peso y que cuando se imprima su representación será omitida esta información. No obstante, como el atributo peso existe se le podrá asignar un valor en cualquier momento y acceder al mismo después de la asignación.\n"
   ]
  },
  {
   "cell_type": "code",
   "execution_count": null,
   "metadata": {},
   "outputs": [],
   "source": [
    "from dataclasses import dataclass, field\n",
    "\n",
    "@dataclass\n",
    "class Deportista:\n",
    "    nombre: str\n",
    "    altura: float\n",
    "    peso: float = field(init=False, repr=False)\n",
    "\n",
    "deportista1 = Deportista('Elena', 1.81)\n",
    "deportista1.peso = 64\n",
    "print(deportista1)  # Deportista(nombre='Elena', altura=1.81)\n",
    "print(deportista1.peso)  # 64\n"
   ]
  },
  {
   "cell_type": "markdown",
   "metadata": {},
   "source": [
    "***Herencia***\n",
    "\n",
    "Las clases de datos también pueden heredar atributos y métodos de otras clases de datos.\n",
    "\n",
    "En el siguiente ejemplo la clase de datos Equipo hereda de la clase Deportista sus variables y métodos aunque en esta ocasión ambas clases redefinen el método __str__() para que al ser llamado muestre información diferente en cada ámbito.\n",
    "\n",
    "En la clase que hereda, Equipo, la variable equipo debe tener un valor por defecto para que cuando se instancie la clase Deportista no se produzca una excepción de tipo TypeError. Esto es así, aún cuando el atributo equipo queda fuera del alcance de la clase Deportista.\n"
   ]
  },
  {
   "cell_type": "code",
   "execution_count": null,
   "metadata": {},
   "outputs": [],
   "source": [
    "from dataclasses import dataclass\n",
    "\n",
    "@dataclass\n",
    "class Deportista:\n",
    "    nombre: str\n",
    "    altura: float = 0\n",
    "    peso: float = 0\n",
    "    \n",
    "    def se_traslada(self):\n",
    "        print(\"Caminando\")\n",
    "    \n",
    "    def __str__(self) -> str:\n",
    "        return f'{self.nombre}: {self.altura}, {self.peso}'\n",
    "\n",
    "@dataclass\n",
    "class Equipo(Deportista):\n",
    "    equipo: str = 'desconocido'\n",
    "\n",
    "    def __str__(self) -> str:\n",
    "        return f'{self.nombre}: {self.equipo}'\n",
    "\n",
    "# Instancia la clase Deportista para crear objeto:\n",
    "deportista1 = Deportista('Elena', 1.81, 64)\n",
    "\n",
    "# Imprime llamando al método __str__() de\n",
    "# la clase Deportista:\n",
    "print(deportista1)  # Elena: 1.81, 64\n",
    "\n",
    "# Instancia la clase Equipo para crear objeto:\n",
    "deportista2 = Equipo('Marta', equipo='Sevilla')\n",
    "\n",
    "# Imprime llamando al método __str__() de\n",
    "# la clase Equipo:\n",
    "print(deportista2)  # Marta: Sevilla\n",
    "\n",
    "# Asigna valores a atributos de objeto de la clase Equipo:\n",
    "deportista2.altura = 1.76\n",
    "deportista2.peso = 68\n",
    "\n",
    "# Imprime representación formal de objeto de la clase Equipo:\n",
    "print(repr(deportista2))\n",
    "\n",
    "# Equipo(nombre='Marta', altura=1.76, peso=68, equipo='Sevilla')"
   ]
  },
  {
   "cell_type": "code",
   "execution_count": null,
   "metadata": {},
   "outputs": [],
   "source": []
  }
 ],
 "metadata": {
  "kernelspec": {
   "display_name": "Python 3",
   "language": "python",
   "name": "python3"
  },
  "language_info": {
   "codemirror_mode": {
    "name": "ipython",
    "version": 3
   },
   "file_extension": ".py",
   "mimetype": "text/x-python",
   "name": "python",
   "nbconvert_exporter": "python",
   "pygments_lexer": "ipython3",
   "version": "3.10.4"
  }
 },
 "nbformat": 4,
 "nbformat_minor": 4
}
