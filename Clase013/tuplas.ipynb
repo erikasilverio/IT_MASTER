{
 "cells": [
  {
   "attachments": {},
   "cell_type": "markdown",
   "metadata": {},
   "source": [
    "***\n",
    "# <center>Tuplas</center>\n",
    "***"
   ]
  },
  {
   "attachments": {},
   "cell_type": "markdown",
   "metadata": {},
   "source": [
    "## Una tupla es una secuencia **inmutable** de elementos. Esto significa que una vez creada, no se puede modificar, agregar o eliminar elementos en la tupla.\n",
    "\n",
    "### Las tuplas se definen utilizando paréntesis () , la función tuple() o simplemente asignando variables o valores separados por ','. Los elementos están separados por comas.\n",
    "\n",
    "Por ejemplo, puedes crear una tupla que contenga los días de la semana de la siguiente manera:"
   ]
  },
  {
   "cell_type": "code",
   "execution_count": 1,
   "metadata": {},
   "outputs": [
    {
     "name": "stdout",
     "output_type": "stream",
     "text": [
      "\n",
      "Días de la semana:\n",
      "('Lunes', 'Martes', 'Miércoles', 'Jueves', 'Viernes', 'Sábado', 'Domingo')\n"
     ]
    }
   ],
   "source": [
    "dias_semana = ('Lunes', 'Martes', 'Miércoles', 'Jueves', 'Viernes', 'Sábado', 'Domingo')\n",
    "\n",
    "print(f'\\nDías de la semana:\\n{dias_semana}')"
   ]
  },
  {
   "attachments": {},
   "cell_type": "markdown",
   "metadata": {},
   "source": [
    "### En este caso, dias_semana es una tupla que contiene los días de la semana como elementos. Puedes acceder a los elementos de una tupla utilizando su índice.  \n",
    "\n",
    "Por ejemplo, para obtener el primer día de la semana:"
   ]
  },
  {
   "cell_type": "code",
   "execution_count": null,
   "metadata": {},
   "outputs": [],
   "source": [
    "# tupla  ==> ('Lunes', 'Martes', 'Miércoles', 'Jueves', 'Viernes', 'Sábado', 'Domingo')\n",
    "# indice ==>     0        1           2           3         4          5          6\n",
    "primer_dia = dias_semana[0] # 0 es el índice del primer elemento\n",
    "print(primer_dia)  # Salida: Lunes"
   ]
  },
  {
   "attachments": {},
   "cell_type": "markdown",
   "metadata": {},
   "source": [
    "### Una tupla es **iterable**, lo que significa que puedes recorrer sus elementos utilizando un ciclo de control.\n",
    "\n",
    "Por ejemplo, para imprimir los días de la semana:"
   ]
  },
  {
   "cell_type": "code",
   "execution_count": 2,
   "metadata": {},
   "outputs": [
    {
     "name": "stdout",
     "output_type": "stream",
     "text": [
      "-----------------------------------\n",
      "los dias de la semana son: \n",
      "-----------------------------------\n",
      "Lunes\n",
      "Martes\n",
      "Miércoles\n",
      "Jueves\n",
      "Viernes\n",
      "Sábado\n",
      "Domingo\n",
      "-----------------------------------\n"
     ]
    }
   ],
   "source": [
    "print('-'*35)\n",
    "print(\"los dias de la semana son: \")\n",
    "print('-'*35)\n",
    "for dia in dias_semana: # Recorremos la tupla elemento a elemento (dia a dia)\n",
    "    # Para cada día, imprimimos el día\n",
    "    print(dia)\n",
    "print('-'*35)"
   ]
  },
  {
   "attachments": {},
   "cell_type": "markdown",
   "metadata": {},
   "source": [
    "### Tambien puedes usar un indice para recorrer los elementos de una tupla."
   ]
  },
  {
   "cell_type": "code",
   "execution_count": 3,
   "metadata": {},
   "outputs": [
    {
     "name": "stdout",
     "output_type": "stream",
     "text": [
      "-----------------------------------\n",
      "los meses del año son: \n",
      "-----------------------------------\n",
      "Enero\n",
      "Febrero\n",
      "Marzo\n",
      "Abril\n",
      "Mayo\n",
      "Junio\n",
      "Julio\n",
      "Agosto\n",
      "Septiembre\n",
      "Octubre\n",
      "Noviembre\n",
      "Diciembre\n",
      "-----------------------------------\n"
     ]
    }
   ],
   "source": [
    "meses = ('Enero','Febrero','Marzo','Abril','Mayo','Junio','Julio','Agosto','Septiembre','Octubre','Noviembre','Diciembre')\n",
    "print('-'*35)\n",
    "print(\"los meses del año son: \")\n",
    "print('-'*35)\n",
    "index = 0\n",
    "while index < len(meses): # mientras el indice sea menor que la longitud de la tupla\n",
    "    # Imprimimos el mes en la posición que indica el index\n",
    "    print(meses[index])\n",
    "    index += 1 # Sumamos 1 al index para que en la siguiente iteración se imprima el siguiente mes\n",
    "print('-'*35)"
   ]
  },
  {
   "attachments": {},
   "cell_type": "markdown",
   "metadata": {},
   "source": [
    "### Como vimos en el ejemplo anterior a las tuplas se les puede aplicar la función len() para obtener su longitud.\n",
    "### Podriamos decir que las tuplas son **medibles**, además de ser **iterables** e **inmutables**.\n",
    "\n",
    "Por ejemplo, para obtener la cantidad de días de la semana o la cantidad de meses del año:"
   ]
  },
  {
   "cell_type": "code",
   "execution_count": 4,
   "metadata": {},
   "outputs": [
    {
     "name": "stdout",
     "output_type": "stream",
     "text": [
      "La cantidad de meses es: 12\n",
      "La cantidad de dias de la semana es: 7\n"
     ]
    }
   ],
   "source": [
    "cantidad_meses = len(meses)\n",
    "print(f\"La cantidad de meses es: {cantidad_meses}\")\n",
    "print(f\"La cantidad de dias de la semana es: {len(dias_semana)}\")"
   ]
  },
  {
   "attachments": {},
   "cell_type": "markdown",
   "metadata": {},
   "source": [
    "### La función enumerate() se utiliza en Python para iterar sobre una secuencia mientras se lleva un registro del índice de cada elemento. Proporciona una forma conveniente de obtener tanto el índice como el valor de cada elemento mientras se itera.\n",
    "\n",
    "La sintaxis básica de enumerate() es la siguiente:"
   ]
  },
  {
   "cell_type": "code",
   "execution_count": 5,
   "metadata": {},
   "outputs": [
    {
     "name": "stdout",
     "output_type": "stream",
     "text": [
      "-----------------------------------\n",
      "las frutas son: \n",
      "-----------------------------------\n",
      "0 manzana\n",
      "1 banana\n",
      "2 cereza\n",
      "3 naranja\n",
      "4 pera\n",
      "5 melon\n",
      "6 sandia\n",
      "7 pomelo\n",
      "8 frutilla\n",
      "9 frambuesa\n",
      "10 mandarina\n",
      "11 ciruela\n",
      "12 durazno\n",
      "13 anana\n",
      "-----------------------------------\n"
     ]
    }
   ],
   "source": [
    "frutas = ('manzana', 'banana', 'cereza', 'naranja', 'pera', 'melon', 'sandia', 'pomelo', 'frutilla', 'frambuesa', 'mandarina', 'ciruela', 'durazno','anana')\n",
    "\n",
    "print('-'*35)\n",
    "print(\"las frutas son: \")\n",
    "print('-'*35)\n",
    "for indice, fruta in enumerate(frutas):\n",
    "    print(indice, fruta)\n",
    "print('-'*35)"
   ]
  },
  {
   "attachments": {},
   "cell_type": "markdown",
   "metadata": {},
   "source": [
    "### Cuando se utiliza **enumerate()**, ésta funcion retorna un objeto iterable con dos elementos, el primer elemento es el índice y el segundo elemento es el valor. De esta forma, tenemos al mismo tiempo los elementos y sus índices.\n",
    "\n",
    "### Este objeto iterable puede ser convertido en una tupla utilizando la función tuple()."
   ]
  },
  {
   "cell_type": "code",
   "execution_count": 6,
   "metadata": {},
   "outputs": [
    {
     "name": "stdout",
     "output_type": "stream",
     "text": [
      "<enumerate object at 0x00000233E8866640>\n",
      "((0, 'Lunes'), (1, 'Martes'), (2, 'Miércoles'), (3, 'Jueves'), (4, 'Viernes'), (5, 'Sábado'), (6, 'Domingo'))\n"
     ]
    }
   ],
   "source": [
    "print(enumerate(dias_semana)) # enumerate devuelve un objeto de tipo enumerate no una tupla\n",
    "tupla = tuple(enumerate(dias_semana)) # Convierto el objeto enumerate en una tupla\n",
    "print(tupla) # Imprimo la tupla"
   ]
  },
  {
   "attachments": {},
   "cell_type": "markdown",
   "metadata": {},
   "source": [
    "## Empaquetar y desempaquetar tuplas\n",
    "\n",
    "### Empaquetar es el proceso de asignar valores a una tupla. Por ejemplo, si queremos crear una tupla que contenga los numeros 1,3,4,5 podemos hacerlo de la siguiente manera:"
   ]
  },
  {
   "cell_type": "code",
   "execution_count": 8,
   "metadata": {},
   "outputs": [
    {
     "name": "stdout",
     "output_type": "stream",
     "text": [
      "tupla1: (1, 2, 3, 4, 5, 6, 7, 8, 9, 10)\n",
      "tupla2: (1, 2, 3, 4, 5, 6, 7, 8, 9, 10)\n",
      "tupla3: (1,)\n",
      "tupla4: (1,)\n"
     ]
    }
   ],
   "source": [
    "tupla1 = 1,2,3,4,5,6,7,8,9,10 # Tupla sin paréntesis\n",
    "print(f'tupla1: {tupla1}')\n",
    "tupla2= (1,2,3,4,5,6,7,8,9,10) # Tupla con paréntesis\n",
    "print(f'tupla2: {tupla2}')\n",
    "tupla3 = (1,) # Tupla de un solo elemento\n",
    "print(f'tupla3: {tupla3}')\n",
    "tupla4 = 1, # Tupla de un solo elemento\n",
    "print(f'tupla4: {tupla4}')\n"
   ]
  },
  {
   "attachments": {},
   "cell_type": "markdown",
   "metadata": {},
   "source": [
    "### Desempaquetar es el proceso de asignar los valores de una tupla a variables. Por ejemplo, si queremos asignar los valores de la tupla anterior a las variables a,b,c,d,e,f,g,h,i,j podemos hacerlo de la siguiente manera:"
   ]
  },
  {
   "cell_type": "code",
   "execution_count": 9,
   "metadata": {},
   "outputs": [
    {
     "name": "stdout",
     "output_type": "stream",
     "text": [
      "a: 1\n",
      "b: 2\n",
      "c: 3\n",
      "........\n",
      "j: 10\n",
      "x: 1\n"
     ]
    }
   ],
   "source": [
    "a,b,c,d,e,f,g,h,i,j = tupla1 # Desempaquetado de tupla\n",
    "print(f'a: {a}')\n",
    "print(f'b: {b}')\n",
    "print(f'c: {c}')\n",
    "print(f'........')\n",
    "print(f'j: {j}')\n",
    "\n",
    "# Desempaquetado de tupla3\n",
    "x = tupla3[0]\n",
    "print(f'x: {x}')"
   ]
  },
  {
   "attachments": {},
   "cell_type": "markdown",
   "metadata": {},
   "source": [
    "### El número de variables debe ser igual al número de elementos de la tupla. De lo contrario, obtendrás un error."
   ]
  },
  {
   "attachments": {},
   "cell_type": "markdown",
   "metadata": {},
   "source": [
    "## Operar con tuplas\n",
    "\n",
    "### Las tuplas se pueden concatenar utilizando el operador +. Por ejemplo, si queremos crear una tupla que contenga los números del 1 al 5 y los números del 6 al 10, podemos hacerlo de la siguiente manera:"
   ]
  },
  {
   "cell_type": "code",
   "execution_count": 10,
   "metadata": {},
   "outputs": [
    {
     "name": "stdout",
     "output_type": "stream",
     "text": [
      "tupla1: (1, 2, 3, 4, 5)\n",
      "tupla2: (6, 7, 8, 9, 10)\n",
      "tupla_concatenada: (1, 2, 3, 4, 5, 6, 7, 8, 9, 10)\n"
     ]
    }
   ],
   "source": [
    "tupla1 = (1,2,3,4,5)\n",
    "print(f'tupla1: {tupla1}')\n",
    "tupla2 = (6,7,8,9,10)\n",
    "print(f'tupla2: {tupla2}')\n",
    "tupla_concatenada = tupla1 + tupla2 # Concatenación de tuplas\n",
    "print(f'tupla_concatenada: {tupla_concatenada}')\n"
   ]
  },
  {
   "attachments": {},
   "cell_type": "markdown",
   "metadata": {},
   "source": [
    "### Acumular es el proceso de agregar elementos a una tupla. Por ejemplo, si queremos agregar los números del 11 al 15 a la tupla anterior, podemos hacerlo de la siguiente manera:"
   ]
  },
  {
   "cell_type": "code",
   "execution_count": null,
   "metadata": {},
   "outputs": [],
   "source": [
    "\n",
    "for numero in range(11, 16): # Itero sobre el rango de números del 11 al 15\n",
    "    tupla_concatenada += (numero,) # Concateno cada número a la tupla\n",
    "print(f'tupla_concatenada: {tupla_concatenada}') # Imprimo la tupla concatenada"
   ]
  },
  {
   "attachments": {},
   "cell_type": "markdown",
   "metadata": {},
   "source": [
    "### Multiplicar es el proceso de repetir los elementos de una tupla. Por ejemplo, si queremos crear una tupla que contenga los números del 1 al 5 repetidos 3 veces, podemos hacerlo de la siguiente manera:"
   ]
  },
  {
   "cell_type": "code",
   "execution_count": 11,
   "metadata": {},
   "outputs": [
    {
     "name": "stdout",
     "output_type": "stream",
     "text": [
      "tupla_repetida1: ('a', 'b', 'c', 'a', 'b', 'c', 'a', 'b', 'c')\n",
      "tupla_repetida2: ()\n",
      "tupla_repetida3: ()\n"
     ]
    }
   ],
   "source": [
    "tupla_repetida1 = ('a', 'b', 'c') * 3 # Repito la tupla 3 veces\n",
    "print(f'tupla_repetida1: {tupla_repetida1}')\n",
    "tupla_repetida2 = ('a', 'b', 'c') * 0 # Repito la tupla 0 veces\n",
    "print(f'tupla_repetida2: {tupla_repetida2}')\n",
    "tupla_repetida3 = ('a', 'b', 'c') * -1 # Repito la tupla -1 veces\n",
    "print(f'tupla_repetida3: {tupla_repetida3}')\n"
   ]
  },
  {
   "attachments": {},
   "cell_type": "markdown",
   "metadata": {},
   "source": [
    "### Comparar tuplas: Las tuplas se pueden comparar utilizando los operadores de comparación. Por ejemplo, si queremos comparar las tuplas (1,2,3) y (1,2,4), podemos hacerlo de la siguiente manera:"
   ]
  },
  {
   "cell_type": "code",
   "execution_count": 12,
   "metadata": {},
   "outputs": [
    {
     "name": "stdout",
     "output_type": "stream",
     "text": [
      "tupla1: (1, 2, 3)\n",
      "tupla2: (1, 2, 4)\n",
      "tupla 1 > tupla 2: False\n",
      "tupla 1 < tupla 2: True\n",
      "tupla 1 == tupla 2: False\n",
      "tupla 1 != tupla 2: True\n",
      "tupla 1 >= tupla 2: False\n",
      "tupla 1 <= tupla 2: True\n"
     ]
    }
   ],
   "source": [
    "\n",
    "tupla1 = (1,2,3)\n",
    "tupla2 = (1,2,4)\n",
    "print(f'tupla1: {tupla1}')\n",
    "print(f'tupla2: {tupla2}')\n",
    "print(f'tupla 1 > tupla 2: {tupla1 > tupla2}')\n",
    "print(f'tupla 1 < tupla 2: {tupla1 < tupla2}')\n",
    "print(f'tupla 1 == tupla 2: {tupla1 == tupla2}')\n",
    "print(f'tupla 1 != tupla 2: {tupla1 != tupla2}')\n",
    "print(f'tupla 1 >= tupla 2: {tupla1 >= tupla2}')\n",
    "print(f'tupla 1 <= tupla 2: {tupla1 <= tupla2}')"
   ]
  },
  {
   "attachments": {},
   "cell_type": "markdown",
   "metadata": {},
   "source": [
    "### Las tuplas son útiles cuando necesitas almacenar una colección de elementos inmutables, y a menudo se utilizan para devolver múltiples valores desde una función. \n",
    "\n",
    "Por ejemplo:"
   ]
  },
  {
   "cell_type": "code",
   "execution_count": 13,
   "metadata": {},
   "outputs": [
    {
     "name": "stdout",
     "output_type": "stream",
     "text": [
      "(40.7128, -74.006)\n"
     ]
    }
   ],
   "source": [
    "def obtener_coordenadas():\n",
    "    latitud = 40.7128\n",
    "    longitud = -74.0060\n",
    "    return latitud, longitud # Devuelvo una tupla con las coordenadas\n",
    "\n",
    "coordenadas = obtener_coordenadas()\n",
    "print(coordenadas)  # Salida: (40.7128, -74.0060)\n",
    "\n",
    "\n",
    "a = 1\n",
    "b = 2\n",
    "\n",
    "a,b = b,a"
   ]
  }
 ],
 "metadata": {
  "kernelspec": {
   "display_name": "Python 3",
   "language": "python",
   "name": "python3"
  },
  "language_info": {
   "codemirror_mode": {
    "name": "ipython",
    "version": 3
   },
   "file_extension": ".py",
   "mimetype": "text/x-python",
   "name": "python",
   "nbconvert_exporter": "python",
   "pygments_lexer": "ipython3",
   "version": "3.10.4"
  },
  "orig_nbformat": 4
 },
 "nbformat": 4,
 "nbformat_minor": 2
}
